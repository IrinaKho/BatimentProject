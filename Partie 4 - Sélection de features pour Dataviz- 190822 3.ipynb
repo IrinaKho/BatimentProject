{
 "cells": [
  {
   "cell_type": "code",
   "execution_count": 1,
   "id": "1e137a06",
   "metadata": {},
   "outputs": [],
   "source": [
    "# A l'issue du NB 3, notre dataset compte 49 variables. Toutes ne peuvent pas être traitées et présentées en DataViz.\n",
    "# Objectif de ce notebook 4 : extraire les variables les plus significatives que nous présenterons en Dataviz ().\n",
    "# Méthode suggérée par Alban : faire un remplacement de Nan par la médiane pour toutes les variables numériques \n",
    "# et par le mode pour toutes les variables catégorielles.\n",
    "# Puis après prétraitement (dichotomisation, standardisation...), lancer des modèles de classification \n",
    "# et extraire les variables les plus importantes.\n",
    "# A l'issue de ce notebook, on note que les modèles ne sont par performants.\n",
    "# On décide de retravailler chaque variable une par une, en même temps que nous faisons la DataViz (voir NB suivant)\n"
   ]
  },
  {
   "cell_type": "code",
   "execution_count": 2,
   "id": "62264575",
   "metadata": {},
   "outputs": [],
   "source": [
    "import pandas as pd\n",
    "import numpy as np\n"
   ]
  },
  {
   "cell_type": "code",
   "execution_count": 3,
   "id": "5363104e",
   "metadata": {},
   "outputs": [],
   "source": [
    "df_selec=pd.read_csv(\"df_selec.csv\", index_col=\"idmutation\")"
   ]
  },
  {
   "cell_type": "code",
   "execution_count": 4,
   "id": "87aeb060",
   "metadata": {},
   "outputs": [
    {
     "data": {
      "text/html": [
       "<div>\n",
       "<style scoped>\n",
       "    .dataframe tbody tr th:only-of-type {\n",
       "        vertical-align: middle;\n",
       "    }\n",
       "\n",
       "    .dataframe tbody tr th {\n",
       "        vertical-align: top;\n",
       "    }\n",
       "\n",
       "    .dataframe thead th {\n",
       "        text-align: right;\n",
       "    }\n",
       "</style>\n",
       "<table border=\"1\" class=\"dataframe\">\n",
       "  <thead>\n",
       "    <tr style=\"text-align: right;\">\n",
       "      <th></th>\n",
       "      <th>y</th>\n",
       "      <th>idnatmut</th>\n",
       "      <th>libnatmut</th>\n",
       "      <th>vefa</th>\n",
       "      <th>valeurfonc</th>\n",
       "      <th>nblot</th>\n",
       "      <th>nbcomm</th>\n",
       "      <th>l_codinsee</th>\n",
       "      <th>nblocapt</th>\n",
       "      <th>nblocdep</th>\n",
       "      <th>...</th>\n",
       "      <th>georad2020_alea</th>\n",
       "      <th>igntop202103_bat_hauteur</th>\n",
       "      <th>mcumer202007_is_mer</th>\n",
       "      <th>adedpe202006_logtype_s_hab</th>\n",
       "      <th>baie_orientation_sud</th>\n",
       "      <th>baie_orientation_nord</th>\n",
       "      <th>baie_orientation_ouest</th>\n",
       "      <th>baie_orientation_est</th>\n",
       "      <th>baie_orientation_autre</th>\n",
       "      <th>Commerces_bruyants</th>\n",
       "    </tr>\n",
       "    <tr>\n",
       "      <th>idmutation</th>\n",
       "      <th></th>\n",
       "      <th></th>\n",
       "      <th></th>\n",
       "      <th></th>\n",
       "      <th></th>\n",
       "      <th></th>\n",
       "      <th></th>\n",
       "      <th></th>\n",
       "      <th></th>\n",
       "      <th></th>\n",
       "      <th></th>\n",
       "      <th></th>\n",
       "      <th></th>\n",
       "      <th></th>\n",
       "      <th></th>\n",
       "      <th></th>\n",
       "      <th></th>\n",
       "      <th></th>\n",
       "      <th></th>\n",
       "      <th></th>\n",
       "      <th></th>\n",
       "    </tr>\n",
       "  </thead>\n",
       "  <tbody>\n",
       "    <tr>\n",
       "      <th>7819809</th>\n",
       "      <td>0</td>\n",
       "      <td>1</td>\n",
       "      <td>Vente</td>\n",
       "      <td>f</td>\n",
       "      <td>370000.0</td>\n",
       "      <td>1</td>\n",
       "      <td>1</td>\n",
       "      <td>75101</td>\n",
       "      <td>1</td>\n",
       "      <td>1</td>\n",
       "      <td>...</td>\n",
       "      <td>Faible</td>\n",
       "      <td>20.2</td>\n",
       "      <td>1.0</td>\n",
       "      <td>75.0</td>\n",
       "      <td>1</td>\n",
       "      <td>0</td>\n",
       "      <td>0</td>\n",
       "      <td>0</td>\n",
       "      <td>0</td>\n",
       "      <td>1</td>\n",
       "    </tr>\n",
       "    <tr>\n",
       "      <th>7819819</th>\n",
       "      <td>0</td>\n",
       "      <td>1</td>\n",
       "      <td>Vente</td>\n",
       "      <td>f</td>\n",
       "      <td>682000.0</td>\n",
       "      <td>2</td>\n",
       "      <td>1</td>\n",
       "      <td>75111</td>\n",
       "      <td>1</td>\n",
       "      <td>1</td>\n",
       "      <td>...</td>\n",
       "      <td>Faible</td>\n",
       "      <td>35.0</td>\n",
       "      <td>1.0</td>\n",
       "      <td>24.0</td>\n",
       "      <td>0</td>\n",
       "      <td>0</td>\n",
       "      <td>1</td>\n",
       "      <td>0</td>\n",
       "      <td>0</td>\n",
       "      <td>1</td>\n",
       "    </tr>\n",
       "    <tr>\n",
       "      <th>7819821</th>\n",
       "      <td>0</td>\n",
       "      <td>1</td>\n",
       "      <td>Vente</td>\n",
       "      <td>f</td>\n",
       "      <td>451000.0</td>\n",
       "      <td>1</td>\n",
       "      <td>1</td>\n",
       "      <td>75117</td>\n",
       "      <td>1</td>\n",
       "      <td>0</td>\n",
       "      <td>...</td>\n",
       "      <td>Faible</td>\n",
       "      <td>18.8</td>\n",
       "      <td>1.0</td>\n",
       "      <td>36.0</td>\n",
       "      <td>0</td>\n",
       "      <td>1</td>\n",
       "      <td>0</td>\n",
       "      <td>0</td>\n",
       "      <td>0</td>\n",
       "      <td>0</td>\n",
       "    </tr>\n",
       "    <tr>\n",
       "      <th>7819822</th>\n",
       "      <td>0</td>\n",
       "      <td>1</td>\n",
       "      <td>Vente</td>\n",
       "      <td>f</td>\n",
       "      <td>433000.0</td>\n",
       "      <td>3</td>\n",
       "      <td>1</td>\n",
       "      <td>75115</td>\n",
       "      <td>1</td>\n",
       "      <td>1</td>\n",
       "      <td>...</td>\n",
       "      <td>Faible</td>\n",
       "      <td>18.0</td>\n",
       "      <td>1.0</td>\n",
       "      <td>49.0</td>\n",
       "      <td>0</td>\n",
       "      <td>1</td>\n",
       "      <td>0</td>\n",
       "      <td>0</td>\n",
       "      <td>0</td>\n",
       "      <td>0</td>\n",
       "    </tr>\n",
       "    <tr>\n",
       "      <th>7819824</th>\n",
       "      <td>1</td>\n",
       "      <td>1</td>\n",
       "      <td>Vente</td>\n",
       "      <td>f</td>\n",
       "      <td>561076.0</td>\n",
       "      <td>1</td>\n",
       "      <td>1</td>\n",
       "      <td>75118</td>\n",
       "      <td>1</td>\n",
       "      <td>0</td>\n",
       "      <td>...</td>\n",
       "      <td>Faible</td>\n",
       "      <td>18.9</td>\n",
       "      <td>1.0</td>\n",
       "      <td>100.0</td>\n",
       "      <td>0</td>\n",
       "      <td>1</td>\n",
       "      <td>0</td>\n",
       "      <td>0</td>\n",
       "      <td>0</td>\n",
       "      <td>1</td>\n",
       "    </tr>\n",
       "  </tbody>\n",
       "</table>\n",
       "<p>5 rows × 48 columns</p>\n",
       "</div>"
      ],
      "text/plain": [
       "            y  idnatmut libnatmut vefa  valeurfonc  nblot  nbcomm  l_codinsee  \\\n",
       "idmutation                                                                      \n",
       "7819809     0         1     Vente    f    370000.0      1       1       75101   \n",
       "7819819     0         1     Vente    f    682000.0      2       1       75111   \n",
       "7819821     0         1     Vente    f    451000.0      1       1       75117   \n",
       "7819822     0         1     Vente    f    433000.0      3       1       75115   \n",
       "7819824     1         1     Vente    f    561076.0      1       1       75118   \n",
       "\n",
       "            nblocapt  nblocdep  ...  georad2020_alea  \\\n",
       "idmutation                      ...                    \n",
       "7819809            1         1  ...           Faible   \n",
       "7819819            1         1  ...           Faible   \n",
       "7819821            1         0  ...           Faible   \n",
       "7819822            1         1  ...           Faible   \n",
       "7819824            1         0  ...           Faible   \n",
       "\n",
       "            igntop202103_bat_hauteur  mcumer202007_is_mer  \\\n",
       "idmutation                                                  \n",
       "7819809                         20.2                  1.0   \n",
       "7819819                         35.0                  1.0   \n",
       "7819821                         18.8                  1.0   \n",
       "7819822                         18.0                  1.0   \n",
       "7819824                         18.9                  1.0   \n",
       "\n",
       "            adedpe202006_logtype_s_hab  baie_orientation_sud  \\\n",
       "idmutation                                                     \n",
       "7819809                           75.0                     1   \n",
       "7819819                           24.0                     0   \n",
       "7819821                           36.0                     0   \n",
       "7819822                           49.0                     0   \n",
       "7819824                          100.0                     0   \n",
       "\n",
       "            baie_orientation_nord  baie_orientation_ouest  \\\n",
       "idmutation                                                  \n",
       "7819809                         0                       0   \n",
       "7819819                         0                       1   \n",
       "7819821                         1                       0   \n",
       "7819822                         1                       0   \n",
       "7819824                         1                       0   \n",
       "\n",
       "            baie_orientation_est  baie_orientation_autre  Commerces_bruyants  \n",
       "idmutation                                                                    \n",
       "7819809                        0                       0                   1  \n",
       "7819819                        0                       0                   1  \n",
       "7819821                        0                       0                   0  \n",
       "7819822                        0                       0                   0  \n",
       "7819824                        0                       0                   1  \n",
       "\n",
       "[5 rows x 48 columns]"
      ]
     },
     "execution_count": 4,
     "metadata": {},
     "output_type": "execute_result"
    }
   ],
   "source": [
    "df_selec.head()"
   ]
  },
  {
   "cell_type": "code",
   "execution_count": 5,
   "id": "4d26e01a",
   "metadata": {},
   "outputs": [
    {
     "name": "stdout",
     "output_type": "stream",
     "text": [
      "<class 'pandas.core.frame.DataFrame'>\n",
      "Int64Index: 114072 entries, 7819809 to 8843184\n",
      "Data columns (total 48 columns):\n",
      " #   Column                                       Non-Null Count   Dtype  \n",
      "---  ------                                       --------------   -----  \n",
      " 0   y                                            114072 non-null  int64  \n",
      " 1   idnatmut                                     114072 non-null  int64  \n",
      " 2   libnatmut                                    114072 non-null  object \n",
      " 3   vefa                                         114072 non-null  object \n",
      " 4   valeurfonc                                   114033 non-null  float64\n",
      " 5   nblot                                        114072 non-null  int64  \n",
      " 6   nbcomm                                       114072 non-null  int64  \n",
      " 7   l_codinsee                                   114072 non-null  int64  \n",
      " 8   nblocapt                                     114072 non-null  int64  \n",
      " 9   nblocdep                                     114072 non-null  int64  \n",
      " 10  nbapt2pp                                     114072 non-null  int64  \n",
      " 11  nbapt3pp                                     114072 non-null  int64  \n",
      " 12  sbati                                        114072 non-null  int64  \n",
      " 13  sbatapt                                      114072 non-null  int64  \n",
      " 14  sbatact                                      114072 non-null  int64  \n",
      " 15  sapt2pp                                      114072 non-null  int64  \n",
      " 16  sapt3pp                                      114072 non-null  int64  \n",
      " 17  scarrez                                      114072 non-null  float64\n",
      " 18  anarnc202012_nb_log                          105340 non-null  float64\n",
      " 19  anarnc202012_nb_lot_garpark                  105340 non-null  float64\n",
      " 20  anarnc202012_nb_lot_tertiaire                105340 non-null  float64\n",
      " 21  anarnc202012_nb_lot_tot                      105340 non-null  float64\n",
      " 22  adedpe202006_logtype_baie_type_vitrage       106602 non-null  object \n",
      " 23  adedpe202006_logtype_ch_gen_lib_princ        107050 non-null  object \n",
      " 24  adedpe202006_logtype_classe_conso_ener       107820 non-null  object \n",
      " 25  adedpe202006_logtype_classe_estim_ges        107820 non-null  object \n",
      " 26  adedpe202006_logtype_traversant              93490 non-null   object \n",
      " 27  adedpe202006_logtype_ecs_type_ener           105833 non-null  object \n",
      " 28  adedpe202006_logtype_enr                     114072 non-null  int64  \n",
      " 29  adedpe202006_logtype_perc_surf_vitree_ext    18372 non-null   float64\n",
      " 30  adedpe202006_logtype_ph_pos_isol             81449 non-null   object \n",
      " 31  adedpe202006_logtype_presence_balcon         20109 non-null   float64\n",
      " 32  adedpe202006_logtype_presence_climatisation  107820 non-null  float64\n",
      " 33  adedpe202006_logtype_type_batiment           107820 non-null  object \n",
      " 34  ancqpv201410_is_qpv                          113819 non-null  float64\n",
      " 35  cerffo2020_annee_construction                103191 non-null  object \n",
      " 36  cerffo2020_usage_niveau_1_txt                114072 non-null  object \n",
      " 37  cerffo2020_nb_log                            114072 non-null  int64  \n",
      " 38  georad2020_alea                              113819 non-null  object \n",
      " 39  igntop202103_bat_hauteur                     113804 non-null  float64\n",
      " 40  mcumer202007_is_mer                          113819 non-null  float64\n",
      " 41  adedpe202006_logtype_s_hab                   107644 non-null  float64\n",
      " 42  baie_orientation_sud                         114072 non-null  int64  \n",
      " 43  baie_orientation_nord                        114072 non-null  int64  \n",
      " 44  baie_orientation_ouest                       114072 non-null  int64  \n",
      " 45  baie_orientation_est                         114072 non-null  int64  \n",
      " 46  baie_orientation_autre                       114072 non-null  int64  \n",
      " 47  Commerces_bruyants                           114072 non-null  int64  \n",
      "dtypes: float64(13), int64(22), object(13)\n",
      "memory usage: 42.6+ MB\n"
     ]
    }
   ],
   "source": [
    "df_selec.info()"
   ]
  },
  {
   "cell_type": "code",
   "execution_count": 6,
   "id": "145bf28f",
   "metadata": {},
   "outputs": [],
   "source": [
    "# Création du train test split"
   ]
  },
  {
   "cell_type": "code",
   "execution_count": 7,
   "id": "1298d80a",
   "metadata": {},
   "outputs": [],
   "source": [
    "from sklearn.model_selection import train_test_split\n"
   ]
  },
  {
   "cell_type": "code",
   "execution_count": 8,
   "id": "c01f61c6",
   "metadata": {},
   "outputs": [
    {
     "data": {
      "text/plain": [
       "((114072, 47), (114072,))"
      ]
     },
     "execution_count": 8,
     "metadata": {},
     "output_type": "execute_result"
    }
   ],
   "source": [
    "# Variables explicatives  / variable cible\n",
    "\n",
    "X=df_selec.drop(\"y\", axis=1)\n",
    "y=df_selec[\"y\"]\n",
    "\n",
    "X.shape, y.shape"
   ]
  },
  {
   "cell_type": "code",
   "execution_count": 9,
   "id": "72c3ac3f",
   "metadata": {},
   "outputs": [
    {
     "data": {
      "text/plain": [
       "['idnatmut',\n",
       " 'valeurfonc',\n",
       " 'nblot',\n",
       " 'nbcomm',\n",
       " 'l_codinsee',\n",
       " 'nblocapt',\n",
       " 'nblocdep',\n",
       " 'nbapt2pp',\n",
       " 'nbapt3pp',\n",
       " 'sbati',\n",
       " 'sbatapt',\n",
       " 'sbatact',\n",
       " 'sapt2pp',\n",
       " 'sapt3pp',\n",
       " 'scarrez',\n",
       " 'anarnc202012_nb_log',\n",
       " 'anarnc202012_nb_lot_garpark',\n",
       " 'anarnc202012_nb_lot_tertiaire',\n",
       " 'anarnc202012_nb_lot_tot',\n",
       " 'adedpe202006_logtype_enr',\n",
       " 'adedpe202006_logtype_perc_surf_vitree_ext',\n",
       " 'adedpe202006_logtype_presence_balcon',\n",
       " 'adedpe202006_logtype_presence_climatisation',\n",
       " 'ancqpv201410_is_qpv',\n",
       " 'cerffo2020_nb_log',\n",
       " 'igntop202103_bat_hauteur',\n",
       " 'mcumer202007_is_mer',\n",
       " 'adedpe202006_logtype_s_hab',\n",
       " 'baie_orientation_sud',\n",
       " 'baie_orientation_nord',\n",
       " 'baie_orientation_ouest',\n",
       " 'baie_orientation_est',\n",
       " 'baie_orientation_autre',\n",
       " 'Commerces_bruyants']"
      ]
     },
     "execution_count": 9,
     "metadata": {},
     "output_type": "execute_result"
    }
   ],
   "source": [
    "numeric_columns=X.select_dtypes(include=np.number).columns.tolist()\n",
    "numeric_columns"
   ]
  },
  {
   "cell_type": "code",
   "execution_count": 10,
   "id": "816fec37",
   "metadata": {},
   "outputs": [
    {
     "data": {
      "text/plain": [
       "['libnatmut',\n",
       " 'vefa',\n",
       " 'adedpe202006_logtype_baie_type_vitrage',\n",
       " 'adedpe202006_logtype_ch_gen_lib_princ',\n",
       " 'adedpe202006_logtype_classe_conso_ener',\n",
       " 'adedpe202006_logtype_classe_estim_ges',\n",
       " 'adedpe202006_logtype_traversant',\n",
       " 'adedpe202006_logtype_ecs_type_ener',\n",
       " 'adedpe202006_logtype_ph_pos_isol',\n",
       " 'adedpe202006_logtype_type_batiment',\n",
       " 'cerffo2020_annee_construction',\n",
       " 'cerffo2020_usage_niveau_1_txt',\n",
       " 'georad2020_alea']"
      ]
     },
     "execution_count": 10,
     "metadata": {},
     "output_type": "execute_result"
    }
   ],
   "source": [
    "object_columns=X.select_dtypes(include='object').columns.tolist()\n",
    "object_columns"
   ]
  },
  {
   "cell_type": "code",
   "execution_count": 11,
   "id": "1ab31f64",
   "metadata": {},
   "outputs": [
    {
     "data": {
      "text/plain": [
       "0    92899\n",
       "1    21173\n",
       "Name: y, dtype: int64"
      ]
     },
     "execution_count": 11,
     "metadata": {},
     "output_type": "execute_result"
    }
   ],
   "source": [
    "y.value_counts()"
   ]
  },
  {
   "cell_type": "code",
   "execution_count": 12,
   "id": "70cc47be",
   "metadata": {},
   "outputs": [
    {
     "data": {
      "text/plain": [
       "((85554, 47), (28518, 47))"
      ]
     },
     "execution_count": 12,
     "metadata": {},
     "output_type": "execute_result"
    }
   ],
   "source": [
    "X_train, X_test, y_train, y_test=train_test_split(X,y, test_size=0.25, random_state=10)\n",
    "X_train.shape, X_test.shape"
   ]
  },
  {
   "cell_type": "code",
   "execution_count": 13,
   "id": "e4e70b98",
   "metadata": {},
   "outputs": [
    {
     "name": "stderr",
     "output_type": "stream",
     "text": [
      "C:\\Users\\Anne\\anaconda3\\lib\\site-packages\\pandas\\core\\generic.py:6392: SettingWithCopyWarning: \n",
      "A value is trying to be set on a copy of a slice from a DataFrame\n",
      "\n",
      "See the caveats in the documentation: https://pandas.pydata.org/pandas-docs/stable/user_guide/indexing.html#returning-a-view-versus-a-copy\n",
      "  return self._update_inplace(result)\n"
     ]
    }
   ],
   "source": [
    "#Traitement des nan\n",
    "\n",
    "for col in numeric_columns:\n",
    "    X_train[col].fillna(X_train[col].median(), inplace=True)\n",
    "    X_test[col].fillna(X_train[col].median(), inplace=True)\n",
    "\n",
    "for col in object_columns:\n",
    "    X_train[col].fillna(X_train[col].mode()[0], inplace=True)\n",
    "    X_test[col].fillna(X_train[col].mode()[0], inplace=True)"
   ]
  },
  {
   "cell_type": "code",
   "execution_count": 14,
   "id": "4d797ae6",
   "metadata": {},
   "outputs": [
    {
     "data": {
      "text/plain": [
       "idnatmut                                       0\n",
       "libnatmut                                      0\n",
       "vefa                                           0\n",
       "valeurfonc                                     0\n",
       "nblot                                          0\n",
       "nbcomm                                         0\n",
       "l_codinsee                                     0\n",
       "nblocapt                                       0\n",
       "nblocdep                                       0\n",
       "nbapt2pp                                       0\n",
       "nbapt3pp                                       0\n",
       "sbati                                          0\n",
       "sbatapt                                        0\n",
       "sbatact                                        0\n",
       "sapt2pp                                        0\n",
       "sapt3pp                                        0\n",
       "scarrez                                        0\n",
       "anarnc202012_nb_log                            0\n",
       "anarnc202012_nb_lot_garpark                    0\n",
       "anarnc202012_nb_lot_tertiaire                  0\n",
       "anarnc202012_nb_lot_tot                        0\n",
       "adedpe202006_logtype_baie_type_vitrage         0\n",
       "adedpe202006_logtype_ch_gen_lib_princ          0\n",
       "adedpe202006_logtype_classe_conso_ener         0\n",
       "adedpe202006_logtype_classe_estim_ges          0\n",
       "adedpe202006_logtype_traversant                0\n",
       "adedpe202006_logtype_ecs_type_ener             0\n",
       "adedpe202006_logtype_enr                       0\n",
       "adedpe202006_logtype_perc_surf_vitree_ext      0\n",
       "adedpe202006_logtype_ph_pos_isol               0\n",
       "adedpe202006_logtype_presence_balcon           0\n",
       "adedpe202006_logtype_presence_climatisation    0\n",
       "adedpe202006_logtype_type_batiment             0\n",
       "ancqpv201410_is_qpv                            0\n",
       "cerffo2020_annee_construction                  0\n",
       "cerffo2020_usage_niveau_1_txt                  0\n",
       "cerffo2020_nb_log                              0\n",
       "georad2020_alea                                0\n",
       "igntop202103_bat_hauteur                       0\n",
       "mcumer202007_is_mer                            0\n",
       "adedpe202006_logtype_s_hab                     0\n",
       "baie_orientation_sud                           0\n",
       "baie_orientation_nord                          0\n",
       "baie_orientation_ouest                         0\n",
       "baie_orientation_est                           0\n",
       "baie_orientation_autre                         0\n",
       "Commerces_bruyants                             0\n",
       "dtype: int64"
      ]
     },
     "execution_count": 14,
     "metadata": {},
     "output_type": "execute_result"
    }
   ],
   "source": [
    "X_train.isna().sum()"
   ]
  },
  {
   "cell_type": "code",
   "execution_count": 15,
   "id": "cd20dc41",
   "metadata": {},
   "outputs": [
    {
     "data": {
      "text/plain": [
       "idnatmut                                       0\n",
       "libnatmut                                      0\n",
       "vefa                                           0\n",
       "valeurfonc                                     0\n",
       "nblot                                          0\n",
       "nbcomm                                         0\n",
       "l_codinsee                                     0\n",
       "nblocapt                                       0\n",
       "nblocdep                                       0\n",
       "nbapt2pp                                       0\n",
       "nbapt3pp                                       0\n",
       "sbati                                          0\n",
       "sbatapt                                        0\n",
       "sbatact                                        0\n",
       "sapt2pp                                        0\n",
       "sapt3pp                                        0\n",
       "scarrez                                        0\n",
       "anarnc202012_nb_log                            0\n",
       "anarnc202012_nb_lot_garpark                    0\n",
       "anarnc202012_nb_lot_tertiaire                  0\n",
       "anarnc202012_nb_lot_tot                        0\n",
       "adedpe202006_logtype_baie_type_vitrage         0\n",
       "adedpe202006_logtype_ch_gen_lib_princ          0\n",
       "adedpe202006_logtype_classe_conso_ener         0\n",
       "adedpe202006_logtype_classe_estim_ges          0\n",
       "adedpe202006_logtype_traversant                0\n",
       "adedpe202006_logtype_ecs_type_ener             0\n",
       "adedpe202006_logtype_enr                       0\n",
       "adedpe202006_logtype_perc_surf_vitree_ext      0\n",
       "adedpe202006_logtype_ph_pos_isol               0\n",
       "adedpe202006_logtype_presence_balcon           0\n",
       "adedpe202006_logtype_presence_climatisation    0\n",
       "adedpe202006_logtype_type_batiment             0\n",
       "ancqpv201410_is_qpv                            0\n",
       "cerffo2020_annee_construction                  0\n",
       "cerffo2020_usage_niveau_1_txt                  0\n",
       "cerffo2020_nb_log                              0\n",
       "georad2020_alea                                0\n",
       "igntop202103_bat_hauteur                       0\n",
       "mcumer202007_is_mer                            0\n",
       "adedpe202006_logtype_s_hab                     0\n",
       "baie_orientation_sud                           0\n",
       "baie_orientation_nord                          0\n",
       "baie_orientation_ouest                         0\n",
       "baie_orientation_est                           0\n",
       "baie_orientation_autre                         0\n",
       "Commerces_bruyants                             0\n",
       "dtype: int64"
      ]
     },
     "execution_count": 15,
     "metadata": {},
     "output_type": "execute_result"
    }
   ],
   "source": [
    "X_test.isna().sum()"
   ]
  },
  {
   "cell_type": "code",
   "execution_count": 16,
   "id": "e0b8dd01",
   "metadata": {},
   "outputs": [
    {
     "data": {
      "text/plain": [
       "((85554, 47), (28518, 47))"
      ]
     },
     "execution_count": 16,
     "metadata": {},
     "output_type": "execute_result"
    }
   ],
   "source": [
    "X_train.shape, X_test.shape"
   ]
  },
  {
   "cell_type": "code",
   "execution_count": 17,
   "id": "1dd4a030",
   "metadata": {},
   "outputs": [],
   "source": [
    "X_train=pd.get_dummies(X_train)\n"
   ]
  },
  {
   "cell_type": "code",
   "execution_count": 18,
   "id": "da45a8ab",
   "metadata": {},
   "outputs": [
    {
     "data": {
      "text/plain": [
       "(85554, 113)"
      ]
     },
     "execution_count": 18,
     "metadata": {},
     "output_type": "execute_result"
    }
   ],
   "source": [
    "X_train.shape"
   ]
  },
  {
   "cell_type": "code",
   "execution_count": 19,
   "id": "33474e96",
   "metadata": {},
   "outputs": [],
   "source": [
    "X_test=pd.get_dummies(X_test)"
   ]
  },
  {
   "cell_type": "code",
   "execution_count": 20,
   "id": "e568be29",
   "metadata": {},
   "outputs": [
    {
     "data": {
      "text/plain": [
       "(28518, 113)"
      ]
     },
     "execution_count": 20,
     "metadata": {},
     "output_type": "execute_result"
    }
   ],
   "source": [
    "X_test.shape"
   ]
  },
  {
   "cell_type": "code",
   "execution_count": 21,
   "id": "cbd624b5",
   "metadata": {},
   "outputs": [],
   "source": [
    "# Différence de nombre de colonnes entre X_train et X_test => Pourquoi ? \n",
    "# J'ai gardé ces lignes de codes après retraitement des variables pour expliquer raisonnement"
   ]
  },
  {
   "cell_type": "code",
   "execution_count": 22,
   "id": "93ac5ec4",
   "metadata": {},
   "outputs": [],
   "source": [
    "X_train_list=X_train.columns.tolist()"
   ]
  },
  {
   "cell_type": "code",
   "execution_count": 23,
   "id": "408fbf5a",
   "metadata": {},
   "outputs": [],
   "source": [
    "X_test_list=X_test.columns.tolist()"
   ]
  },
  {
   "cell_type": "code",
   "execution_count": 24,
   "id": "8c3caa12",
   "metadata": {},
   "outputs": [
    {
     "name": "stdout",
     "output_type": "stream",
     "text": [
      "[]\n"
     ]
    }
   ],
   "source": [
    "difference_train = set(X_train_list).difference(set(X_test_list))\n",
    "difference_test = set(X_test_list).difference(set(X_train_list))\n",
    "list_difference = list(difference_train.union(difference_test))\n",
    "print(list_difference)\n",
    "\n"
   ]
  },
  {
   "cell_type": "code",
   "execution_count": 25,
   "id": "dd444dc7",
   "metadata": {},
   "outputs": [],
   "source": [
    "# Normaliser les variables quantitatives\n",
    "\n",
    "from sklearn.preprocessing import StandardScaler\n",
    "scaler = StandardScaler()\n",
    "X_train[numeric_columns] = scaler.fit_transform(X_train[numeric_columns])\n",
    "X_test[numeric_columns] = scaler.transform(X_test[numeric_columns])\n"
   ]
  },
  {
   "cell_type": "code",
   "execution_count": null,
   "id": "cf6361ce",
   "metadata": {},
   "outputs": [],
   "source": []
  },
  {
   "cell_type": "code",
   "execution_count": 26,
   "id": "1ef304af",
   "metadata": {},
   "outputs": [
    {
     "name": "stderr",
     "output_type": "stream",
     "text": [
      "C:\\Users\\Anne\\anaconda3\\lib\\site-packages\\sklearn\\linear_model\\_logistic.py:763: ConvergenceWarning: lbfgs failed to converge (status=1):\n",
      "STOP: TOTAL NO. of ITERATIONS REACHED LIMIT.\n",
      "\n",
      "Increase the number of iterations (max_iter) or scale the data as shown in:\n",
      "    https://scikit-learn.org/stable/modules/preprocessing.html\n",
      "Please also refer to the documentation for alternative solver options:\n",
      "    https://scikit-learn.org/stable/modules/linear_model.html#logistic-regression\n",
      "  n_iter_i = _check_optimize_result(\n"
     ]
    },
    {
     "data": {
      "text/plain": [
       "LogisticRegression()"
      ]
     },
     "execution_count": 26,
     "metadata": {},
     "output_type": "execute_result"
    }
   ],
   "source": [
    "#LOGISTIC REGRESSION\n",
    "\n",
    "from sklearn.linear_model import LogisticRegression\n",
    "\n",
    "clf_lr=LogisticRegression()\n",
    "clf_lr.fit(X_train, y_train)"
   ]
  },
  {
   "cell_type": "code",
   "execution_count": 27,
   "id": "86f4e129",
   "metadata": {},
   "outputs": [],
   "source": [
    "y_pred_lr=clf_lr.predict(X_test)"
   ]
  },
  {
   "cell_type": "code",
   "execution_count": 28,
   "id": "2bc8500f",
   "metadata": {},
   "outputs": [
    {
     "data": {
      "text/html": [
       "<div>\n",
       "<style scoped>\n",
       "    .dataframe tbody tr th:only-of-type {\n",
       "        vertical-align: middle;\n",
       "    }\n",
       "\n",
       "    .dataframe tbody tr th {\n",
       "        vertical-align: top;\n",
       "    }\n",
       "\n",
       "    .dataframe thead th {\n",
       "        text-align: right;\n",
       "    }\n",
       "</style>\n",
       "<table border=\"1\" class=\"dataframe\">\n",
       "  <thead>\n",
       "    <tr style=\"text-align: right;\">\n",
       "      <th>col_0</th>\n",
       "      <th>0</th>\n",
       "      <th>1</th>\n",
       "    </tr>\n",
       "    <tr>\n",
       "      <th>y</th>\n",
       "      <th></th>\n",
       "      <th></th>\n",
       "    </tr>\n",
       "  </thead>\n",
       "  <tbody>\n",
       "    <tr>\n",
       "      <th>0</th>\n",
       "      <td>23340</td>\n",
       "      <td>7</td>\n",
       "    </tr>\n",
       "    <tr>\n",
       "      <th>1</th>\n",
       "      <td>5168</td>\n",
       "      <td>3</td>\n",
       "    </tr>\n",
       "  </tbody>\n",
       "</table>\n",
       "</div>"
      ],
      "text/plain": [
       "col_0      0  1\n",
       "y              \n",
       "0      23340  7\n",
       "1       5168  3"
      ]
     },
     "execution_count": 28,
     "metadata": {},
     "output_type": "execute_result"
    }
   ],
   "source": [
    "from sklearn.metrics import confusion_matrix\n",
    "cm=confusion_matrix(y_test, y_pred_lr)\n",
    "cm\n",
    "\n",
    "pd.crosstab(y_test, y_pred_lr)"
   ]
  },
  {
   "cell_type": "code",
   "execution_count": 29,
   "id": "e5005ab1",
   "metadata": {},
   "outputs": [
    {
     "name": "stdout",
     "output_type": "stream",
     "text": [
      "              precision    recall  f1-score   support\n",
      "\n",
      "           0       0.82      1.00      0.90     23347\n",
      "           1       0.30      0.00      0.00      5171\n",
      "\n",
      "    accuracy                           0.82     28518\n",
      "   macro avg       0.56      0.50      0.45     28518\n",
      "weighted avg       0.72      0.82      0.74     28518\n",
      "\n"
     ]
    }
   ],
   "source": [
    "from sklearn.metrics import classification_report\n",
    "print(classification_report(y_test, y_pred_lr))"
   ]
  },
  {
   "cell_type": "code",
   "execution_count": 30,
   "id": "43bd14d6",
   "metadata": {},
   "outputs": [],
   "source": [
    "# DECISION TREE\n",
    "\n",
    "from sklearn.tree import DecisionTreeClassifier\n",
    "clf_dt=DecisionTreeClassifier()\n"
   ]
  },
  {
   "cell_type": "code",
   "execution_count": 31,
   "id": "f593ecde",
   "metadata": {},
   "outputs": [],
   "source": [
    "\n",
    "clf_dt.fit(X_train, y_train)\n",
    "y_pred_dt=clf_dt.predict(X_test)"
   ]
  },
  {
   "cell_type": "code",
   "execution_count": 32,
   "id": "b223c6e7",
   "metadata": {},
   "outputs": [
    {
     "data": {
      "text/html": [
       "<div>\n",
       "<style scoped>\n",
       "    .dataframe tbody tr th:only-of-type {\n",
       "        vertical-align: middle;\n",
       "    }\n",
       "\n",
       "    .dataframe tbody tr th {\n",
       "        vertical-align: top;\n",
       "    }\n",
       "\n",
       "    .dataframe thead th {\n",
       "        text-align: right;\n",
       "    }\n",
       "</style>\n",
       "<table border=\"1\" class=\"dataframe\">\n",
       "  <thead>\n",
       "    <tr style=\"text-align: right;\">\n",
       "      <th>Classe prédite</th>\n",
       "      <th>0</th>\n",
       "      <th>1</th>\n",
       "    </tr>\n",
       "    <tr>\n",
       "      <th>Classe réelle</th>\n",
       "      <th></th>\n",
       "      <th></th>\n",
       "    </tr>\n",
       "  </thead>\n",
       "  <tbody>\n",
       "    <tr>\n",
       "      <th>0</th>\n",
       "      <td>19171</td>\n",
       "      <td>4176</td>\n",
       "    </tr>\n",
       "    <tr>\n",
       "      <th>1</th>\n",
       "      <td>3182</td>\n",
       "      <td>1989</td>\n",
       "    </tr>\n",
       "  </tbody>\n",
       "</table>\n",
       "</div>"
      ],
      "text/plain": [
       "Classe prédite      0     1\n",
       "Classe réelle              \n",
       "0               19171  4176\n",
       "1                3182  1989"
      ]
     },
     "execution_count": 32,
     "metadata": {},
     "output_type": "execute_result"
    }
   ],
   "source": [
    "cm=pd.crosstab(y_test, y_pred_dt, rownames=[\"Classe réelle\"], colnames=[\"Classe prédite\"])\n",
    "cm"
   ]
  },
  {
   "cell_type": "code",
   "execution_count": 33,
   "id": "f0a30517",
   "metadata": {},
   "outputs": [
    {
     "data": {
      "text/html": [
       "<div>\n",
       "<style scoped>\n",
       "    .dataframe tbody tr th:only-of-type {\n",
       "        vertical-align: middle;\n",
       "    }\n",
       "\n",
       "    .dataframe tbody tr th {\n",
       "        vertical-align: top;\n",
       "    }\n",
       "\n",
       "    .dataframe thead th {\n",
       "        text-align: right;\n",
       "    }\n",
       "</style>\n",
       "<table border=\"1\" class=\"dataframe\">\n",
       "  <thead>\n",
       "    <tr style=\"text-align: right;\">\n",
       "      <th></th>\n",
       "      <th>Importance</th>\n",
       "    </tr>\n",
       "  </thead>\n",
       "  <tbody>\n",
       "    <tr>\n",
       "      <th>sapt2pp</th>\n",
       "      <td>0.144732</td>\n",
       "    </tr>\n",
       "    <tr>\n",
       "      <th>libnatmut</th>\n",
       "      <td>0.128238</td>\n",
       "    </tr>\n",
       "    <tr>\n",
       "      <th>adedpe202006_logtype_traversant</th>\n",
       "      <td>0.071812</td>\n",
       "    </tr>\n",
       "    <tr>\n",
       "      <th>adedpe202006_logtype_enr</th>\n",
       "      <td>0.060295</td>\n",
       "    </tr>\n",
       "    <tr>\n",
       "      <th>anarnc202012_nb_lot_garpark</th>\n",
       "      <td>0.055961</td>\n",
       "    </tr>\n",
       "    <tr>\n",
       "      <th>adedpe202006_logtype_classe_estim_ges</th>\n",
       "      <td>0.049665</td>\n",
       "    </tr>\n",
       "    <tr>\n",
       "      <th>sapt3pp</th>\n",
       "      <td>0.044225</td>\n",
       "    </tr>\n",
       "    <tr>\n",
       "      <th>nbapt2pp</th>\n",
       "      <td>0.039423</td>\n",
       "    </tr>\n",
       "  </tbody>\n",
       "</table>\n",
       "</div>"
      ],
      "text/plain": [
       "                                       Importance\n",
       "sapt2pp                                  0.144732\n",
       "libnatmut                                0.128238\n",
       "adedpe202006_logtype_traversant          0.071812\n",
       "adedpe202006_logtype_enr                 0.060295\n",
       "anarnc202012_nb_lot_garpark              0.055961\n",
       "adedpe202006_logtype_classe_estim_ges    0.049665\n",
       "sapt3pp                                  0.044225\n",
       "nbapt2pp                                 0.039423"
      ]
     },
     "execution_count": 33,
     "metadata": {},
     "output_type": "execute_result"
    }
   ],
   "source": [
    "# Affichage des meilleurs paramètres\n",
    "feats = {}\n",
    "for feature, importance in zip(X.columns, clf_dt.feature_importances_):\n",
    "    feats[feature] = importance \n",
    "    \n",
    "importances = pd.DataFrame.from_dict(feats, orient='index').rename(columns={0: 'Importance'})\n",
    "importances.sort_values(by='Importance', ascending=False).head(8)"
   ]
  },
  {
   "cell_type": "code",
   "execution_count": 34,
   "id": "f0a606e4",
   "metadata": {},
   "outputs": [
    {
     "data": {
      "text/plain": [
       "0.741987516656147"
      ]
     },
     "execution_count": 34,
     "metadata": {},
     "output_type": "execute_result"
    }
   ],
   "source": [
    "clf_dt.score(X_test,y_test)"
   ]
  },
  {
   "cell_type": "code",
   "execution_count": 35,
   "id": "9b0a9b50",
   "metadata": {},
   "outputs": [
    {
     "name": "stdout",
     "output_type": "stream",
     "text": [
      "              precision    recall  f1-score   support\n",
      "\n",
      "           0       0.86      0.82      0.84     23347\n",
      "           1       0.32      0.38      0.35      5171\n",
      "\n",
      "    accuracy                           0.74     28518\n",
      "   macro avg       0.59      0.60      0.59     28518\n",
      "weighted avg       0.76      0.74      0.75     28518\n",
      "\n"
     ]
    }
   ],
   "source": [
    "from sklearn.metrics import classification_report\n",
    "print(classification_report(y_test, y_pred_dt))"
   ]
  },
  {
   "cell_type": "code",
   "execution_count": 36,
   "id": "7e435bf3",
   "metadata": {},
   "outputs": [
    {
     "data": {
      "text/html": [
       "<div>\n",
       "<style scoped>\n",
       "    .dataframe tbody tr th:only-of-type {\n",
       "        vertical-align: middle;\n",
       "    }\n",
       "\n",
       "    .dataframe tbody tr th {\n",
       "        vertical-align: top;\n",
       "    }\n",
       "\n",
       "    .dataframe thead th {\n",
       "        text-align: right;\n",
       "    }\n",
       "</style>\n",
       "<table border=\"1\" class=\"dataframe\">\n",
       "  <thead>\n",
       "    <tr style=\"text-align: right;\">\n",
       "      <th>Classe prédite</th>\n",
       "      <th>0</th>\n",
       "      <th>1</th>\n",
       "    </tr>\n",
       "    <tr>\n",
       "      <th>Classe réelle</th>\n",
       "      <th></th>\n",
       "      <th></th>\n",
       "    </tr>\n",
       "  </thead>\n",
       "  <tbody>\n",
       "    <tr>\n",
       "      <th>0</th>\n",
       "      <td>22594</td>\n",
       "      <td>753</td>\n",
       "    </tr>\n",
       "    <tr>\n",
       "      <th>1</th>\n",
       "      <td>3517</td>\n",
       "      <td>1654</td>\n",
       "    </tr>\n",
       "  </tbody>\n",
       "</table>\n",
       "</div>"
      ],
      "text/plain": [
       "Classe prédite      0     1\n",
       "Classe réelle              \n",
       "0               22594   753\n",
       "1                3517  1654"
      ]
     },
     "execution_count": 36,
     "metadata": {},
     "output_type": "execute_result"
    }
   ],
   "source": [
    "# Utilisation d'un RandomClassifier = \n",
    "\n",
    "from sklearn.ensemble import RandomForestClassifier\n",
    "clf_rf=RandomForestClassifier()\n",
    "clf_rf.fit(X_train, y_train)\n",
    "y_pred_rf=clf_rf.predict(X_test)\n",
    "pd.crosstab(y_test, y_pred_rf, rownames=[\"Classe réelle\"], colnames=[\"Classe prédite\"])\n"
   ]
  },
  {
   "cell_type": "code",
   "execution_count": 37,
   "id": "a428e4cb",
   "metadata": {},
   "outputs": [
    {
     "name": "stdout",
     "output_type": "stream",
     "text": [
      "              precision    recall  f1-score   support\n",
      "\n",
      "           0       0.87      0.97      0.91     23347\n",
      "           1       0.69      0.32      0.44      5171\n",
      "\n",
      "    accuracy                           0.85     28518\n",
      "   macro avg       0.78      0.64      0.68     28518\n",
      "weighted avg       0.83      0.85      0.83     28518\n",
      "\n"
     ]
    }
   ],
   "source": [
    "print(classification_report(y_test, y_pred_rf))"
   ]
  },
  {
   "cell_type": "code",
   "execution_count": 38,
   "id": "ea1a891e",
   "metadata": {},
   "outputs": [
    {
     "data": {
      "text/html": [
       "<div>\n",
       "<style scoped>\n",
       "    .dataframe tbody tr th:only-of-type {\n",
       "        vertical-align: middle;\n",
       "    }\n",
       "\n",
       "    .dataframe tbody tr th {\n",
       "        vertical-align: top;\n",
       "    }\n",
       "\n",
       "    .dataframe thead th {\n",
       "        text-align: right;\n",
       "    }\n",
       "</style>\n",
       "<table border=\"1\" class=\"dataframe\">\n",
       "  <thead>\n",
       "    <tr style=\"text-align: right;\">\n",
       "      <th></th>\n",
       "      <th>Importance</th>\n",
       "    </tr>\n",
       "  </thead>\n",
       "  <tbody>\n",
       "    <tr>\n",
       "      <th>sapt2pp</th>\n",
       "      <td>0.101234</td>\n",
       "    </tr>\n",
       "    <tr>\n",
       "      <th>libnatmut</th>\n",
       "      <td>0.095545</td>\n",
       "    </tr>\n",
       "    <tr>\n",
       "      <th>nbapt3pp</th>\n",
       "      <td>0.057122</td>\n",
       "    </tr>\n",
       "    <tr>\n",
       "      <th>nbapt2pp</th>\n",
       "      <td>0.056460</td>\n",
       "    </tr>\n",
       "    <tr>\n",
       "      <th>adedpe202006_logtype_traversant</th>\n",
       "      <td>0.054829</td>\n",
       "    </tr>\n",
       "    <tr>\n",
       "      <th>anarnc202012_nb_lot_garpark</th>\n",
       "      <td>0.051083</td>\n",
       "    </tr>\n",
       "    <tr>\n",
       "      <th>adedpe202006_logtype_enr</th>\n",
       "      <td>0.049816</td>\n",
       "    </tr>\n",
       "    <tr>\n",
       "      <th>adedpe202006_logtype_classe_estim_ges</th>\n",
       "      <td>0.048651</td>\n",
       "    </tr>\n",
       "  </tbody>\n",
       "</table>\n",
       "</div>"
      ],
      "text/plain": [
       "                                       Importance\n",
       "sapt2pp                                  0.101234\n",
       "libnatmut                                0.095545\n",
       "nbapt3pp                                 0.057122\n",
       "nbapt2pp                                 0.056460\n",
       "adedpe202006_logtype_traversant          0.054829\n",
       "anarnc202012_nb_lot_garpark              0.051083\n",
       "adedpe202006_logtype_enr                 0.049816\n",
       "adedpe202006_logtype_classe_estim_ges    0.048651"
      ]
     },
     "execution_count": 38,
     "metadata": {},
     "output_type": "execute_result"
    }
   ],
   "source": [
    "feats = {}\n",
    "for feature, importance in zip(X.columns, clf_rf.feature_importances_):\n",
    "    feats[feature] = importance \n",
    "    \n",
    "importances = pd.DataFrame.from_dict(feats, orient='index').rename(columns={0: 'Importance'})\n",
    "importances.sort_values(by='Importance', ascending=False).head(8)"
   ]
  },
  {
   "cell_type": "code",
   "execution_count": null,
   "id": "fd2201e9",
   "metadata": {},
   "outputs": [],
   "source": []
  }
 ],
 "metadata": {
  "kernelspec": {
   "display_name": "Python 3 (ipykernel)",
   "language": "python",
   "name": "python3"
  },
  "language_info": {
   "codemirror_mode": {
    "name": "ipython",
    "version": 3
   },
   "file_extension": ".py",
   "mimetype": "text/x-python",
   "name": "python",
   "nbconvert_exporter": "python",
   "pygments_lexer": "ipython3",
   "version": "3.9.7"
  }
 },
 "nbformat": 4,
 "nbformat_minor": 5
}
