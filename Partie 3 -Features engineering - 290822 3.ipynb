{
 "cells": [
  {
   "cell_type": "code",
   "execution_count": 1,
   "id": "62264575",
   "metadata": {},
   "outputs": [],
   "source": [
    "import pandas as pd\n",
    "import numpy as np\n",
    "\n"
   ]
  },
  {
   "cell_type": "code",
   "execution_count": 2,
   "id": "5363104e",
   "metadata": {},
   "outputs": [
    {
     "name": "stderr",
     "output_type": "stream",
     "text": [
      "C:\\Users\\Anne\\anaconda3\\lib\\site-packages\\IPython\\core\\interactiveshell.py:3444: DtypeWarning: Columns (45,171,194,229) have mixed types.Specify dtype option on import or set low_memory=False.\n",
      "  exec(code_obj, self.user_global_ns, self.user_ns)\n"
     ]
    }
   ],
   "source": [
    "df_final=pd.read_csv(\"df_final.csv\")"
   ]
  },
  {
   "cell_type": "code",
   "execution_count": 3,
   "id": "9899316e",
   "metadata": {},
   "outputs": [
    {
     "data": {
      "text/html": [
       "<div>\n",
       "<style scoped>\n",
       "    .dataframe tbody tr th:only-of-type {\n",
       "        vertical-align: middle;\n",
       "    }\n",
       "\n",
       "    .dataframe tbody tr th {\n",
       "        vertical-align: top;\n",
       "    }\n",
       "\n",
       "    .dataframe thead th {\n",
       "        text-align: right;\n",
       "    }\n",
       "</style>\n",
       "<table border=\"1\" class=\"dataframe\">\n",
       "  <thead>\n",
       "    <tr style=\"text-align: right;\">\n",
       "      <th></th>\n",
       "      <th>geombui</th>\n",
       "      <th>bnb_id</th>\n",
       "      <th>bnb_l_geombui_id</th>\n",
       "      <th>bnb_matching_type</th>\n",
       "      <th>bnb_optim_status</th>\n",
       "      <th>bnb_sfce_geombat_m2</th>\n",
       "      <th>bnb_altitude_sol</th>\n",
       "      <th>insee_code_commune</th>\n",
       "      <th>insee_code_dept</th>\n",
       "      <th>insee_code_dept_num</th>\n",
       "      <th>...</th>\n",
       "      <th>codvoie</th>\n",
       "      <th>voie</th>\n",
       "      <th>codepostal</th>\n",
       "      <th>commune</th>\n",
       "      <th>idadrinvar</th>\n",
       "      <th>coddep_x</th>\n",
       "      <th>coddep_y</th>\n",
       "      <th>etaban_lot</th>\n",
       "      <th>qty_of_mut</th>\n",
       "      <th>y</th>\n",
       "    </tr>\n",
       "  </thead>\n",
       "  <tbody>\n",
       "    <tr>\n",
       "      <th>0</th>\n",
       "      <td>MULTIPOLYGON (((651611.7 6862718.0,651608.4 68...</td>\n",
       "      <td>75101000AS0007_dfbe38a28e3f986</td>\n",
       "      <td>(1:BATIMENT0000000245185276-6)</td>\n",
       "      <td>sp-n.1</td>\n",
       "      <td>NaN</td>\n",
       "      <td>2154.0</td>\n",
       "      <td>36.0</td>\n",
       "      <td>75101</td>\n",
       "      <td>75</td>\n",
       "      <td>75</td>\n",
       "      <td>...</td>\n",
       "      <td>4901</td>\n",
       "      <td>JEAN JACQUES ROUSSEAU</td>\n",
       "      <td>75001.0</td>\n",
       "      <td>PARIS 01</td>\n",
       "      <td>19$$4901$RUE$JEAN JACQUES ROUSSEAU$75001$PARIS 01</td>\n",
       "      <td>75</td>\n",
       "      <td>75</td>\n",
       "      <td>75101_4901_00019_93</td>\n",
       "      <td>1</td>\n",
       "      <td>0</td>\n",
       "    </tr>\n",
       "    <tr>\n",
       "      <th>1</th>\n",
       "      <td>MULTIPOLYGON (((654258.8 6861954.8,654248.9 68...</td>\n",
       "      <td>75111000BY0083_e91b43387c313a2</td>\n",
       "      <td>(9:BATIMENT0000000240744834-1,BATIMENT00000002...</td>\n",
       "      <td>sp-n.m</td>\n",
       "      <td>INFEASIBLE</td>\n",
       "      <td>NaN</td>\n",
       "      <td>31.0</td>\n",
       "      <td>75111</td>\n",
       "      <td>75</td>\n",
       "      <td>75</td>\n",
       "      <td>...</td>\n",
       "      <td>1383</td>\n",
       "      <td>BULLOURDE</td>\n",
       "      <td>75011.0</td>\n",
       "      <td>PARIS 11</td>\n",
       "      <td>5$$1383$PAS$BULLOURDE$75011$PARIS 11</td>\n",
       "      <td>75</td>\n",
       "      <td>75</td>\n",
       "      <td>75111_1383_00005_8057</td>\n",
       "      <td>1</td>\n",
       "      <td>0</td>\n",
       "    </tr>\n",
       "    <tr>\n",
       "      <th>2</th>\n",
       "      <td>MULTIPOLYGON (((650008.0 6865729.8,650017.3 68...</td>\n",
       "      <td>75117000CS0043_cdbf517e1853ed4</td>\n",
       "      <td>(1:BATIMENT0000000245175364-2)</td>\n",
       "      <td>sp-1.1</td>\n",
       "      <td>NaN</td>\n",
       "      <td>244.0</td>\n",
       "      <td>41.0</td>\n",
       "      <td>75117</td>\n",
       "      <td>75</td>\n",
       "      <td>75</td>\n",
       "      <td>...</td>\n",
       "      <td>5503</td>\n",
       "      <td>LEMERCIER</td>\n",
       "      <td>75017.0</td>\n",
       "      <td>PARIS 17</td>\n",
       "      <td>103$$5503$RUE$LEMERCIER$75017$PARIS 17</td>\n",
       "      <td>75</td>\n",
       "      <td>75</td>\n",
       "      <td>75117_5503_00103_24</td>\n",
       "      <td>1</td>\n",
       "      <td>0</td>\n",
       "    </tr>\n",
       "    <tr>\n",
       "      <th>3</th>\n",
       "      <td>MULTIPOLYGON (((649673.9 6860532.3,649680.1 68...</td>\n",
       "      <td>75115000CS0060_e2adb0db8c7947a</td>\n",
       "      <td>(1:BATIMENT0000000241921094-1)</td>\n",
       "      <td>sp-1.m</td>\n",
       "      <td>NaN</td>\n",
       "      <td>158.0</td>\n",
       "      <td>47.0</td>\n",
       "      <td>75115</td>\n",
       "      <td>75</td>\n",
       "      <td>75</td>\n",
       "      <td>...</td>\n",
       "      <td>2521</td>\n",
       "      <td>DALOU</td>\n",
       "      <td>75015.0</td>\n",
       "      <td>PARIS 15</td>\n",
       "      <td>8$$2521$RUE$DALOU$75015$PARIS 15</td>\n",
       "      <td>75</td>\n",
       "      <td>75</td>\n",
       "      <td>75115_2521_00008_19</td>\n",
       "      <td>1</td>\n",
       "      <td>0</td>\n",
       "    </tr>\n",
       "    <tr>\n",
       "      <th>4</th>\n",
       "      <td>MULTIPOLYGON (((650929.7 6865171.0,650939.1 68...</td>\n",
       "      <td>75118000AQ0016_a54663fbbbc7683</td>\n",
       "      <td>(1:BATIMENT0000000245203979-1)</td>\n",
       "      <td>sp-1.1</td>\n",
       "      <td>NaN</td>\n",
       "      <td>364.0</td>\n",
       "      <td>70.0</td>\n",
       "      <td>75118</td>\n",
       "      <td>75</td>\n",
       "      <td>75</td>\n",
       "      <td>...</td>\n",
       "      <td>2113</td>\n",
       "      <td>DE CLICHY</td>\n",
       "      <td>75018.0</td>\n",
       "      <td>PARIS 18</td>\n",
       "      <td>110$$2113$BD$DE CLICHY$75018$PARIS 18</td>\n",
       "      <td>75</td>\n",
       "      <td>75</td>\n",
       "      <td>75118_2113_00110_19</td>\n",
       "      <td>2</td>\n",
       "      <td>1</td>\n",
       "    </tr>\n",
       "  </tbody>\n",
       "</table>\n",
       "<p>5 rows × 247 columns</p>\n",
       "</div>"
      ],
      "text/plain": [
       "                                             geombui  \\\n",
       "0  MULTIPOLYGON (((651611.7 6862718.0,651608.4 68...   \n",
       "1  MULTIPOLYGON (((654258.8 6861954.8,654248.9 68...   \n",
       "2  MULTIPOLYGON (((650008.0 6865729.8,650017.3 68...   \n",
       "3  MULTIPOLYGON (((649673.9 6860532.3,649680.1 68...   \n",
       "4  MULTIPOLYGON (((650929.7 6865171.0,650939.1 68...   \n",
       "\n",
       "                           bnb_id  \\\n",
       "0  75101000AS0007_dfbe38a28e3f986   \n",
       "1  75111000BY0083_e91b43387c313a2   \n",
       "2  75117000CS0043_cdbf517e1853ed4   \n",
       "3  75115000CS0060_e2adb0db8c7947a   \n",
       "4  75118000AQ0016_a54663fbbbc7683   \n",
       "\n",
       "                                    bnb_l_geombui_id bnb_matching_type  \\\n",
       "0                     (1:BATIMENT0000000245185276-6)            sp-n.1   \n",
       "1  (9:BATIMENT0000000240744834-1,BATIMENT00000002...            sp-n.m   \n",
       "2                     (1:BATIMENT0000000245175364-2)            sp-1.1   \n",
       "3                     (1:BATIMENT0000000241921094-1)            sp-1.m   \n",
       "4                     (1:BATIMENT0000000245203979-1)            sp-1.1   \n",
       "\n",
       "  bnb_optim_status  bnb_sfce_geombat_m2  bnb_altitude_sol  insee_code_commune  \\\n",
       "0              NaN               2154.0              36.0               75101   \n",
       "1       INFEASIBLE                  NaN              31.0               75111   \n",
       "2              NaN                244.0              41.0               75117   \n",
       "3              NaN                158.0              47.0               75115   \n",
       "4              NaN                364.0              70.0               75118   \n",
       "\n",
       "   insee_code_dept  insee_code_dept_num  ...  codvoie                   voie  \\\n",
       "0               75                   75  ...     4901  JEAN JACQUES ROUSSEAU   \n",
       "1               75                   75  ...     1383              BULLOURDE   \n",
       "2               75                   75  ...     5503              LEMERCIER   \n",
       "3               75                   75  ...     2521                  DALOU   \n",
       "4               75                   75  ...     2113              DE CLICHY   \n",
       "\n",
       "  codepostal   commune                                         idadrinvar  \\\n",
       "0    75001.0  PARIS 01  19$$4901$RUE$JEAN JACQUES ROUSSEAU$75001$PARIS 01   \n",
       "1    75011.0  PARIS 11               5$$1383$PAS$BULLOURDE$75011$PARIS 11   \n",
       "2    75017.0  PARIS 17             103$$5503$RUE$LEMERCIER$75017$PARIS 17   \n",
       "3    75015.0  PARIS 15                   8$$2521$RUE$DALOU$75015$PARIS 15   \n",
       "4    75018.0  PARIS 18              110$$2113$BD$DE CLICHY$75018$PARIS 18   \n",
       "\n",
       "  coddep_x  coddep_y             etaban_lot qty_of_mut  y  \n",
       "0       75        75    75101_4901_00019_93          1  0  \n",
       "1       75        75  75111_1383_00005_8057          1  0  \n",
       "2       75        75    75117_5503_00103_24          1  0  \n",
       "3       75        75    75115_2521_00008_19          1  0  \n",
       "4       75        75    75118_2113_00110_19          2  1  \n",
       "\n",
       "[5 rows x 247 columns]"
      ]
     },
     "execution_count": 3,
     "metadata": {},
     "output_type": "execute_result"
    }
   ],
   "source": [
    "df_final.head()"
   ]
  },
  {
   "cell_type": "code",
   "execution_count": 4,
   "id": "0eaa877f",
   "metadata": {},
   "outputs": [
    {
     "name": "stdout",
     "output_type": "stream",
     "text": [
      "<class 'pandas.core.frame.DataFrame'>\n",
      "RangeIndex: 114072 entries, 0 to 114071\n",
      "Columns: 247 entries, geombui to y\n",
      "dtypes: float64(86), int64(59), object(102)\n",
      "memory usage: 215.0+ MB\n"
     ]
    }
   ],
   "source": [
    "df_final.info()"
   ]
  },
  {
   "cell_type": "code",
   "execution_count": 5,
   "id": "c80fc973",
   "metadata": {},
   "outputs": [],
   "source": [
    "# Réduction du DataFrame à une sélection de variables CSTB + Cerema + variable cible \"y\" \n",
    "# + variables créées précédemment : \"etaban_lot\" + \"qty_of_mut\"\n",
    "# Voir colonnne n°1 du tableau Excel : \"Travail_variables\"\n",
    "\n",
    "df_selec=df_final[[\"idmutation\",\n",
    "                   \"etaban_lot\",\n",
    "                   \"qty_of_mut\",\n",
    "                   \"y\",\n",
    "                   \"idnatmut\",\n",
    "                   \"datemut\",\n",
    "                   \"anneemut\",\n",
    "                   \"moismut\",\n",
    "                   \"libnatmut\",\n",
    "                   \"vefa\",\n",
    "                   \"valeurfonc\",\n",
    "                   \"nblot\",\n",
    "                   \"nbcomm\",\n",
    "                   \"l_codinsee\",\n",
    "                   \"nblocapt\",\n",
    "                   \"nblocdep\",\n",
    "                   \"nbapt2pp\",\n",
    "                   \"nbapt3pp\",\n",
    "                   \"sbati\",\n",
    "                   \"sbatapt\",\n",
    "                   \"sbatact\",\n",
    "                   \"sapt2pp\",\n",
    "                   \"sapt3pp\",\n",
    "                   \"scarrez\",\n",
    "                   \"nolot\",\n",
    "\"adedpe202006_logtype_periode_construction\",\n",
    "\"anarnc202012_nb_log\",\n",
    "\"anarnc202012_nb_lot_garpark\",\n",
    "\"anarnc202012_nb_lot_tertiaire\",\n",
    "\"anarnc202012_nb_lot_tot\",\n",
    "\"etaban202111_label\",\n",
    "\"mcumer202007_id\",\n",
    "\"adedpe202006_logtype_baie_orientation\",\n",
    "\"adedpe202006_logtype_baie_type_vitrage\",\n",
    "\"adedpe202006_logtype_ch_gen_lib_princ\",\n",
    "\"adedpe202006_logtype_classe_conso_ener\",\n",
    "\"adedpe202006_logtype_classe_estim_ges\",\n",
    "\"adedpe202006_logtype_traversant\",\n",
    "\"adedpe202006_logtype_ecs_type_ener\",\n",
    "\"adedpe202006_logtype_enr\",\n",
    "\"adedpe202006_logtype_perc_surf_vitree_ext\",\n",
    "\"adedpe202006_logtype_ph_pos_isol\",\n",
    "\"adedpe202006_logtype_presence_balcon\",\n",
    "\"adedpe202006_logtype_presence_climatisation\",\n",
    "\"adedpe202006_logtype_type_batiment\",\n",
    "\"ancqpv201410_is_qpv\",\n",
    "\"arcthd2021t1_l_bat_type\",\n",
    "\"cerffo2020_annee_construction\",\n",
    "\"cerffo2020_usage_niveau_1_txt\",\n",
    "\"cerffo2020_nb_log\",\n",
    "\"geoarg2020_alea\",\n",
    "\"georad2020_alea\",\n",
    "\"igntop202103_bat_hauteur\",\n",
    "\"insbpe2019_l_type_equipement\",\n",
    "\"mcumer202007_dist500min\",\n",
    "\"mcumer202007_is_mer\",\n",
    "\"adedpe202006_logtype_s_hab\"]]\n"
   ]
  },
  {
   "cell_type": "code",
   "execution_count": 6,
   "id": "14516c1d",
   "metadata": {},
   "outputs": [
    {
     "data": {
      "text/html": [
       "<div>\n",
       "<style scoped>\n",
       "    .dataframe tbody tr th:only-of-type {\n",
       "        vertical-align: middle;\n",
       "    }\n",
       "\n",
       "    .dataframe tbody tr th {\n",
       "        vertical-align: top;\n",
       "    }\n",
       "\n",
       "    .dataframe thead th {\n",
       "        text-align: right;\n",
       "    }\n",
       "</style>\n",
       "<table border=\"1\" class=\"dataframe\">\n",
       "  <thead>\n",
       "    <tr style=\"text-align: right;\">\n",
       "      <th></th>\n",
       "      <th>idmutation</th>\n",
       "      <th>etaban_lot</th>\n",
       "      <th>qty_of_mut</th>\n",
       "      <th>y</th>\n",
       "      <th>idnatmut</th>\n",
       "      <th>datemut</th>\n",
       "      <th>anneemut</th>\n",
       "      <th>moismut</th>\n",
       "      <th>libnatmut</th>\n",
       "      <th>vefa</th>\n",
       "      <th>...</th>\n",
       "      <th>cerffo2020_annee_construction</th>\n",
       "      <th>cerffo2020_usage_niveau_1_txt</th>\n",
       "      <th>cerffo2020_nb_log</th>\n",
       "      <th>geoarg2020_alea</th>\n",
       "      <th>georad2020_alea</th>\n",
       "      <th>igntop202103_bat_hauteur</th>\n",
       "      <th>insbpe2019_l_type_equipement</th>\n",
       "      <th>mcumer202007_dist500min</th>\n",
       "      <th>mcumer202007_is_mer</th>\n",
       "      <th>adedpe202006_logtype_s_hab</th>\n",
       "    </tr>\n",
       "  </thead>\n",
       "  <tbody>\n",
       "    <tr>\n",
       "      <th>0</th>\n",
       "      <td>7819809</td>\n",
       "      <td>75101_4901_00019_93</td>\n",
       "      <td>1</td>\n",
       "      <td>0</td>\n",
       "      <td>1</td>\n",
       "      <td>2021-06-04</td>\n",
       "      <td>2021</td>\n",
       "      <td>6</td>\n",
       "      <td>Vente</td>\n",
       "      <td>f</td>\n",
       "      <td>...</td>\n",
       "      <td>1820.0</td>\n",
       "      <td>Résidentiel collectif</td>\n",
       "      <td>100</td>\n",
       "      <td>NaN</td>\n",
       "      <td>Faible</td>\n",
       "      <td>20.2</td>\n",
       "      <td>(7:Agence immobilière,Magasin d'équipements du...</td>\n",
       "      <td>465.0</td>\n",
       "      <td>1.0</td>\n",
       "      <td>75.0</td>\n",
       "    </tr>\n",
       "    <tr>\n",
       "      <th>1</th>\n",
       "      <td>7819819</td>\n",
       "      <td>75111_1383_00005_8057</td>\n",
       "      <td>1</td>\n",
       "      <td>0</td>\n",
       "      <td>1</td>\n",
       "      <td>2021-11-25</td>\n",
       "      <td>2021</td>\n",
       "      <td>11</td>\n",
       "      <td>Vente</td>\n",
       "      <td>f</td>\n",
       "      <td>...</td>\n",
       "      <td>1978.0</td>\n",
       "      <td>Résidentiel collectif</td>\n",
       "      <td>626</td>\n",
       "      <td>NaN</td>\n",
       "      <td>Faible</td>\n",
       "      <td>35.0</td>\n",
       "      <td>(11:Menuisier, charpentier, serrurier,Pressing...</td>\n",
       "      <td>51.0</td>\n",
       "      <td>1.0</td>\n",
       "      <td>24.0</td>\n",
       "    </tr>\n",
       "    <tr>\n",
       "      <th>2</th>\n",
       "      <td>7819821</td>\n",
       "      <td>75117_5503_00103_24</td>\n",
       "      <td>1</td>\n",
       "      <td>0</td>\n",
       "      <td>1</td>\n",
       "      <td>2021-03-18</td>\n",
       "      <td>2021</td>\n",
       "      <td>3</td>\n",
       "      <td>Vente</td>\n",
       "      <td>f</td>\n",
       "      <td>...</td>\n",
       "      <td>1910.0</td>\n",
       "      <td>Résidentiel collectif</td>\n",
       "      <td>32</td>\n",
       "      <td>NaN</td>\n",
       "      <td>Faible</td>\n",
       "      <td>18.8</td>\n",
       "      <td>NaN</td>\n",
       "      <td>407.0</td>\n",
       "      <td>1.0</td>\n",
       "      <td>36.0</td>\n",
       "    </tr>\n",
       "    <tr>\n",
       "      <th>3</th>\n",
       "      <td>7819822</td>\n",
       "      <td>75115_2521_00008_19</td>\n",
       "      <td>1</td>\n",
       "      <td>0</td>\n",
       "      <td>1</td>\n",
       "      <td>2021-11-12</td>\n",
       "      <td>2021</td>\n",
       "      <td>11</td>\n",
       "      <td>Vente</td>\n",
       "      <td>f</td>\n",
       "      <td>...</td>\n",
       "      <td>1880.0</td>\n",
       "      <td>Résidentiel collectif</td>\n",
       "      <td>16</td>\n",
       "      <td>NaN</td>\n",
       "      <td>Faible</td>\n",
       "      <td>18.0</td>\n",
       "      <td>NaN</td>\n",
       "      <td>78.0</td>\n",
       "      <td>1.0</td>\n",
       "      <td>49.0</td>\n",
       "    </tr>\n",
       "    <tr>\n",
       "      <th>4</th>\n",
       "      <td>7819824</td>\n",
       "      <td>75118_2113_00110_19</td>\n",
       "      <td>2</td>\n",
       "      <td>1</td>\n",
       "      <td>1</td>\n",
       "      <td>2021-01-08</td>\n",
       "      <td>2021</td>\n",
       "      <td>1</td>\n",
       "      <td>Vente</td>\n",
       "      <td>f</td>\n",
       "      <td>...</td>\n",
       "      <td>1900.0</td>\n",
       "      <td>Résidentiel collectif</td>\n",
       "      <td>38</td>\n",
       "      <td>NaN</td>\n",
       "      <td>Faible</td>\n",
       "      <td>18.9</td>\n",
       "      <td>(1:Restaurant - Restauration rapide)</td>\n",
       "      <td>427.0</td>\n",
       "      <td>1.0</td>\n",
       "      <td>100.0</td>\n",
       "    </tr>\n",
       "  </tbody>\n",
       "</table>\n",
       "<p>5 rows × 57 columns</p>\n",
       "</div>"
      ],
      "text/plain": [
       "   idmutation             etaban_lot  qty_of_mut  y  idnatmut     datemut  \\\n",
       "0     7819809    75101_4901_00019_93           1  0         1  2021-06-04   \n",
       "1     7819819  75111_1383_00005_8057           1  0         1  2021-11-25   \n",
       "2     7819821    75117_5503_00103_24           1  0         1  2021-03-18   \n",
       "3     7819822    75115_2521_00008_19           1  0         1  2021-11-12   \n",
       "4     7819824    75118_2113_00110_19           2  1         1  2021-01-08   \n",
       "\n",
       "   anneemut  moismut libnatmut vefa  ...  cerffo2020_annee_construction  \\\n",
       "0      2021        6     Vente    f  ...                         1820.0   \n",
       "1      2021       11     Vente    f  ...                         1978.0   \n",
       "2      2021        3     Vente    f  ...                         1910.0   \n",
       "3      2021       11     Vente    f  ...                         1880.0   \n",
       "4      2021        1     Vente    f  ...                         1900.0   \n",
       "\n",
       "   cerffo2020_usage_niveau_1_txt  cerffo2020_nb_log  geoarg2020_alea  \\\n",
       "0          Résidentiel collectif                100              NaN   \n",
       "1          Résidentiel collectif                626              NaN   \n",
       "2          Résidentiel collectif                 32              NaN   \n",
       "3          Résidentiel collectif                 16              NaN   \n",
       "4          Résidentiel collectif                 38              NaN   \n",
       "\n",
       "   georad2020_alea  igntop202103_bat_hauteur  \\\n",
       "0           Faible                      20.2   \n",
       "1           Faible                      35.0   \n",
       "2           Faible                      18.8   \n",
       "3           Faible                      18.0   \n",
       "4           Faible                      18.9   \n",
       "\n",
       "                        insbpe2019_l_type_equipement  mcumer202007_dist500min  \\\n",
       "0  (7:Agence immobilière,Magasin d'équipements du...                    465.0   \n",
       "1  (11:Menuisier, charpentier, serrurier,Pressing...                     51.0   \n",
       "2                                                NaN                    407.0   \n",
       "3                                                NaN                     78.0   \n",
       "4               (1:Restaurant - Restauration rapide)                    427.0   \n",
       "\n",
       "   mcumer202007_is_mer  adedpe202006_logtype_s_hab  \n",
       "0                  1.0                        75.0  \n",
       "1                  1.0                        24.0  \n",
       "2                  1.0                        36.0  \n",
       "3                  1.0                        49.0  \n",
       "4                  1.0                       100.0  \n",
       "\n",
       "[5 rows x 57 columns]"
      ]
     },
     "execution_count": 6,
     "metadata": {},
     "output_type": "execute_result"
    }
   ],
   "source": [
    "df_selec.head()"
   ]
  },
  {
   "cell_type": "code",
   "execution_count": 7,
   "id": "671c01ff",
   "metadata": {},
   "outputs": [
    {
     "name": "stdout",
     "output_type": "stream",
     "text": [
      "<class 'pandas.core.frame.DataFrame'>\n",
      "RangeIndex: 114072 entries, 0 to 114071\n",
      "Data columns (total 57 columns):\n",
      " #   Column                                       Non-Null Count   Dtype  \n",
      "---  ------                                       --------------   -----  \n",
      " 0   idmutation                                   114072 non-null  int64  \n",
      " 1   etaban_lot                                   114072 non-null  object \n",
      " 2   qty_of_mut                                   114072 non-null  int64  \n",
      " 3   y                                            114072 non-null  int64  \n",
      " 4   idnatmut                                     114072 non-null  int64  \n",
      " 5   datemut                                      114072 non-null  object \n",
      " 6   anneemut                                     114072 non-null  int64  \n",
      " 7   moismut                                      114072 non-null  int64  \n",
      " 8   libnatmut                                    114072 non-null  object \n",
      " 9   vefa                                         114072 non-null  object \n",
      " 10  valeurfonc                                   114033 non-null  float64\n",
      " 11  nblot                                        114072 non-null  int64  \n",
      " 12  nbcomm                                       114072 non-null  int64  \n",
      " 13  l_codinsee                                   114072 non-null  int64  \n",
      " 14  nblocapt                                     114072 non-null  int64  \n",
      " 15  nblocdep                                     114072 non-null  int64  \n",
      " 16  nbapt2pp                                     114072 non-null  int64  \n",
      " 17  nbapt3pp                                     114072 non-null  int64  \n",
      " 18  sbati                                        114072 non-null  int64  \n",
      " 19  sbatapt                                      114072 non-null  int64  \n",
      " 20  sbatact                                      114072 non-null  int64  \n",
      " 21  sapt2pp                                      114072 non-null  int64  \n",
      " 22  sapt3pp                                      114072 non-null  int64  \n",
      " 23  scarrez                                      114072 non-null  float64\n",
      " 24  nolot                                        114072 non-null  object \n",
      " 25  adedpe202006_logtype_periode_construction    107820 non-null  object \n",
      " 26  anarnc202012_nb_log                          105340 non-null  float64\n",
      " 27  anarnc202012_nb_lot_garpark                  105340 non-null  float64\n",
      " 28  anarnc202012_nb_lot_tertiaire                105340 non-null  float64\n",
      " 29  anarnc202012_nb_lot_tot                      105340 non-null  float64\n",
      " 30  etaban202111_label                           114072 non-null  object \n",
      " 31  mcumer202007_id                              107993 non-null  object \n",
      " 32  adedpe202006_logtype_baie_orientation        93490 non-null   object \n",
      " 33  adedpe202006_logtype_baie_type_vitrage       106602 non-null  object \n",
      " 34  adedpe202006_logtype_ch_gen_lib_princ        107050 non-null  object \n",
      " 35  adedpe202006_logtype_classe_conso_ener       107820 non-null  object \n",
      " 36  adedpe202006_logtype_classe_estim_ges        107820 non-null  object \n",
      " 37  adedpe202006_logtype_traversant              93490 non-null   object \n",
      " 38  adedpe202006_logtype_ecs_type_ener           105833 non-null  object \n",
      " 39  adedpe202006_logtype_enr                     36 non-null      object \n",
      " 40  adedpe202006_logtype_perc_surf_vitree_ext    18372 non-null   float64\n",
      " 41  adedpe202006_logtype_ph_pos_isol             81449 non-null   object \n",
      " 42  adedpe202006_logtype_presence_balcon         20109 non-null   float64\n",
      " 43  adedpe202006_logtype_presence_climatisation  107820 non-null  float64\n",
      " 44  adedpe202006_logtype_type_batiment           107820 non-null  object \n",
      " 45  ancqpv201410_is_qpv                          113819 non-null  float64\n",
      " 46  arcthd2021t1_l_bat_type                      89037 non-null   object \n",
      " 47  cerffo2020_annee_construction                103191 non-null  float64\n",
      " 48  cerffo2020_usage_niveau_1_txt                114072 non-null  object \n",
      " 49  cerffo2020_nb_log                            114072 non-null  int64  \n",
      " 50  geoarg2020_alea                              0 non-null       float64\n",
      " 51  georad2020_alea                              113819 non-null  object \n",
      " 52  igntop202103_bat_hauteur                     113804 non-null  float64\n",
      " 53  insbpe2019_l_type_equipement                 72948 non-null   object \n",
      " 54  mcumer202007_dist500min                      107993 non-null  float64\n",
      " 55  mcumer202007_is_mer                          113819 non-null  float64\n",
      " 56  adedpe202006_logtype_s_hab                   107644 non-null  float64\n",
      "dtypes: float64(16), int64(19), object(22)\n",
      "memory usage: 49.6+ MB\n"
     ]
    }
   ],
   "source": [
    "df_selec.info()"
   ]
  },
  {
   "cell_type": "code",
   "execution_count": 8,
   "id": "91418dc3",
   "metadata": {},
   "outputs": [],
   "source": [
    "# Suppression de la variable \"qty_of_mut\" pq quand au lancement des modèles de classification, elle prend le pas sur toutes les autres\n",
    "# et du coup aucun faux négatif, ni faux positifs ne sortent. Tous les scores = 1\n",
    "\n",
    "df_selec=df_selec.drop(\"qty_of_mut\", axis=1)"
   ]
  },
  {
   "cell_type": "code",
   "execution_count": 9,
   "id": "7cd094c3",
   "metadata": {},
   "outputs": [
    {
     "data": {
      "text/plain": [
       "array([nan, 'solaire photovoltaique', 'solaire thermique (ecs)'],\n",
       "      dtype=object)"
      ]
     },
     "execution_count": 9,
     "metadata": {},
     "output_type": "execute_result"
    }
   ],
   "source": [
    "# Variable \"adedpe202006_logtype_enr\" => Energies renouvelables présentes dans le bâtiment\n",
    "df_selec[\"adedpe202006_logtype_enr\"].unique()"
   ]
  },
  {
   "cell_type": "code",
   "execution_count": 10,
   "id": "f88109aa",
   "metadata": {},
   "outputs": [
    {
     "data": {
      "text/plain": [
       "solaire thermique (ecs)    31\n",
       "solaire photovoltaique      5\n",
       "Name: adedpe202006_logtype_enr, dtype: int64"
      ]
     },
     "execution_count": 10,
     "metadata": {},
     "output_type": "execute_result"
    }
   ],
   "source": [
    "df_selec[\"adedpe202006_logtype_enr\"].value_counts()"
   ]
  },
  {
   "cell_type": "code",
   "execution_count": 11,
   "id": "057084e6",
   "metadata": {},
   "outputs": [],
   "source": [
    "# Seulement 36 lignes pour lesquelles la variable est renseignée. \n",
    "# Le reste est Nan  mais on peut supposer que ce ne sont pas des vraies Nan \n",
    "# Ca peut plutôt signifier l'absence d'énergies renouvelables dans le bâtiment\n",
    "\n",
    "def filtre (x):\n",
    "    if x ==\"solaire thermique (ecs)\" :\n",
    "        return 1\n",
    "    elif x ==\"solaire photovoltaique\" :\n",
    "        return 1\n",
    "    else : \n",
    "        return 0\n",
    "    \n",
    "df_selec[\"adedpe202006_logtype_enr\"]=df_selec[\"adedpe202006_logtype_enr\"].apply(filtre)"
   ]
  },
  {
   "cell_type": "code",
   "execution_count": 12,
   "id": "313eccf8",
   "metadata": {},
   "outputs": [
    {
     "data": {
      "text/plain": [
       "0    114036\n",
       "1        36\n",
       "Name: adedpe202006_logtype_enr, dtype: int64"
      ]
     },
     "execution_count": 12,
     "metadata": {},
     "output_type": "execute_result"
    }
   ],
   "source": [
    "df_selec[\"adedpe202006_logtype_enr\"].value_counts()"
   ]
  },
  {
   "cell_type": "code",
   "execution_count": 13,
   "id": "2832a211",
   "metadata": {},
   "outputs": [
    {
     "data": {
      "text/plain": [
       "Résidentiel collectif     110539\n",
       "Tertiaire & Autres          2882\n",
       "Résidentiel individuel       445\n",
       "Dépendance                   199\n",
       "Secondaire                     7\n",
       "Name: cerffo2020_usage_niveau_1_txt, dtype: int64"
      ]
     },
     "execution_count": 13,
     "metadata": {},
     "output_type": "execute_result"
    }
   ],
   "source": [
    "df_selec[\"cerffo2020_usage_niveau_1_txt\"].value_counts()"
   ]
  },
  {
   "cell_type": "code",
   "execution_count": 14,
   "id": "abf1e438",
   "metadata": {},
   "outputs": [],
   "source": [
    "# Regroupement des dépendances et secondaires en autres sinon plantage en get dummies\n",
    "\n",
    "df_selec[\"cerffo2020_usage_niveau_1_txt\"]=df_selec[\"cerffo2020_usage_niveau_1_txt\"].replace({\"Dépendance\":\"Autres\", \"Secondaire\":\"Autres\"})"
   ]
  },
  {
   "cell_type": "code",
   "execution_count": 15,
   "id": "126b37f8",
   "metadata": {},
   "outputs": [
    {
     "data": {
      "text/plain": [
       "Résidentiel collectif     110539\n",
       "Tertiaire & Autres          2882\n",
       "Résidentiel individuel       445\n",
       "Autres                       206\n",
       "Name: cerffo2020_usage_niveau_1_txt, dtype: int64"
      ]
     },
     "execution_count": 15,
     "metadata": {},
     "output_type": "execute_result"
    }
   ],
   "source": [
    "df_selec[\"cerffo2020_usage_niveau_1_txt\"].value_counts()"
   ]
  },
  {
   "cell_type": "code",
   "execution_count": null,
   "id": "e42139a9",
   "metadata": {},
   "outputs": [],
   "source": []
  },
  {
   "cell_type": "code",
   "execution_count": 16,
   "id": "35e4ece1",
   "metadata": {},
   "outputs": [],
   "source": [
    "# Les variables qui concernent les dates ne vont pas passer en get_dummies. Je les supprime à ce stade \n",
    "# quitte à les réintégrer plus tard \n",
    "df_selec=df_selec.drop(\"datemut\", axis=1)\n",
    "df_selec=df_selec.drop(\"anneemut\", axis=1)\n",
    "df_selec=df_selec.drop(\"moismut\", axis=1)"
   ]
  },
  {
   "cell_type": "code",
   "execution_count": null,
   "id": "e69648f8",
   "metadata": {},
   "outputs": [],
   "source": []
  },
  {
   "cell_type": "code",
   "execution_count": 17,
   "id": "fa96380a",
   "metadata": {},
   "outputs": [
    {
     "data": {
      "text/plain": [
       "array(['Vente', \"Vente en l'état futur d'achèvement\"], dtype=object)"
      ]
     },
     "execution_count": 17,
     "metadata": {},
     "output_type": "execute_result"
    }
   ],
   "source": [
    "df_selec[\"libnatmut\"].unique()"
   ]
  },
  {
   "cell_type": "code",
   "execution_count": 18,
   "id": "68102e2c",
   "metadata": {},
   "outputs": [
    {
     "data": {
      "text/plain": [
       "array(['f', 't'], dtype=object)"
      ]
     },
     "execution_count": 18,
     "metadata": {},
     "output_type": "execute_result"
    }
   ],
   "source": [
    "df_selec[\"vefa\"].unique()"
   ]
  },
  {
   "cell_type": "code",
   "execution_count": 19,
   "id": "61001426",
   "metadata": {},
   "outputs": [],
   "source": [
    "#La variable \"nolot\" n'est plus utile. Elle a été fusionnée avec etaban dans etaban_lot dans df_final[\"nolot\"]\n",
    "\n",
    "df_selec=df_selec.drop(\"nolot\", axis=1)"
   ]
  },
  {
   "cell_type": "code",
   "execution_count": 20,
   "id": "151f4a11",
   "metadata": {},
   "outputs": [],
   "source": [
    "# Je supprime aussi la variable etaban_lot qui va poser problème au moment du get_dummies. \n",
    "\n",
    "df_selec=df_selec.drop(\"etaban_lot\", axis=1)"
   ]
  },
  {
   "cell_type": "code",
   "execution_count": 21,
   "id": "e6b67249",
   "metadata": {},
   "outputs": [
    {
     "data": {
      "text/plain": [
       "6252"
      ]
     },
     "execution_count": 21,
     "metadata": {},
     "output_type": "execute_result"
    }
   ],
   "source": [
    "df_selec[\"adedpe202006_logtype_periode_construction\"].isna().sum()"
   ]
  },
  {
   "cell_type": "code",
   "execution_count": 22,
   "id": "fa6ba1ae",
   "metadata": {},
   "outputs": [
    {
     "data": {
      "text/plain": [
       "array(['<1948', 'bad inf', '1970-1988', nan, '1949-1970', '2000-2005',\n",
       "       '1989-1999', '2006-2012', '>2012', 'bad sup'], dtype=object)"
      ]
     },
     "execution_count": 22,
     "metadata": {},
     "output_type": "execute_result"
    }
   ],
   "source": [
    "df_selec[\"adedpe202006_logtype_periode_construction\"].unique()"
   ]
  },
  {
   "cell_type": "code",
   "execution_count": 23,
   "id": "804ad22f",
   "metadata": {},
   "outputs": [
    {
     "data": {
      "text/plain": [
       "10881"
      ]
     },
     "execution_count": 23,
     "metadata": {},
     "output_type": "execute_result"
    }
   ],
   "source": [
    "df_selec[\"cerffo2020_annee_construction\"].isna().sum()"
   ]
  },
  {
   "cell_type": "code",
   "execution_count": 24,
   "id": "cc25ada4",
   "metadata": {},
   "outputs": [
    {
     "data": {
      "text/plain": [
       "['<1948', '1970-1988', NaN, '2005-2012', '>2012', '2000-2005', '1949-1970', '1989-1999']\n",
       "Categories (7, object): ['<1948' < '1949-1970' < '1970-1988' < '1989-1999' < '2000-2005' < '2005-2012' < '>2012']"
      ]
     },
     "execution_count": 24,
     "metadata": {},
     "output_type": "execute_result"
    }
   ],
   "source": [
    "#Comme année de construction possède bcp moins de na, on ne va garder que cette variable mais on va la discrétiser\n",
    "df_selec[\"cerffo2020_annee_construction\"]=pd.cut(x=df_selec[\"cerffo2020_annee_construction\"], bins=[0,1948,1970,1989,2000,2005,2012, 2022], labels=[\"<1948\", \"1949-1970\", \"1970-1988\", \"1989-1999\", \"2000-2005\", \"2005-2012\", \">2012\"])\n",
    "df_selec[\"cerffo2020_annee_construction\"].unique()"
   ]
  },
  {
   "cell_type": "code",
   "execution_count": 25,
   "id": "c27d8a75",
   "metadata": {},
   "outputs": [],
   "source": [
    "#suppression de la variable \" adedpe202006_logtype_periode_construction \"\n",
    "\n",
    "df_selec.drop(\"adedpe202006_logtype_periode_construction\", axis=1, inplace=True)"
   ]
  },
  {
   "cell_type": "code",
   "execution_count": 26,
   "id": "44c89ff6",
   "metadata": {},
   "outputs": [
    {
     "data": {
      "text/plain": [
       "0               (1:sud)\n",
       "1             (1:ouest)\n",
       "2              (1:nord)\n",
       "3              (1:nord)\n",
       "4              (1:nord)\n",
       "              ...      \n",
       "114067    (2:ouest,sud)\n",
       "114068         (1:nord)\n",
       "114069         (1:nord)\n",
       "114070         (1:nord)\n",
       "114071     (2:nord,sud)\n",
       "Name: adedpe202006_logtype_baie_orientation, Length: 114072, dtype: object"
      ]
     },
     "execution_count": 26,
     "metadata": {},
     "output_type": "execute_result"
    }
   ],
   "source": [
    "df_selec[\"adedpe202006_logtype_baie_orientation\"]"
   ]
  },
  {
   "cell_type": "code",
   "execution_count": 27,
   "id": "de87649f",
   "metadata": {},
   "outputs": [],
   "source": [
    "# Simplification des valeurs de la variable \"adedpe202006_logtype_baie_orientation\" => \n",
    "# sa multitude de valeurs créé des différence de nombre de colonnes entre X train et X test après get dummies\n",
    "\n",
    "df_selec[\"adedpe202006_logtype_baie_orientation\"]=df_selec[\"adedpe202006_logtype_baie_orientation\"].astype(str)\n"
   ]
  },
  {
   "cell_type": "code",
   "execution_count": 28,
   "id": "9c61f644",
   "metadata": {},
   "outputs": [
    {
     "data": {
      "text/plain": [
       "0               1:sud\n",
       "1             1:ouest\n",
       "2              1:nord\n",
       "3              1:nord\n",
       "4              1:nord\n",
       "             ...     \n",
       "114067    2:ouest,sud\n",
       "114068         1:nord\n",
       "114069         1:nord\n",
       "114070         1:nord\n",
       "114071     2:nord,sud\n",
       "Name: adedpe202006_logtype_baie_orientation, Length: 114072, dtype: object"
      ]
     },
     "execution_count": 28,
     "metadata": {},
     "output_type": "execute_result"
    }
   ],
   "source": [
    "df_selec[\"adedpe202006_logtype_baie_orientation\"]=df_selec[\"adedpe202006_logtype_baie_orientation\"].apply(lambda x : x.strip(\"()\"))\n",
    "df_selec[\"adedpe202006_logtype_baie_orientation\"]"
   ]
  },
  {
   "cell_type": "code",
   "execution_count": 29,
   "id": "5ede4d97",
   "metadata": {},
   "outputs": [
    {
     "data": {
      "text/plain": [
       "array(['1:sud', '1:ouest', '1:nord', '2:nord,sud', 'nan', '1:est',\n",
       "       '2:est,ouest', '2:nord,ouest', '3:nord,ouest,sud', '2:est,nord',\n",
       "       '3:est,nord,sud', '4:est,nord,ouest,sud', '3:est,ouest,sud',\n",
       "       '2:ouest,sud', '2:est,sud', '3:est,nord,ouest',\n",
       "       '2:est ou ouest,nord', '1:horizontale', '2:est ou ouest,sud',\n",
       "       '3:est,est ou ouest,sud', '2:est,est ou ouest',\n",
       "       '3:est,indetermine,nord', '2:est,indetermine',\n",
       "       '3:est,est ou ouest,nord', '3:est ou ouest,nord,sud',\n",
       "       '3:indetermine,nord,sud', '4:est,indetermine,ouest,sud',\n",
       "       '3:horizontale,nord,sud', '1:est ou ouest',\n",
       "       '2:est ou ouest,horizontale', '3:est,indetermine,ouest',\n",
       "       '5:est,horizontale,nord,ouest,sud', '2:indetermine,ouest',\n",
       "       '4:horizontale,nord,ouest,sud', '4:est,est ou ouest,nord,sud',\n",
       "       '4:est,horizontale,nord,sud', '5:est,indetermine,nord,ouest,sud',\n",
       "       '2:indetermine,sud'], dtype=object)"
      ]
     },
     "execution_count": 29,
     "metadata": {},
     "output_type": "execute_result"
    }
   ],
   "source": [
    "df_selec[\"adedpe202006_logtype_baie_orientation\"].unique()"
   ]
  },
  {
   "cell_type": "code",
   "execution_count": 30,
   "id": "dbef7359",
   "metadata": {},
   "outputs": [
    {
     "data": {
      "text/plain": [
       "array(['sud', 'ouest', 'nord', 'nord,sud', 'n', 'est', 'est,ouest',\n",
       "       'nord,ouest', 'nord,ouest,sud', 'est,nord', 'est,nord,sud',\n",
       "       'est,nord,ouest,sud', 'est,ouest,sud', 'ouest,sud', 'est,sud',\n",
       "       'est,nord,ouest', 'est ou ouest,nord', 'horizontale',\n",
       "       'est ou ouest,sud', 'est,est ou ouest,sud', 'est,est ou ouest',\n",
       "       'est,indetermine,nord', 'est,indetermine', 'est,est ou ouest,nord',\n",
       "       'est ou ouest,nord,sud', 'indetermine,nord,sud',\n",
       "       'est,indetermine,ouest,sud', 'horizontale,nord,sud',\n",
       "       'est ou ouest', 'est ou ouest,horizontale',\n",
       "       'est,indetermine,ouest', 'est,horizontale,nord,ouest,sud',\n",
       "       'indetermine,ouest', 'horizontale,nord,ouest,sud',\n",
       "       'est,est ou ouest,nord,sud', 'est,horizontale,nord,sud',\n",
       "       'est,indetermine,nord,ouest,sud', 'indetermine,sud'], dtype=object)"
      ]
     },
     "execution_count": 30,
     "metadata": {},
     "output_type": "execute_result"
    }
   ],
   "source": [
    "df_selec[\"adedpe202006_logtype_baie_orientation\"]=df_selec[\"adedpe202006_logtype_baie_orientation\"].apply(lambda x : x[2:])\n",
    "df_selec[\"adedpe202006_logtype_baie_orientation\"].unique()"
   ]
  },
  {
   "cell_type": "code",
   "execution_count": 31,
   "id": "01b3b016",
   "metadata": {},
   "outputs": [
    {
     "data": {
      "text/plain": [
       "array(['sud', 'ouest', 'nord', 'nord,sud', 'Nan', 'est', 'est,ouest',\n",
       "       'nord,ouest', 'nord,ouest,sud', 'est,nord', 'est,nord,sud',\n",
       "       'est,nord,ouest,sud', 'est,ouest,sud', 'ouest,sud', 'est,sud',\n",
       "       'est,nord,ouest', 'est ou ouest,nord', 'horizontale',\n",
       "       'est ou ouest,sud', 'est,est ou ouest,sud', 'est,est ou ouest',\n",
       "       'est,indetermine,nord', 'est,indetermine', 'est,est ou ouest,nord',\n",
       "       'est ou ouest,nord,sud', 'indetermine,nord,sud',\n",
       "       'est,indetermine,ouest,sud', 'horizontale,nord,sud',\n",
       "       'est ou ouest', 'est ou ouest,horizontale',\n",
       "       'est,indetermine,ouest', 'est,horizontale,nord,ouest,sud',\n",
       "       'indetermine,ouest', 'horizontale,nord,ouest,sud',\n",
       "       'est,est ou ouest,nord,sud', 'est,horizontale,nord,sud',\n",
       "       'est,indetermine,nord,ouest,sud', 'indetermine,sud'], dtype=object)"
      ]
     },
     "execution_count": 31,
     "metadata": {},
     "output_type": "execute_result"
    }
   ],
   "source": [
    "df_selec[\"adedpe202006_logtype_baie_orientation\"]=df_selec[\"adedpe202006_logtype_baie_orientation\"].replace({\"n\": \"Nan\"})\n",
    "df_selec[\"adedpe202006_logtype_baie_orientation\"].unique()"
   ]
  },
  {
   "cell_type": "code",
   "execution_count": 32,
   "id": "e88fe668",
   "metadata": {},
   "outputs": [
    {
     "data": {
      "text/plain": [
       "nord                              58715\n",
       "Nan                               20582\n",
       "est                                7259\n",
       "nord,sud                           6602\n",
       "sud                                4800\n",
       "est,ouest                          3738\n",
       "ouest                              3566\n",
       "est,nord,sud                       1124\n",
       "est,ouest,sud                      1049\n",
       "ouest,sud                          1013\n",
       "nord,ouest                         1007\n",
       "est,sud                             995\n",
       "est,nord                            914\n",
       "est,nord,ouest,sud                  824\n",
       "est,nord,ouest                      821\n",
       "nord,ouest,sud                      793\n",
       "horizontale                          59\n",
       "est ou ouest,nord                    38\n",
       "est,est ou ouest                     38\n",
       "est ou ouest,nord,sud                30\n",
       "est ou ouest,sud                     20\n",
       "est,est ou ouest,sud                 17\n",
       "est,indetermine                      16\n",
       "indetermine,nord,sud                 11\n",
       "est ou ouest                         11\n",
       "est,est ou ouest,nord                 5\n",
       "est,indetermine,nord                  4\n",
       "est,indetermine,ouest,sud             3\n",
       "horizontale,nord,sud                  3\n",
       "est,horizontale,nord,ouest,sud        3\n",
       "indetermine,ouest                     3\n",
       "est,indetermine,nord,ouest,sud        3\n",
       "est ou ouest,horizontale              1\n",
       "est,indetermine,ouest                 1\n",
       "horizontale,nord,ouest,sud            1\n",
       "est,est ou ouest,nord,sud             1\n",
       "est,horizontale,nord,sud              1\n",
       "indetermine,sud                       1\n",
       "Name: adedpe202006_logtype_baie_orientation, dtype: int64"
      ]
     },
     "execution_count": 32,
     "metadata": {},
     "output_type": "execute_result"
    }
   ],
   "source": [
    "df_selec[\"adedpe202006_logtype_baie_orientation\"].value_counts()"
   ]
  },
  {
   "cell_type": "code",
   "execution_count": 33,
   "id": "2a8ae528",
   "metadata": {},
   "outputs": [],
   "source": [
    "def filtre_sud(x) :\n",
    "    if \"sud\" in x :\n",
    "        return 1\n",
    "    else : \n",
    "        return 0\n",
    "    \n",
    "df_selec[\"baie_orientation_sud\"]=df_selec[\"adedpe202006_logtype_baie_orientation\"].apply(filtre_sud)"
   ]
  },
  {
   "cell_type": "code",
   "execution_count": 34,
   "id": "4ce3acba",
   "metadata": {},
   "outputs": [
    {
     "data": {
      "text/plain": [
       "0    96778\n",
       "1    17294\n",
       "Name: baie_orientation_sud, dtype: int64"
      ]
     },
     "execution_count": 34,
     "metadata": {},
     "output_type": "execute_result"
    }
   ],
   "source": [
    "df_selec[\"baie_orientation_sud\"].value_counts()"
   ]
  },
  {
   "cell_type": "code",
   "execution_count": 35,
   "id": "262dada3",
   "metadata": {},
   "outputs": [],
   "source": [
    "def filtre_nord(x) :\n",
    "    if \"nord\" in x :\n",
    "        return 1\n",
    "    else : \n",
    "        return 0\n",
    "    \n",
    "df_selec[\"baie_orientation_nord\"]=df_selec[\"adedpe202006_logtype_baie_orientation\"].apply(filtre_nord)"
   ]
  },
  {
   "cell_type": "code",
   "execution_count": 36,
   "id": "117dfd5e",
   "metadata": {},
   "outputs": [
    {
     "data": {
      "text/plain": [
       "1    70900\n",
       "0    43172\n",
       "Name: baie_orientation_nord, dtype: int64"
      ]
     },
     "execution_count": 36,
     "metadata": {},
     "output_type": "execute_result"
    }
   ],
   "source": [
    "df_selec[\"baie_orientation_nord\"].value_counts()"
   ]
  },
  {
   "cell_type": "code",
   "execution_count": 37,
   "id": "6eab29d8",
   "metadata": {},
   "outputs": [],
   "source": [
    "def filtre_ouest(x) :\n",
    "    if \"ouest\" in x :\n",
    "        return 1\n",
    "    else : \n",
    "        return 0\n",
    "    \n",
    "df_selec[\"baie_orientation_ouest\"]=df_selec[\"adedpe202006_logtype_baie_orientation\"].apply(filtre_ouest)"
   ]
  },
  {
   "cell_type": "code",
   "execution_count": 38,
   "id": "99448d3c",
   "metadata": {},
   "outputs": [
    {
     "data": {
      "text/plain": [
       "0    101086\n",
       "1     12986\n",
       "Name: baie_orientation_ouest, dtype: int64"
      ]
     },
     "execution_count": 38,
     "metadata": {},
     "output_type": "execute_result"
    }
   ],
   "source": [
    "df_selec[\"baie_orientation_ouest\"].value_counts()"
   ]
  },
  {
   "cell_type": "code",
   "execution_count": 39,
   "id": "d9914368",
   "metadata": {},
   "outputs": [],
   "source": [
    "def filtre_est(x) :\n",
    "    if x.startswith(\"est\") :\n",
    "        return 1\n",
    "    else : \n",
    "        return 0\n",
    "    \n",
    "df_selec[\"baie_orientation_est\"]=df_selec[\"adedpe202006_logtype_baie_orientation\"].apply(filtre_est)\n"
   ]
  },
  {
   "cell_type": "code",
   "execution_count": 40,
   "id": "587c1914",
   "metadata": {},
   "outputs": [
    {
     "data": {
      "text/plain": [
       "0    97156\n",
       "1    16916\n",
       "Name: baie_orientation_est, dtype: int64"
      ]
     },
     "execution_count": 40,
     "metadata": {},
     "output_type": "execute_result"
    }
   ],
   "source": [
    "df_selec[\"baie_orientation_est\"].value_counts()\n"
   ]
  },
  {
   "cell_type": "code",
   "execution_count": 41,
   "id": "98613584",
   "metadata": {},
   "outputs": [],
   "source": [
    "def filtre_autre(x) :\n",
    "    if \"indetermine\" in x:\n",
    "        return 1\n",
    "    elif \"horizontale\" in x:\n",
    "        return 1\n",
    "    else : \n",
    "        return 0\n",
    "    \n",
    "df_selec[\"baie_orientation_autre\"]=df_selec[\"adedpe202006_logtype_baie_orientation\"].apply(filtre_autre)\n"
   ]
  },
  {
   "cell_type": "code",
   "execution_count": 42,
   "id": "88c8dac0",
   "metadata": {},
   "outputs": [
    {
     "data": {
      "text/plain": [
       "0    113962\n",
       "1       110\n",
       "Name: baie_orientation_autre, dtype: int64"
      ]
     },
     "execution_count": 42,
     "metadata": {},
     "output_type": "execute_result"
    }
   ],
   "source": [
    "df_selec[\"baie_orientation_autre\"].value_counts()"
   ]
  },
  {
   "cell_type": "code",
   "execution_count": 43,
   "id": "90076220",
   "metadata": {},
   "outputs": [],
   "source": [
    "# suppression de la variable df_selec[\"adedpe202006_logtype_baie_orientation\"]\n",
    "\n",
    "df_selec=df_selec.drop(\"adedpe202006_logtype_baie_orientation\", axis=1)"
   ]
  },
  {
   "cell_type": "code",
   "execution_count": 44,
   "id": "e775acfc",
   "metadata": {
    "scrolled": true
   },
   "outputs": [
    {
     "data": {
      "text/plain": [
       "generateurs a effet joule                          53279\n",
       "chaudiere gaz standard                             33823\n",
       "reseau de chaleur                                   7131\n",
       "chaudiere gaz basse temperature                     3901\n",
       "chaudiere gaz condensation                          2886\n",
       "chaudiere fioul standard                            2550\n",
       "chaudiere electrique                                 938\n",
       "pac air/air                                          749\n",
       "pac indetermine                                      494\n",
       "chaudiere energie indetermine standard               319\n",
       "radiateurs gaz                                       226\n",
       "chaudiere fioul basse temperature                    214\n",
       "chaudiere energie indetermine indetermine            208\n",
       "chauffage autre indetermine                           79\n",
       "pac air/eau                                           72\n",
       "chaudiere energie indetermine basse temperature       57\n",
       "chaudiere fioul condensation                          32\n",
       "chaudiere bois                                        29\n",
       "chaudiere energie indetermine condensation            26\n",
       "pac eau/eau                                           16\n",
       "pac geothermique                                       6\n",
       "poele ou insert bois                                   4\n",
       "chaudiere gpl/butane/propane standard                  4\n",
       "poele ou insert charbon                                3\n",
       "chaudiere charbon standard                             2\n",
       "poele ou insert indetermine                            1\n",
       "chauffage solaire                                      1\n",
       "Name: adedpe202006_logtype_ch_gen_lib_princ, dtype: int64"
      ]
     },
     "execution_count": 44,
     "metadata": {},
     "output_type": "execute_result"
    }
   ],
   "source": [
    "# Simplification des valeurs de la variable \"adedpe202006_logtype_ch_gen_lib_princ\" => \n",
    "# sa multitude de valeurs créé des différence de nombre de colonnes entre X train et X test après get dummies\n",
    "\n",
    "df_selec[\"adedpe202006_logtype_ch_gen_lib_princ\"].value_counts()"
   ]
  },
  {
   "cell_type": "code",
   "execution_count": 45,
   "id": "03da464f",
   "metadata": {},
   "outputs": [
    {
     "data": {
      "text/plain": [
       "generateurs a effet joule                          53279\n",
       "chaudiere gaz standard                             33823\n",
       "reseau de chaleur                                   7131\n",
       "chaudiere gaz basse temperature                     3901\n",
       "chaudiere gaz condensation                          2886\n",
       "chaudiere fioul standard                            2550\n",
       "chaudiere electrique                                 938\n",
       "pac air/air                                          749\n",
       "pac indetermine                                      494\n",
       "chaudiere energie indetermine standard               319\n",
       "radiateurs gaz                                       226\n",
       "chaudiere fioul basse temperature                    214\n",
       "chaudiere energie indetermine indetermine            208\n",
       "autres                                                92\n",
       "chauffage autre indetermine                           79\n",
       "pac air/eau                                           72\n",
       "chaudiere energie indetermine basse temperature       57\n",
       "chaudiere fioul condensation                          32\n",
       "Name: adedpe202006_logtype_ch_gen_lib_princ, dtype: int64"
      ]
     },
     "execution_count": 45,
     "metadata": {},
     "output_type": "execute_result"
    }
   ],
   "source": [
    "# Regroupement des occurences \n",
    "\n",
    "liste_equipement =[\"chaudiere bois\",\n",
    "                   \"chaudiere energie indetermine condensation\",\n",
    "                   \"pac eau/eau\",\n",
    "                   \"pac geothermique\",\n",
    "                   \"poele ou insert bois\",\n",
    "                   \"chaudiere gpl/butane/propane standard\",\n",
    "                   \"poele ou insert charbon\",\n",
    "                   \"chaudiere charbon standard\",\n",
    "                   \"poele ou insert indetermine\",\n",
    "                   \"chauffage solaire\"]\n",
    "\n",
    "def filtre_autre_equipement (x) :\n",
    "    if x in  liste_equipement :\n",
    "        return \"autres\"\n",
    "    else :\n",
    "        return x\n",
    "        \n",
    "df_selec[\"adedpe202006_logtype_ch_gen_lib_princ\"]=df_selec[\"adedpe202006_logtype_ch_gen_lib_princ\"].apply(filtre_autre_equipement)\n",
    "df_selec[\"adedpe202006_logtype_ch_gen_lib_princ\"].value_counts()"
   ]
  },
  {
   "cell_type": "code",
   "execution_count": 46,
   "id": "73193069",
   "metadata": {},
   "outputs": [
    {
     "data": {
      "text/plain": [
       "electricite                                                    58681\n",
       "gaz                                                            38182\n",
       "reseau de chaleur                                               6348\n",
       "fioul                                                           1996\n",
       "ecs thermodynamique electrique(pac ou ballon)                    320\n",
       "bois                                                             141\n",
       "ecs thermodynamique electrique(pac ou ballon) + gaz               65\n",
       "bois + reseau de chaleur                                          46\n",
       "electricite + gaz                                                 15\n",
       "bois + gaz                                                        13\n",
       "ecs thermodynamique electrique(pac ou ballon) + electricite        9\n",
       "bois + ecs thermodynamique electrique(pac ou ballon) + gaz         5\n",
       "autre                                                              4\n",
       "gpl/butane/propane                                                 4\n",
       "charbon + gaz                                                      3\n",
       "electricite + reseau de chaleur                                    1\n",
       "Name: adedpe202006_logtype_ecs_type_ener, dtype: int64"
      ]
     },
     "execution_count": 46,
     "metadata": {},
     "output_type": "execute_result"
    }
   ],
   "source": [
    "# Simplification des valeurs de la variable \"adedpe202006_logtype_ecs_type_ener\" => \n",
    "# sa multitude de valeurs créé des différences de nombre de colonnes entre X train et X test après get dummies.\n",
    "df_selec[\"adedpe202006_logtype_ecs_type_ener\"].value_counts()"
   ]
  },
  {
   "cell_type": "code",
   "execution_count": 47,
   "id": "2ae2de07",
   "metadata": {},
   "outputs": [
    {
     "data": {
      "text/plain": [
       "electricite          58681\n",
       "gaz                  38182\n",
       "reseau de chaleur     6348\n",
       "fioul                 1996\n",
       "autres                 626\n",
       "Name: adedpe202006_logtype_ecs_type_ener, dtype: int64"
      ]
     },
     "execution_count": 47,
     "metadata": {},
     "output_type": "execute_result"
    }
   ],
   "source": [
    "# Regroupement des occurences \n",
    "\n",
    "liste_equipement =[\"ecs thermodynamique electrique(pac ou ballon)\",\n",
    "                   \"bois\",\n",
    "                   \"ecs thermodynamique electrique(pac ou ballon) + gaz\",\n",
    "                   \"bois + reseau de chaleur\",\n",
    "                   \"electricite + gaz\",\n",
    "                   \"bois + gaz\",\n",
    "                   \"ecs thermodynamique electrique(pac ou ballon) + electricite\",\n",
    "                   \"bois + ecs thermodynamique electrique(pac ou ballon) + gaz\",\n",
    "                   \"autre\",\n",
    "                   \"gpl/butane/propane\",\n",
    "                   \"charbon + gaz\",\n",
    "                   \"electricite + reseau de chaleur\"]\n",
    "\n",
    "def filtre_autre_equipement (x) :\n",
    "    if x in  liste_equipement :\n",
    "        return \"autres\"\n",
    "    else :\n",
    "        return x\n",
    "        \n",
    "df_selec[\"adedpe202006_logtype_ecs_type_ener\"]=df_selec[\"adedpe202006_logtype_ecs_type_ener\"].apply(filtre_autre_equipement)\n",
    "df_selec[\"adedpe202006_logtype_ecs_type_ener\"].value_counts()\n",
    "\n"
   ]
  },
  {
   "cell_type": "code",
   "execution_count": null,
   "id": "e5010bdf",
   "metadata": {},
   "outputs": [],
   "source": []
  },
  {
   "cell_type": "code",
   "execution_count": 48,
   "id": "f0b38714",
   "metadata": {},
   "outputs": [
    {
     "data": {
      "text/plain": [
       "{immeuble}                                                                                                                                                                                        79933\n",
       "{immeuble,immeuble}                                                                                                                                                                                4010\n",
       "{immeuble,pavillon}                                                                                                                                                                                2044\n",
       "{immeuble,immeuble,immeuble}                                                                                                                                                                        814\n",
       "{pavillon}                                                                                                                                                                                          762\n",
       "{immeuble,immeuble,immeuble,immeuble}                                                                                                                                                               277\n",
       "{pavillon,immeuble}                                                                                                                                                                                 230\n",
       "{immeuble,pavillon,immeuble}                                                                                                                                                                        112\n",
       "{immeuble,immeuble,pavillon}                                                                                                                                                                        111\n",
       "{immeuble,immeuble,immeuble,immeuble,immeuble}                                                                                                                                                       87\n",
       "{immeuble,pavillon,immeuble,immeuble,immeuble}                                                                                                                                                       78\n",
       "{immeuble,immeuble,immeuble,immeuble,immeuble,pavillon,immeuble,immeuble}                                                                                                                            61\n",
       "{immeuble,immeuble,pavillon,immeuble}                                                                                                                                                                57\n",
       "{immeuble,immeuble,immeuble,pavillon,immeuble,immeuble,immeuble}                                                                                                                                     52\n",
       "{immeuble,immeuble,immeuble,immeuble,immeuble,immeuble}                                                                                                                                              41\n",
       "{immeuble,immeuble,immeuble,immeuble,immeuble,immeuble,immeuble}                                                                                                                                     40\n",
       "{immeuble,immeuble,immeuble,pavillon}                                                                                                                                                                40\n",
       "{immeuble,immeuble,immeuble,immeuble,pavillon}                                                                                                                                                       39\n",
       "{pavillon,pavillon,immeuble,pavillon}                                                                                                                                                                29\n",
       "{pavillon,immeuble,pavillon,pavillon}                                                                                                                                                                27\n",
       "{immeuble,immeuble,immeuble,immeuble,immeuble,pavillon}                                                                                                                                              26\n",
       "{pavillon,immeuble,pavillon}                                                                                                                                                                         26\n",
       "{immeuble,immeuble,immeuble,immeuble,pavillon,pavillon}                                                                                                                                              16\n",
       "{immeuble,pavillon,immeuble,immeuble}                                                                                                                                                                14\n",
       "{pavillon,immeuble,immeuble}                                                                                                                                                                         13\n",
       "{pavillon,immeuble,pavillon,immeuble,immeuble,immeuble}                                                                                                                                              11\n",
       "{immeuble,immeuble,immeuble,immeuble,immeuble,immeuble,immeuble,immeuble}                                                                                                                            10\n",
       "{immeuble,immeuble,pavillon,immeuble,immeuble}                                                                                                                                                        9\n",
       "{immeuble,immeuble,immeuble,immeuble,immeuble,immeuble,immeuble,immeuble,immeuble,immeuble,immeuble,pavillon,immeuble,pavillon,immeuble,immeuble,immeuble,pavillon,immeuble,immeuble}                 9\n",
       "{immeuble,immeuble,immeuble,pavillon,pavillon}                                                                                                                                                        8\n",
       "{pavillon,pavillon}                                                                                                                                                                                   8\n",
       "{immeuble,immeuble,immeuble,immeuble,immeuble,immeuble,immeuble,immeuble,immeuble,immeuble,immeuble}                                                                                                  6\n",
       "{immeuble,pavillon,immeuble,immeuble,immeuble,pavillon}                                                                                                                                               6\n",
       "{immeuble,immeuble,pavillon,immeuble,immeuble,pavillon,immeuble,immeuble,immeuble,immeuble,immeuble,pavillon,immeuble,pavillon,immeuble,immeuble,immeuble,immeuble,immeuble,pavillon,immeuble}        5\n",
       "{immeuble,pavillon,pavillon,immeuble}                                                                                                                                                                 4\n",
       "{immeuble,immeuble,immeuble,pavillon,immeuble}                                                                                                                                                        4\n",
       "{immeuble,pavillon,pavillon,immeuble,immeuble}                                                                                                                                                        4\n",
       "{pavillon,immeuble,pavillon,immeuble}                                                                                                                                                                 4\n",
       "{immeuble,pavillon,pavillon}                                                                                                                                                                          2\n",
       "{immeuble,pavillon,immeuble,pavillon}                                                                                                                                                                 2\n",
       "{immeuble,immeuble,immeuble,pavillon,immeuble,immeuble}                                                                                                                                               2\n",
       "{immeuble,immeuble,immeuble,immeuble,pavillon,immeuble}                                                                                                                                               1\n",
       "{immeuble,immeuble,immeuble,immeuble,immeuble,immeuble,immeuble,immeuble,immeuble}                                                                                                                    1\n",
       "{immeuble,immeuble,immeuble,immeuble,immeuble,pavillon,immeuble,immeuble,pavillon,immeuble}                                                                                                           1\n",
       "{pavillon,immeuble,immeuble,pavillon}                                                                                                                                                                 1\n",
       "Name: arcthd2021t1_l_bat_type, dtype: int64"
      ]
     },
     "execution_count": 48,
     "metadata": {},
     "output_type": "execute_result"
    }
   ],
   "source": [
    "# Variable \"arcthd2021t1_l_bat_type\" => (arcep) Type de construction du bâtiment\n",
    "\n",
    "df_selec[\"arcthd2021t1_l_bat_type\"].value_counts()\n"
   ]
  },
  {
   "cell_type": "code",
   "execution_count": 49,
   "id": "995f44f0",
   "metadata": {},
   "outputs": [],
   "source": [
    "# On supprime cette variable pq on ne s'intéresse qu'aux bâtiments en copropriété \n",
    "\n",
    "df_selec=df_selec.drop(\"arcthd2021t1_l_bat_type\", axis=1)\n"
   ]
  },
  {
   "cell_type": "code",
   "execution_count": 50,
   "id": "1a9f8ea2",
   "metadata": {},
   "outputs": [
    {
     "data": {
      "text/plain": [
       "['idmutation',\n",
       " 'y',\n",
       " 'idnatmut',\n",
       " 'valeurfonc',\n",
       " 'nblot',\n",
       " 'nbcomm',\n",
       " 'l_codinsee',\n",
       " 'nblocapt',\n",
       " 'nblocdep',\n",
       " 'nbapt2pp',\n",
       " 'nbapt3pp',\n",
       " 'sbati',\n",
       " 'sbatapt',\n",
       " 'sbatact',\n",
       " 'sapt2pp',\n",
       " 'sapt3pp',\n",
       " 'scarrez',\n",
       " 'anarnc202012_nb_log',\n",
       " 'anarnc202012_nb_lot_garpark',\n",
       " 'anarnc202012_nb_lot_tertiaire',\n",
       " 'anarnc202012_nb_lot_tot',\n",
       " 'adedpe202006_logtype_enr',\n",
       " 'adedpe202006_logtype_perc_surf_vitree_ext',\n",
       " 'adedpe202006_logtype_presence_balcon',\n",
       " 'adedpe202006_logtype_presence_climatisation',\n",
       " 'ancqpv201410_is_qpv',\n",
       " 'cerffo2020_nb_log',\n",
       " 'geoarg2020_alea',\n",
       " 'igntop202103_bat_hauteur',\n",
       " 'mcumer202007_dist500min',\n",
       " 'mcumer202007_is_mer',\n",
       " 'adedpe202006_logtype_s_hab',\n",
       " 'baie_orientation_sud',\n",
       " 'baie_orientation_nord',\n",
       " 'baie_orientation_ouest',\n",
       " 'baie_orientation_est',\n",
       " 'baie_orientation_autre']"
      ]
     },
     "execution_count": 50,
     "metadata": {},
     "output_type": "execute_result"
    }
   ],
   "source": [
    "numeric_columns=df_selec.select_dtypes(include=np.number).columns.tolist()\n",
    "numeric_columns"
   ]
  },
  {
   "cell_type": "code",
   "execution_count": 51,
   "id": "054dbeb9",
   "metadata": {},
   "outputs": [
    {
     "data": {
      "text/plain": [
       "['idmutation',\n",
       " 'y',\n",
       " 'idnatmut',\n",
       " 'valeurfonc',\n",
       " 'nblot',\n",
       " 'nbcomm',\n",
       " 'l_codinsee',\n",
       " 'nblocapt',\n",
       " 'nblocdep',\n",
       " 'nbapt2pp',\n",
       " 'nbapt3pp',\n",
       " 'sbati',\n",
       " 'sbatapt',\n",
       " 'sbatact',\n",
       " 'sapt2pp',\n",
       " 'sapt3pp',\n",
       " 'scarrez',\n",
       " 'anarnc202012_nb_log',\n",
       " 'anarnc202012_nb_lot_garpark',\n",
       " 'anarnc202012_nb_lot_tertiaire',\n",
       " 'anarnc202012_nb_lot_tot',\n",
       " 'adedpe202006_logtype_enr',\n",
       " 'adedpe202006_logtype_perc_surf_vitree_ext',\n",
       " 'adedpe202006_logtype_presence_balcon',\n",
       " 'adedpe202006_logtype_presence_climatisation',\n",
       " 'ancqpv201410_is_qpv',\n",
       " 'cerffo2020_nb_log',\n",
       " 'geoarg2020_alea',\n",
       " 'igntop202103_bat_hauteur',\n",
       " 'mcumer202007_dist500min',\n",
       " 'mcumer202007_is_mer',\n",
       " 'adedpe202006_logtype_s_hab',\n",
       " 'baie_orientation_sud',\n",
       " 'baie_orientation_nord',\n",
       " 'baie_orientation_ouest',\n",
       " 'baie_orientation_est',\n",
       " 'baie_orientation_autre']"
      ]
     },
     "execution_count": 51,
     "metadata": {},
     "output_type": "execute_result"
    }
   ],
   "source": [
    "numeric_columns"
   ]
  },
  {
   "cell_type": "code",
   "execution_count": 52,
   "id": "70ae0505",
   "metadata": {},
   "outputs": [
    {
     "data": {
      "text/plain": [
       "['libnatmut',\n",
       " 'vefa',\n",
       " 'etaban202111_label',\n",
       " 'mcumer202007_id',\n",
       " 'adedpe202006_logtype_baie_type_vitrage',\n",
       " 'adedpe202006_logtype_ch_gen_lib_princ',\n",
       " 'adedpe202006_logtype_classe_conso_ener',\n",
       " 'adedpe202006_logtype_classe_estim_ges',\n",
       " 'adedpe202006_logtype_traversant',\n",
       " 'adedpe202006_logtype_ecs_type_ener',\n",
       " 'adedpe202006_logtype_ph_pos_isol',\n",
       " 'adedpe202006_logtype_type_batiment',\n",
       " 'cerffo2020_usage_niveau_1_txt',\n",
       " 'georad2020_alea',\n",
       " 'insbpe2019_l_type_equipement']"
      ]
     },
     "execution_count": 52,
     "metadata": {},
     "output_type": "execute_result"
    }
   ],
   "source": [
    "object_columns=df_selec.select_dtypes(include='object').columns.tolist()\n",
    "object_columns"
   ]
  },
  {
   "cell_type": "code",
   "execution_count": 53,
   "id": "e345bb52",
   "metadata": {},
   "outputs": [
    {
     "name": "stdout",
     "output_type": "stream",
     "text": [
      "2\n",
      "2\n",
      "29281\n",
      "1739\n",
      "5\n",
      "18\n",
      "8\n",
      "8\n",
      "9\n",
      "5\n",
      "5\n",
      "5\n",
      "4\n",
      "1\n",
      "5151\n"
     ]
    }
   ],
   "source": [
    "for col in df_selec[object_columns]:\n",
    "    print(df_selec[col].nunique())"
   ]
  },
  {
   "cell_type": "code",
   "execution_count": 54,
   "id": "ad36cff2",
   "metadata": {},
   "outputs": [
    {
     "data": {
      "text/plain": [
       "list"
      ]
     },
     "execution_count": 54,
     "metadata": {},
     "output_type": "execute_result"
    }
   ],
   "source": [
    "type(numeric_columns)"
   ]
  },
  {
   "cell_type": "code",
   "execution_count": 55,
   "id": "ea1894e0",
   "metadata": {},
   "outputs": [
    {
     "name": "stdout",
     "output_type": "stream",
     "text": [
      "etaban202111_label mcumer202007_id insbpe2019_l_type_equipement\n"
     ]
    }
   ],
   "source": [
    "#A quoi correspondent les colonnes qui ont 26298, 1767 et 4123 valeurs uniques  ?\n",
    "print(object_columns[2],object_columns[3], object_columns[-1]) \n"
   ]
  },
  {
   "cell_type": "code",
   "execution_count": 56,
   "id": "3ca47ea9",
   "metadata": {},
   "outputs": [
    {
     "data": {
      "text/plain": [
       "0         19 Rue Jean-Jacques Rousseau 75001 Paris\n",
       "1                80 Rue de la Roquette 75011 Paris\n",
       "2                    103 Rue Lemercier 75017 Paris\n",
       "3                          8 Rue Dalou 75015 Paris\n",
       "4              110 Boulevard de Clichy 75018 Paris\n",
       "                            ...                   \n",
       "114067    37 Rue Jean-Baptiste Pigalle 75009 Paris\n",
       "114068              9 Rue Joseph Dijon 75018 Paris\n",
       "114069             7 Rue Chateaubriand 75008 Paris\n",
       "114070             177 Boulevard Murat 75016 Paris\n",
       "114071             20 Rue du Transvaal 75020 Paris\n",
       "Name: etaban202111_label, Length: 114072, dtype: object"
      ]
     },
     "execution_count": 56,
     "metadata": {},
     "output_type": "execute_result"
    }
   ],
   "source": [
    "df_selec[\"etaban202111_label\"]"
   ]
  },
  {
   "cell_type": "code",
   "execution_count": 57,
   "id": "91517b09",
   "metadata": {},
   "outputs": [],
   "source": [
    "#On supprime la colonne etaban202111_label\" => on travaillera uniquemet avec le code etaban_lot si besoin\n",
    "object_columns.remove(\"etaban202111_label\")\n",
    "df_selec=df_selec.drop(\"etaban202111_label\", axis=1)"
   ]
  },
  {
   "cell_type": "code",
   "execution_count": 58,
   "id": "f43c0922",
   "metadata": {},
   "outputs": [
    {
     "data": {
      "text/plain": [
       "0         PA00085855\n",
       "1         PA75110001\n",
       "2         PA75170004\n",
       "3         PA00086657\n",
       "4         PA00088936\n",
       "             ...    \n",
       "114067    PA00088920\n",
       "114068    PA00086756\n",
       "114069    PA00088889\n",
       "114070    PA00086698\n",
       "114071    PA00086791\n",
       "Name: mcumer202007_id, Length: 114072, dtype: object"
      ]
     },
     "execution_count": 58,
     "metadata": {},
     "output_type": "execute_result"
    }
   ],
   "source": [
    "df_selec[\"mcumer202007_id\"]"
   ]
  },
  {
   "cell_type": "code",
   "execution_count": 59,
   "id": "50f1e2a9",
   "metadata": {},
   "outputs": [
    {
     "data": {
      "text/plain": [
       "1739"
      ]
     },
     "execution_count": 59,
     "metadata": {},
     "output_type": "execute_result"
    }
   ],
   "source": [
    "df_selec[\"mcumer202007_id\"].nunique()"
   ]
  },
  {
   "cell_type": "code",
   "execution_count": 60,
   "id": "1b01c15f",
   "metadata": {},
   "outputs": [
    {
     "data": {
      "text/plain": [
       "6079"
      ]
     },
     "execution_count": 60,
     "metadata": {},
     "output_type": "execute_result"
    }
   ],
   "source": [
    "df_final[\"mcumer202007_id\"].isna().sum()"
   ]
  },
  {
   "cell_type": "code",
   "execution_count": 61,
   "id": "2386a508",
   "metadata": {},
   "outputs": [
    {
     "data": {
      "text/plain": [
       "count         107993\n",
       "unique          1739\n",
       "top       PA00132991\n",
       "freq            1272\n",
       "Name: mcumer202007_id, dtype: object"
      ]
     },
     "execution_count": 61,
     "metadata": {},
     "output_type": "execute_result"
    }
   ],
   "source": [
    "df_final[\"mcumer202007_id\"].describe()"
   ]
  },
  {
   "cell_type": "code",
   "execution_count": 62,
   "id": "09e21745",
   "metadata": {},
   "outputs": [],
   "source": [
    "# 88130 des mutations ont un identifiant mcumer202007_id. Le reste ce sont des nan. \n",
    "# Si cet identifiant veut dire que le bâtiment est dans un périmètre ABF monument historique, autant prendre la variable mcumer202007_is_mer. \n",
    "# Si cet identifiant veut dire que le bâtiment est classé monument historique => alors pas nécessaire de le garder pq ils le sont tous dans la mesure où ils ont tous un identifiant"
   ]
  },
  {
   "cell_type": "code",
   "execution_count": 63,
   "id": "971856f1",
   "metadata": {},
   "outputs": [],
   "source": [
    "# Décision prise de supprimer les variables \"mcumer202007_id\" et \"mcumer202007_dist500min\" pour ne garder que \"mcumer202007_is_mer\"\n",
    "\n",
    "object_columns.remove(\"mcumer202007_id\")\n",
    "numeric_columns.remove(\"mcumer202007_dist500min\")\n",
    "\n",
    "df_selec=df_selec.drop([\"mcumer202007_id\",\"mcumer202007_dist500min\"], axis=1)\n"
   ]
  },
  {
   "cell_type": "code",
   "execution_count": 64,
   "id": "4157616e",
   "metadata": {},
   "outputs": [
    {
     "data": {
      "text/plain": [
       "5151"
      ]
     },
     "execution_count": 64,
     "metadata": {},
     "output_type": "execute_result"
    }
   ],
   "source": [
    "df_selec[\"insbpe2019_l_type_equipement\"].nunique()"
   ]
  },
  {
   "cell_type": "code",
   "execution_count": 65,
   "id": "09b11ce8",
   "metadata": {},
   "outputs": [
    {
     "data": {
      "text/plain": [
       "0         7:Agence immobilière,Magasin d'équipements du ...\n",
       "1         11:Menuisier, charpentier, serrurier,Pressing ...\n",
       "2                                                       nan\n",
       "3                                                       nan\n",
       "4                        1:Restaurant - Restauration rapide\n",
       "                                ...                        \n",
       "114067                                                  nan\n",
       "114068    4:Coiffure,Institut de beauté - Onglerie,Taxi ...\n",
       "114069    2:Agence immobilière,Spécialiste en dermatolog...\n",
       "114070                                                  nan\n",
       "114071                                                  nan\n",
       "Name: insbpe2019_l_type_equipement, Length: 114072, dtype: object"
      ]
     },
     "execution_count": 65,
     "metadata": {},
     "output_type": "execute_result"
    }
   ],
   "source": [
    "df_selec[\"insbpe2019_l_type_equipement\"]=df_selec[\"insbpe2019_l_type_equipement\"].astype(str)\n",
    "df_selec[\"insbpe2019_l_type_equipement\"]=df_selec[\"insbpe2019_l_type_equipement\"].apply(lambda x : x.strip(\"()\"))\n",
    "df_selec[\"insbpe2019_l_type_equipement\"]"
   ]
  },
  {
   "cell_type": "code",
   "execution_count": 66,
   "id": "0ea96b5b",
   "metadata": {},
   "outputs": [],
   "source": [
    "# On ne va conserver que les occurences qui à priori occasionnent le plus de nuisances sonores pour les riverains \n",
    "# et qui par conséquent sont suceptibles de déclencher une revente\n",
    "\n",
    "def filtre_supermarché (x):\n",
    "    if \"Supermarché\" in x or \"Épicerie\" in x or \"Supérette\" in x or \"Hypermarché\" in x :\n",
    "        return 1\n",
    "    else :\n",
    "        return 0\n"
   ]
  },
  {
   "cell_type": "code",
   "execution_count": 67,
   "id": "26ecbe1c",
   "metadata": {},
   "outputs": [],
   "source": [
    "df_selec[\"insbpe2019_l_type_equipement_supermarché\"]=df_selec[\"insbpe2019_l_type_equipement\"].apply(filtre_supermarché)"
   ]
  },
  {
   "cell_type": "code",
   "execution_count": 68,
   "id": "05e6be1d",
   "metadata": {},
   "outputs": [
    {
     "data": {
      "text/plain": [
       "0    106646\n",
       "1      7426\n",
       "Name: insbpe2019_l_type_equipement_supermarché, dtype: int64"
      ]
     },
     "execution_count": 68,
     "metadata": {},
     "output_type": "execute_result"
    }
   ],
   "source": [
    "df_selec[\"insbpe2019_l_type_equipement_supermarché\"].value_counts()"
   ]
  },
  {
   "cell_type": "code",
   "execution_count": 69,
   "id": "c3d63f98",
   "metadata": {},
   "outputs": [
    {
     "data": {
      "text/html": [
       "<div>\n",
       "<style scoped>\n",
       "    .dataframe tbody tr th:only-of-type {\n",
       "        vertical-align: middle;\n",
       "    }\n",
       "\n",
       "    .dataframe tbody tr th {\n",
       "        vertical-align: top;\n",
       "    }\n",
       "\n",
       "    .dataframe thead th {\n",
       "        text-align: right;\n",
       "    }\n",
       "</style>\n",
       "<table border=\"1\" class=\"dataframe\">\n",
       "  <thead>\n",
       "    <tr style=\"text-align: right;\">\n",
       "      <th></th>\n",
       "      <th>insbpe2019_l_type_equipement</th>\n",
       "      <th>insbpe2019_l_type_equipement_supermarché</th>\n",
       "    </tr>\n",
       "  </thead>\n",
       "  <tbody>\n",
       "    <tr>\n",
       "      <th>0</th>\n",
       "      <td>7:Agence immobilière,Magasin d'équipements du ...</td>\n",
       "      <td>0</td>\n",
       "    </tr>\n",
       "    <tr>\n",
       "      <th>1</th>\n",
       "      <td>11:Menuisier, charpentier, serrurier,Pressing ...</td>\n",
       "      <td>1</td>\n",
       "    </tr>\n",
       "    <tr>\n",
       "      <th>2</th>\n",
       "      <td>nan</td>\n",
       "      <td>0</td>\n",
       "    </tr>\n",
       "    <tr>\n",
       "      <th>3</th>\n",
       "      <td>nan</td>\n",
       "      <td>0</td>\n",
       "    </tr>\n",
       "    <tr>\n",
       "      <th>4</th>\n",
       "      <td>1:Restaurant - Restauration rapide</td>\n",
       "      <td>0</td>\n",
       "    </tr>\n",
       "    <tr>\n",
       "      <th>...</th>\n",
       "      <td>...</td>\n",
       "      <td>...</td>\n",
       "    </tr>\n",
       "    <tr>\n",
       "      <th>114067</th>\n",
       "      <td>nan</td>\n",
       "      <td>0</td>\n",
       "    </tr>\n",
       "    <tr>\n",
       "      <th>114068</th>\n",
       "      <td>4:Coiffure,Institut de beauté - Onglerie,Taxi ...</td>\n",
       "      <td>1</td>\n",
       "    </tr>\n",
       "    <tr>\n",
       "      <th>114069</th>\n",
       "      <td>2:Agence immobilière,Spécialiste en dermatolog...</td>\n",
       "      <td>0</td>\n",
       "    </tr>\n",
       "    <tr>\n",
       "      <th>114070</th>\n",
       "      <td>nan</td>\n",
       "      <td>0</td>\n",
       "    </tr>\n",
       "    <tr>\n",
       "      <th>114071</th>\n",
       "      <td>nan</td>\n",
       "      <td>0</td>\n",
       "    </tr>\n",
       "  </tbody>\n",
       "</table>\n",
       "<p>114072 rows × 2 columns</p>\n",
       "</div>"
      ],
      "text/plain": [
       "                             insbpe2019_l_type_equipement  \\\n",
       "0       7:Agence immobilière,Magasin d'équipements du ...   \n",
       "1       11:Menuisier, charpentier, serrurier,Pressing ...   \n",
       "2                                                     nan   \n",
       "3                                                     nan   \n",
       "4                      1:Restaurant - Restauration rapide   \n",
       "...                                                   ...   \n",
       "114067                                                nan   \n",
       "114068  4:Coiffure,Institut de beauté - Onglerie,Taxi ...   \n",
       "114069  2:Agence immobilière,Spécialiste en dermatolog...   \n",
       "114070                                                nan   \n",
       "114071                                                nan   \n",
       "\n",
       "        insbpe2019_l_type_equipement_supermarché  \n",
       "0                                              0  \n",
       "1                                              1  \n",
       "2                                              0  \n",
       "3                                              0  \n",
       "4                                              0  \n",
       "...                                          ...  \n",
       "114067                                         0  \n",
       "114068                                         1  \n",
       "114069                                         0  \n",
       "114070                                         0  \n",
       "114071                                         0  \n",
       "\n",
       "[114072 rows x 2 columns]"
      ]
     },
     "execution_count": 69,
     "metadata": {},
     "output_type": "execute_result"
    }
   ],
   "source": [
    "df_selec[[\"insbpe2019_l_type_equipement\", \"insbpe2019_l_type_equipement_supermarché\"]]"
   ]
  },
  {
   "cell_type": "code",
   "execution_count": 70,
   "id": "8a1d6e39",
   "metadata": {},
   "outputs": [
    {
     "data": {
      "text/plain": [
       "'11:Menuisier, charpentier, serrurier,Pressing - Laverie automatique,Agence de voyages,Agence immobilière,Masseur kinésithérapeute,Médecin généraliste,Sage-femme,Spécialiste en dermatologie vénéréologie,Spécialiste en psychiatrie,Supermarché,Supérette'"
      ]
     },
     "execution_count": 70,
     "metadata": {},
     "output_type": "execute_result"
    }
   ],
   "source": [
    "df_selec.iloc[1][\"insbpe2019_l_type_equipement\"]"
   ]
  },
  {
   "cell_type": "code",
   "execution_count": 71,
   "id": "d67abd8c",
   "metadata": {},
   "outputs": [],
   "source": [
    "def filtre_restaurant (x):\n",
    "    if \"Restaurant - Restauration rapide\" in x or \":Restaurant - Restauration rapide\" in x or \"Restaurant universitaire\" in x :\n",
    "        return 1\n",
    "    else :\n",
    "        return 0"
   ]
  },
  {
   "cell_type": "code",
   "execution_count": 72,
   "id": "7078f9bc",
   "metadata": {},
   "outputs": [],
   "source": [
    "df_selec[\"insbpe2019_l_type_equipement_restaurant\"]=df_selec[\"insbpe2019_l_type_equipement\"].apply(filtre_restaurant)"
   ]
  },
  {
   "cell_type": "code",
   "execution_count": 73,
   "id": "dc440670",
   "metadata": {},
   "outputs": [
    {
     "data": {
      "text/plain": [
       "0    87775\n",
       "1    26297\n",
       "Name: insbpe2019_l_type_equipement_restaurant, dtype: int64"
      ]
     },
     "execution_count": 73,
     "metadata": {},
     "output_type": "execute_result"
    }
   ],
   "source": [
    "df_selec[\"insbpe2019_l_type_equipement_restaurant\"].value_counts()"
   ]
  },
  {
   "cell_type": "code",
   "execution_count": 74,
   "id": "d1215878",
   "metadata": {},
   "outputs": [],
   "source": [
    "def filtre_boulangerie (x):\n",
    "    if \"Boulangerie\" in x or \":Boulangerie\" in x :\n",
    "        return 1\n",
    "    else :\n",
    "        return 0"
   ]
  },
  {
   "cell_type": "code",
   "execution_count": 75,
   "id": "55893a2d",
   "metadata": {},
   "outputs": [],
   "source": [
    "df_selec[\"insbpe2019_l_type_equipement_boulangerie\"]=df_selec[\"insbpe2019_l_type_equipement\"].apply(filtre_boulangerie)"
   ]
  },
  {
   "cell_type": "code",
   "execution_count": 76,
   "id": "5486c110",
   "metadata": {},
   "outputs": [
    {
     "data": {
      "text/plain": [
       "0    110180\n",
       "1      3892\n",
       "Name: insbpe2019_l_type_equipement_boulangerie, dtype: int64"
      ]
     },
     "execution_count": 76,
     "metadata": {},
     "output_type": "execute_result"
    }
   ],
   "source": [
    "df_selec[\"insbpe2019_l_type_equipement_boulangerie\"].value_counts()"
   ]
  },
  {
   "cell_type": "code",
   "execution_count": 77,
   "id": "270a055b",
   "metadata": {},
   "outputs": [],
   "source": [
    "# Création d'une variable \"insbpe2019_l_type_equipement_bruyant\"\n",
    "df_selec[\"Commerces_bruyants\"]=df_selec[\"insbpe2019_l_type_equipement_supermarché\"]+df_selec[\"insbpe2019_l_type_equipement_boulangerie\"]+df_selec[\"insbpe2019_l_type_equipement_restaurant\"]\n",
    "\n"
   ]
  },
  {
   "cell_type": "code",
   "execution_count": 78,
   "id": "14e3b0aa",
   "metadata": {},
   "outputs": [],
   "source": [
    "#On peut maintenant supprimer la colonne df_selec[\"insbpe2019_l_type_equipement\"] \n",
    "# et les colonnes qui ont servies à créer la variable \"commerces_bruyants\"\n",
    "to_drop=[\"insbpe2019_l_type_equipement\", \n",
    "         \"insbpe2019_l_type_equipement_supermarché\",\n",
    "                   \"insbpe2019_l_type_equipement_restaurant\",\n",
    "                   \"insbpe2019_l_type_equipement_boulangerie\"]\n",
    "\n",
    "df_selec=df_selec.drop(to_drop, axis=1)"
   ]
  },
  {
   "cell_type": "code",
   "execution_count": 79,
   "id": "b42d1016",
   "metadata": {},
   "outputs": [
    {
     "data": {
      "text/plain": [
       "['libnatmut',\n",
       " 'vefa',\n",
       " 'adedpe202006_logtype_baie_type_vitrage',\n",
       " 'adedpe202006_logtype_ch_gen_lib_princ',\n",
       " 'adedpe202006_logtype_classe_conso_ener',\n",
       " 'adedpe202006_logtype_classe_estim_ges',\n",
       " 'adedpe202006_logtype_traversant',\n",
       " 'adedpe202006_logtype_ecs_type_ener',\n",
       " 'adedpe202006_logtype_ph_pos_isol',\n",
       " 'adedpe202006_logtype_type_batiment',\n",
       " 'cerffo2020_usage_niveau_1_txt',\n",
       " 'georad2020_alea']"
      ]
     },
     "execution_count": 79,
     "metadata": {},
     "output_type": "execute_result"
    }
   ],
   "source": [
    "object_columns=df_selec.select_dtypes(include='object').columns.tolist()\n",
    "object_columns"
   ]
  },
  {
   "cell_type": "code",
   "execution_count": 80,
   "id": "772e3f2e",
   "metadata": {},
   "outputs": [
    {
     "name": "stdout",
     "output_type": "stream",
     "text": [
      "2\n",
      "2\n",
      "5\n",
      "18\n",
      "8\n",
      "8\n",
      "9\n",
      "5\n",
      "5\n",
      "5\n",
      "4\n",
      "1\n"
     ]
    }
   ],
   "source": [
    "for col in df_selec[object_columns]:\n",
    "    print(df_selec[col].nunique())"
   ]
  },
  {
   "cell_type": "code",
   "execution_count": 81,
   "id": "7c427ae7",
   "metadata": {},
   "outputs": [
    {
     "data": {
      "text/plain": [
       "114072"
      ]
     },
     "execution_count": 81,
     "metadata": {},
     "output_type": "execute_result"
    }
   ],
   "source": [
    "df_selec[\"geoarg2020_alea\"].isna().sum()"
   ]
  },
  {
   "cell_type": "code",
   "execution_count": 82,
   "id": "e2a87699",
   "metadata": {},
   "outputs": [],
   "source": [
    "#La variable \"geoarg2020_alea\" est composée à 100% de Nan\n",
    "# Aucun bâtiment en risque argile à Paris : https://assistance.brgm.fr/georisques/pourquoi-ny-til-pas-cartographie-lexposition-au-risque-retrait-gonflement-argiles-ville\n",
    "#Je supprime\n",
    "\n",
    "numeric_columns.remove(\"geoarg2020_alea\")\n",
    "\n",
    "df_selec=df_selec.drop(\"geoarg2020_alea\", axis=1)"
   ]
  },
  {
   "cell_type": "code",
   "execution_count": 83,
   "id": "600cf253",
   "metadata": {},
   "outputs": [
    {
     "name": "stdout",
     "output_type": "stream",
     "text": [
      "<class 'pandas.core.frame.DataFrame'>\n",
      "RangeIndex: 114072 entries, 0 to 114071\n",
      "Data columns (total 49 columns):\n",
      " #   Column                                       Non-Null Count   Dtype   \n",
      "---  ------                                       --------------   -----   \n",
      " 0   idmutation                                   114072 non-null  int64   \n",
      " 1   y                                            114072 non-null  int64   \n",
      " 2   idnatmut                                     114072 non-null  int64   \n",
      " 3   libnatmut                                    114072 non-null  object  \n",
      " 4   vefa                                         114072 non-null  object  \n",
      " 5   valeurfonc                                   114033 non-null  float64 \n",
      " 6   nblot                                        114072 non-null  int64   \n",
      " 7   nbcomm                                       114072 non-null  int64   \n",
      " 8   l_codinsee                                   114072 non-null  int64   \n",
      " 9   nblocapt                                     114072 non-null  int64   \n",
      " 10  nblocdep                                     114072 non-null  int64   \n",
      " 11  nbapt2pp                                     114072 non-null  int64   \n",
      " 12  nbapt3pp                                     114072 non-null  int64   \n",
      " 13  sbati                                        114072 non-null  int64   \n",
      " 14  sbatapt                                      114072 non-null  int64   \n",
      " 15  sbatact                                      114072 non-null  int64   \n",
      " 16  sapt2pp                                      114072 non-null  int64   \n",
      " 17  sapt3pp                                      114072 non-null  int64   \n",
      " 18  scarrez                                      114072 non-null  float64 \n",
      " 19  anarnc202012_nb_log                          105340 non-null  float64 \n",
      " 20  anarnc202012_nb_lot_garpark                  105340 non-null  float64 \n",
      " 21  anarnc202012_nb_lot_tertiaire                105340 non-null  float64 \n",
      " 22  anarnc202012_nb_lot_tot                      105340 non-null  float64 \n",
      " 23  adedpe202006_logtype_baie_type_vitrage       106602 non-null  object  \n",
      " 24  adedpe202006_logtype_ch_gen_lib_princ        107050 non-null  object  \n",
      " 25  adedpe202006_logtype_classe_conso_ener       107820 non-null  object  \n",
      " 26  adedpe202006_logtype_classe_estim_ges        107820 non-null  object  \n",
      " 27  adedpe202006_logtype_traversant              93490 non-null   object  \n",
      " 28  adedpe202006_logtype_ecs_type_ener           105833 non-null  object  \n",
      " 29  adedpe202006_logtype_enr                     114072 non-null  int64   \n",
      " 30  adedpe202006_logtype_perc_surf_vitree_ext    18372 non-null   float64 \n",
      " 31  adedpe202006_logtype_ph_pos_isol             81449 non-null   object  \n",
      " 32  adedpe202006_logtype_presence_balcon         20109 non-null   float64 \n",
      " 33  adedpe202006_logtype_presence_climatisation  107820 non-null  float64 \n",
      " 34  adedpe202006_logtype_type_batiment           107820 non-null  object  \n",
      " 35  ancqpv201410_is_qpv                          113819 non-null  float64 \n",
      " 36  cerffo2020_annee_construction                103191 non-null  category\n",
      " 37  cerffo2020_usage_niveau_1_txt                114072 non-null  object  \n",
      " 38  cerffo2020_nb_log                            114072 non-null  int64   \n",
      " 39  georad2020_alea                              113819 non-null  object  \n",
      " 40  igntop202103_bat_hauteur                     113804 non-null  float64 \n",
      " 41  mcumer202007_is_mer                          113819 non-null  float64 \n",
      " 42  adedpe202006_logtype_s_hab                   107644 non-null  float64 \n",
      " 43  baie_orientation_sud                         114072 non-null  int64   \n",
      " 44  baie_orientation_nord                        114072 non-null  int64   \n",
      " 45  baie_orientation_ouest                       114072 non-null  int64   \n",
      " 46  baie_orientation_est                         114072 non-null  int64   \n",
      " 47  baie_orientation_autre                       114072 non-null  int64   \n",
      " 48  Commerces_bruyants                           114072 non-null  int64   \n",
      "dtypes: category(1), float64(13), int64(23), object(12)\n",
      "memory usage: 41.9+ MB\n"
     ]
    }
   ],
   "source": [
    "df_selec.info()"
   ]
  },
  {
   "cell_type": "code",
   "execution_count": 84,
   "id": "66cd61a4",
   "metadata": {},
   "outputs": [
    {
     "data": {
      "text/plain": [
       "ecs electrique a effet joule                       56447\n",
       "chaudiere gaz standard                             30092\n",
       "reseau de chaleur                                   6292\n",
       "chaudiere gaz basse temperature                     3585\n",
       "chaudiere gaz condensation                          2596\n",
       "chaudiere electrique                                1835\n",
       "chaudiere fioul standard                            1801\n",
       "chauffe-eau gaz independant                         1789\n",
       "ecs solaire                                          637\n",
       "chaudiere energie indetermine standard               351\n",
       "ecs thermodynamique electrique(pac ou ballon)        308\n",
       "chaudiere energie indetermine indetermine            288\n",
       "chaudiere bois                                       205\n",
       "chaudiere fioul basse temperature                    164\n",
       "production mixte indetermine                         144\n",
       "chauffe-eau independant indetermine                  101\n",
       "chaudiere energie indetermine basse temperature       72\n",
       "chaudiere fioul condensation                          31\n",
       "chaudiere energie indetermine condensation            25\n",
       "ecs autre indetermine                                  4\n",
       "chaudiere gpl/butane/propane standard                  4\n",
       "Name: adedpe202006_logtype_ecs_gen_lib_princ, dtype: int64"
      ]
     },
     "execution_count": 84,
     "metadata": {},
     "output_type": "execute_result"
    }
   ],
   "source": [
    "df_final[\"adedpe202006_logtype_ecs_gen_lib_princ\"].value_counts()"
   ]
  },
  {
   "cell_type": "code",
   "execution_count": 85,
   "id": "72676dfb",
   "metadata": {},
   "outputs": [
    {
     "data": {
      "text/plain": [
       "electricite                                                    58681\n",
       "gaz                                                            38182\n",
       "reseau de chaleur                                               6348\n",
       "fioul                                                           1996\n",
       "ecs thermodynamique electrique(pac ou ballon)                    320\n",
       "bois                                                             141\n",
       "ecs thermodynamique electrique(pac ou ballon) + gaz               65\n",
       "bois + reseau de chaleur                                          46\n",
       "electricite + gaz                                                 15\n",
       "bois + gaz                                                        13\n",
       "ecs thermodynamique electrique(pac ou ballon) + electricite        9\n",
       "bois + ecs thermodynamique electrique(pac ou ballon) + gaz         5\n",
       "autre                                                              4\n",
       "gpl/butane/propane                                                 4\n",
       "charbon + gaz                                                      3\n",
       "electricite + reseau de chaleur                                    1\n",
       "Name: adedpe202006_logtype_ecs_type_ener, dtype: int64"
      ]
     },
     "execution_count": 85,
     "metadata": {},
     "output_type": "execute_result"
    }
   ],
   "source": [
    "df_final[\"adedpe202006_logtype_ecs_type_ener\"].value_counts()"
   ]
  },
  {
   "cell_type": "code",
   "execution_count": 86,
   "id": "cb54d1ec",
   "metadata": {},
   "outputs": [],
   "source": [
    "df_selec.to_csv(r\"C:\\Users\\Anne\\Projet Bâtiment\\210622\\df_selec.csv\", index=False)"
   ]
  }
 ],
 "metadata": {
  "kernelspec": {
   "display_name": "Python 3 (ipykernel)",
   "language": "python",
   "name": "python3"
  },
  "language_info": {
   "codemirror_mode": {
    "name": "ipython",
    "version": 3
   },
   "file_extension": ".py",
   "mimetype": "text/x-python",
   "name": "python",
   "nbconvert_exporter": "python",
   "pygments_lexer": "ipython3",
   "version": "3.9.7"
  }
 },
 "nbformat": 4,
 "nbformat_minor": 5
}
