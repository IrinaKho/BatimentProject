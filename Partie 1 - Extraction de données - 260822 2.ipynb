{
 "cells": [
  {
   "cell_type": "code",
   "execution_count": 1,
   "id": "998995b6",
   "metadata": {},
   "outputs": [],
   "source": [
    "import pandas as pd"
   ]
  },
  {
   "cell_type": "code",
   "execution_count": 2,
   "id": "7c1f7700",
   "metadata": {},
   "outputs": [],
   "source": [
    "#Fusion des Bases de données Cerema : https://datafoncier.cerema.fr/donnees/autres-donnees-foncieres/dvfplus-open-data"
   ]
  },
  {
   "cell_type": "code",
   "execution_count": 3,
   "id": "c64b0ce1",
   "metadata": {},
   "outputs": [],
   "source": [
    "# table \"adresse\" : table contenant les adresses (provenant des parcelles et des locaux)\n",
    "adresse=pd.read_csv(\"dvf_75_adresse.csv\", sep=\";\")"
   ]
  },
  {
   "cell_type": "code",
   "execution_count": 4,
   "id": "89f358e3",
   "metadata": {},
   "outputs": [
    {
     "name": "stdout",
     "output_type": "stream",
     "text": [
      "<class 'pandas.core.frame.DataFrame'>\n",
      "RangeIndex: 50714 entries, 0 to 50713\n",
      "Data columns (total 10 columns):\n",
      " #   Column      Non-Null Count  Dtype  \n",
      "---  ------      --------------  -----  \n",
      " 0   idadresse   50714 non-null  int64  \n",
      " 1   novoie      50651 non-null  float64\n",
      " 2   btq         2901 non-null   object \n",
      " 3   typvoie     50537 non-null  object \n",
      " 4   codvoie     50694 non-null  object \n",
      " 5   voie        50614 non-null  object \n",
      " 6   codepostal  50612 non-null  float64\n",
      " 7   commune     50634 non-null  object \n",
      " 8   idadrinvar  50714 non-null  object \n",
      " 9   coddep      50714 non-null  int64  \n",
      "dtypes: float64(2), int64(2), object(6)\n",
      "memory usage: 3.9+ MB\n"
     ]
    }
   ],
   "source": [
    "adresse.info()"
   ]
  },
  {
   "cell_type": "code",
   "execution_count": 5,
   "id": "d14f856b",
   "metadata": {},
   "outputs": [],
   "source": [
    "# table \"adresse_discoparc\" : table de liaison entre la table adresse et la table disposition_parcelle\n",
    "adresse_disco=pd.read_csv(\"dvf_75 adresse_discoparc.csv\", sep=\";\")"
   ]
  },
  {
   "cell_type": "code",
   "execution_count": 6,
   "id": "d5a5509b",
   "metadata": {},
   "outputs": [
    {
     "name": "stdout",
     "output_type": "stream",
     "text": [
      "<class 'pandas.core.frame.DataFrame'>\n",
      "RangeIndex: 349179 entries, 0 to 349178\n",
      "Data columns (total 4 columns):\n",
      " #   Column      Non-Null Count   Dtype\n",
      "---  ------      --------------   -----\n",
      " 0   idadresse   349179 non-null  int64\n",
      " 1   iddispopar  349179 non-null  int64\n",
      " 2   coddep      349179 non-null  int64\n",
      " 3   idmutation  349179 non-null  int64\n",
      "dtypes: int64(4)\n",
      "memory usage: 10.7 MB\n"
     ]
    }
   ],
   "source": [
    "adresse_disco.info()"
   ]
  },
  {
   "cell_type": "code",
   "execution_count": 7,
   "id": "3282bcc2",
   "metadata": {},
   "outputs": [],
   "source": [
    "## table \"mutation\" : table des mutations\n",
    "mutation_75=pd.read_csv(\"dvf_75 mutation.csv\", sep=\";\")"
   ]
  },
  {
   "cell_type": "code",
   "execution_count": 8,
   "id": "90465937",
   "metadata": {},
   "outputs": [
    {
     "name": "stdout",
     "output_type": "stream",
     "text": [
      "<class 'pandas.core.frame.DataFrame'>\n",
      "RangeIndex: 334708 entries, 0 to 334707\n",
      "Data columns (total 64 columns):\n",
      " #   Column      Non-Null Count   Dtype  \n",
      "---  ------      --------------   -----  \n",
      " 0   idmutation  334708 non-null  int64  \n",
      " 1   idmutinvar  334708 non-null  object \n",
      " 2   idopendata  334708 non-null  object \n",
      " 3   idnatmut    334708 non-null  int64  \n",
      " 4   codservch   0 non-null       float64\n",
      " 5   refdoc      0 non-null       float64\n",
      " 6   datemut     334708 non-null  object \n",
      " 7   anneemut    334708 non-null  int64  \n",
      " 8   moismut     334708 non-null  int64  \n",
      " 9   coddep      334708 non-null  int64  \n",
      " 10  libnatmut   334708 non-null  object \n",
      " 11  nbartcgi    334708 non-null  int64  \n",
      " 12  l_artcgi    0 non-null       float64\n",
      " 13  vefa        334708 non-null  object \n",
      " 14  valeurfonc  334510 non-null  float64\n",
      " 15  nbdispo     334708 non-null  int64  \n",
      " 16  nblot       334708 non-null  int64  \n",
      " 17  nbcomm      334708 non-null  int64  \n",
      " 18  l_codinsee  334708 non-null  object \n",
      " 19  nbsection   334708 non-null  int64  \n",
      " 20  l_section   334708 non-null  object \n",
      " 21  nbpar       334708 non-null  int64  \n",
      " 22  l_idpar     334708 non-null  object \n",
      " 23  nbparmut    334708 non-null  int64  \n",
      " 24  l_idparmut  4162 non-null    object \n",
      " 25  nbsuf       334708 non-null  int64  \n",
      " 26  sterr       334708 non-null  int64  \n",
      " 27  l_dcnt      334708 non-null  object \n",
      " 28  nbvolmut    334708 non-null  int64  \n",
      " 29  nblocmut    334708 non-null  int64  \n",
      " 30  l_idlocmut  329770 non-null  object \n",
      " 31  nblocmai    334708 non-null  int64  \n",
      " 32  nblocapt    334708 non-null  int64  \n",
      " 33  nblocdep    334708 non-null  int64  \n",
      " 34  nblocact    334708 non-null  int64  \n",
      " 35  nbapt1pp    334708 non-null  int64  \n",
      " 36  nbapt2pp    334708 non-null  int64  \n",
      " 37  nbapt3pp    334708 non-null  int64  \n",
      " 38  nbapt4pp    334708 non-null  int64  \n",
      " 39  nbapt5pp    334708 non-null  int64  \n",
      " 40  nbmai1pp    334708 non-null  int64  \n",
      " 41  nbmai2pp    334708 non-null  int64  \n",
      " 42  nbmai3pp    334708 non-null  int64  \n",
      " 43  nbmai4pp    334708 non-null  int64  \n",
      " 44  nbmai5pp    334708 non-null  int64  \n",
      " 45  sbati       334708 non-null  int64  \n",
      " 46  sbatmai     334708 non-null  int64  \n",
      " 47  sbatapt     334708 non-null  int64  \n",
      " 48  sbatact     334708 non-null  int64  \n",
      " 49  sapt1pp     334708 non-null  int64  \n",
      " 50  sapt2pp     334708 non-null  int64  \n",
      " 51  sapt3pp     334708 non-null  int64  \n",
      " 52  sapt4pp     334708 non-null  int64  \n",
      " 53  sapt5pp     334708 non-null  int64  \n",
      " 54  smai1pp     334708 non-null  int64  \n",
      " 55  smai2pp     334708 non-null  int64  \n",
      " 56  smai3pp     334708 non-null  int64  \n",
      " 57  smai4pp     334708 non-null  int64  \n",
      " 58  smai5pp     334708 non-null  int64  \n",
      " 59  geomlocmut  329693 non-null  object \n",
      " 60  geomparmut  4152 non-null    object \n",
      " 61  geompar     334583 non-null  object \n",
      " 62  codtypbien  334708 non-null  int64  \n",
      " 63  libtypbien  334708 non-null  object \n",
      "dtypes: float64(4), int64(45), object(15)\n",
      "memory usage: 163.4+ MB\n"
     ]
    }
   ],
   "source": [
    "mutation_75.info()"
   ]
  },
  {
   "cell_type": "code",
   "execution_count": 9,
   "id": "0a0803da",
   "metadata": {},
   "outputs": [],
   "source": [
    "# Fusion des tables adresse et adresse_disco sur l'ID adresse\n",
    "fusion_adr=adresse.merge(right=adresse_disco, on=\"idadresse\")"
   ]
  },
  {
   "cell_type": "code",
   "execution_count": 10,
   "id": "7661bcde",
   "metadata": {},
   "outputs": [
    {
     "name": "stdout",
     "output_type": "stream",
     "text": [
      "<class 'pandas.core.frame.DataFrame'>\n",
      "Int64Index: 349179 entries, 0 to 349178\n",
      "Data columns (total 13 columns):\n",
      " #   Column      Non-Null Count   Dtype  \n",
      "---  ------      --------------   -----  \n",
      " 0   idadresse   349179 non-null  int64  \n",
      " 1   novoie      346623 non-null  float64\n",
      " 2   btq         15760 non-null   object \n",
      " 3   typvoie     346369 non-null  object \n",
      " 4   codvoie     346739 non-null  object \n",
      " 5   voie        346658 non-null  object \n",
      " 6   codepostal  346653 non-null  float64\n",
      " 7   commune     349098 non-null  object \n",
      " 8   idadrinvar  349179 non-null  object \n",
      " 9   coddep_x    349179 non-null  int64  \n",
      " 10  iddispopar  349179 non-null  int64  \n",
      " 11  coddep_y    349179 non-null  int64  \n",
      " 12  idmutation  349179 non-null  int64  \n",
      "dtypes: float64(2), int64(5), object(6)\n",
      "memory usage: 37.3+ MB\n"
     ]
    }
   ],
   "source": [
    "fusion_adr.info()"
   ]
  },
  {
   "cell_type": "code",
   "execution_count": 11,
   "id": "e549c915",
   "metadata": {},
   "outputs": [],
   "source": [
    "## Fusion de l'ensemble avec la table mutation, sur l'ID mutation  \n",
    "cerema0=mutation_75.merge(right=fusion_adr, on=\"idmutation\")"
   ]
  },
  {
   "cell_type": "code",
   "execution_count": 12,
   "id": "0fce9f2b",
   "metadata": {},
   "outputs": [
    {
     "name": "stdout",
     "output_type": "stream",
     "text": [
      "<class 'pandas.core.frame.DataFrame'>\n",
      "Int64Index: 349179 entries, 0 to 349178\n",
      "Data columns (total 76 columns):\n",
      " #   Column      Non-Null Count   Dtype  \n",
      "---  ------      --------------   -----  \n",
      " 0   idmutation  349179 non-null  int64  \n",
      " 1   idmutinvar  349179 non-null  object \n",
      " 2   idopendata  349179 non-null  object \n",
      " 3   idnatmut    349179 non-null  int64  \n",
      " 4   codservch   0 non-null       float64\n",
      " 5   refdoc      0 non-null       float64\n",
      " 6   datemut     349179 non-null  object \n",
      " 7   anneemut    349179 non-null  int64  \n",
      " 8   moismut     349179 non-null  int64  \n",
      " 9   coddep      349179 non-null  int64  \n",
      " 10  libnatmut   349179 non-null  object \n",
      " 11  nbartcgi    349179 non-null  int64  \n",
      " 12  l_artcgi    0 non-null       float64\n",
      " 13  vefa        349179 non-null  object \n",
      " 14  valeurfonc  348752 non-null  float64\n",
      " 15  nbdispo     349179 non-null  int64  \n",
      " 16  nblot       349179 non-null  int64  \n",
      " 17  nbcomm      349179 non-null  int64  \n",
      " 18  l_codinsee  349179 non-null  object \n",
      " 19  nbsection   349179 non-null  int64  \n",
      " 20  l_section   349179 non-null  object \n",
      " 21  nbpar       349179 non-null  int64  \n",
      " 22  l_idpar     349179 non-null  object \n",
      " 23  nbparmut    349179 non-null  int64  \n",
      " 24  l_idparmut  5614 non-null    object \n",
      " 25  nbsuf       349179 non-null  int64  \n",
      " 26  sterr       349179 non-null  int64  \n",
      " 27  l_dcnt      349179 non-null  object \n",
      " 28  nbvolmut    349179 non-null  int64  \n",
      " 29  nblocmut    349179 non-null  int64  \n",
      " 30  l_idlocmut  343411 non-null  object \n",
      " 31  nblocmai    349179 non-null  int64  \n",
      " 32  nblocapt    349179 non-null  int64  \n",
      " 33  nblocdep    349179 non-null  int64  \n",
      " 34  nblocact    349179 non-null  int64  \n",
      " 35  nbapt1pp    349179 non-null  int64  \n",
      " 36  nbapt2pp    349179 non-null  int64  \n",
      " 37  nbapt3pp    349179 non-null  int64  \n",
      " 38  nbapt4pp    349179 non-null  int64  \n",
      " 39  nbapt5pp    349179 non-null  int64  \n",
      " 40  nbmai1pp    349179 non-null  int64  \n",
      " 41  nbmai2pp    349179 non-null  int64  \n",
      " 42  nbmai3pp    349179 non-null  int64  \n",
      " 43  nbmai4pp    349179 non-null  int64  \n",
      " 44  nbmai5pp    349179 non-null  int64  \n",
      " 45  sbati       349179 non-null  int64  \n",
      " 46  sbatmai     349179 non-null  int64  \n",
      " 47  sbatapt     349179 non-null  int64  \n",
      " 48  sbatact     349179 non-null  int64  \n",
      " 49  sapt1pp     349179 non-null  int64  \n",
      " 50  sapt2pp     349179 non-null  int64  \n",
      " 51  sapt3pp     349179 non-null  int64  \n",
      " 52  sapt4pp     349179 non-null  int64  \n",
      " 53  sapt5pp     349179 non-null  int64  \n",
      " 54  smai1pp     349179 non-null  int64  \n",
      " 55  smai2pp     349179 non-null  int64  \n",
      " 56  smai3pp     349179 non-null  int64  \n",
      " 57  smai4pp     349179 non-null  int64  \n",
      " 58  smai5pp     349179 non-null  int64  \n",
      " 59  geomlocmut  343333 non-null  object \n",
      " 60  geomparmut  5603 non-null    object \n",
      " 61  geompar     349051 non-null  object \n",
      " 62  codtypbien  349179 non-null  int64  \n",
      " 63  libtypbien  349179 non-null  object \n",
      " 64  idadresse   349179 non-null  int64  \n",
      " 65  novoie      346623 non-null  float64\n",
      " 66  btq         15760 non-null   object \n",
      " 67  typvoie     346369 non-null  object \n",
      " 68  codvoie     346739 non-null  object \n",
      " 69  voie        346658 non-null  object \n",
      " 70  codepostal  346653 non-null  float64\n",
      " 71  commune     349098 non-null  object \n",
      " 72  idadrinvar  349179 non-null  object \n",
      " 73  coddep_x    349179 non-null  int64  \n",
      " 74  iddispopar  349179 non-null  int64  \n",
      " 75  coddep_y    349179 non-null  int64  \n",
      "dtypes: float64(6), int64(49), object(21)\n",
      "memory usage: 205.1+ MB\n"
     ]
    }
   ],
   "source": [
    "cerema0.info()"
   ]
  },
  {
   "cell_type": "code",
   "execution_count": 13,
   "id": "bd782d64",
   "metadata": {},
   "outputs": [],
   "source": [
    "# table \"lot\" : table des lots (seuls les 5 premiers lots sont mentionnés)\n",
    "lot_cerema=pd.read_csv(\"dvf_75lot.csv\", sep=\";\")"
   ]
  },
  {
   "cell_type": "code",
   "execution_count": 14,
   "id": "9e1da4d3",
   "metadata": {},
   "outputs": [
    {
     "name": "stdout",
     "output_type": "stream",
     "text": [
      "<class 'pandas.core.frame.DataFrame'>\n",
      "RangeIndex: 695651 entries, 0 to 695650\n",
      "Data columns (total 7 columns):\n",
      " #   Column      Non-Null Count   Dtype  \n",
      "---  ------      --------------   -----  \n",
      " 0   iddispolot  695651 non-null  int64  \n",
      " 1   iddispopar  695651 non-null  int64  \n",
      " 2   idmutation  695651 non-null  int64  \n",
      " 3   iddispoloc  687355 non-null  float64\n",
      " 4   nolot       695651 non-null  object \n",
      " 5   scarrez     276856 non-null  float64\n",
      " 6   coddep      695651 non-null  int64  \n",
      "dtypes: float64(2), int64(4), object(1)\n",
      "memory usage: 37.2+ MB\n"
     ]
    }
   ],
   "source": [
    "lot_cerema.info()"
   ]
  },
  {
   "cell_type": "code",
   "execution_count": 15,
   "id": "40f5d115",
   "metadata": {},
   "outputs": [
    {
     "data": {
      "text/html": [
       "<div>\n",
       "<style scoped>\n",
       "    .dataframe tbody tr th:only-of-type {\n",
       "        vertical-align: middle;\n",
       "    }\n",
       "\n",
       "    .dataframe tbody tr th {\n",
       "        vertical-align: top;\n",
       "    }\n",
       "\n",
       "    .dataframe thead th {\n",
       "        text-align: right;\n",
       "    }\n",
       "</style>\n",
       "<table border=\"1\" class=\"dataframe\">\n",
       "  <thead>\n",
       "    <tr style=\"text-align: right;\">\n",
       "      <th></th>\n",
       "      <th>iddispolot</th>\n",
       "      <th>iddispopar</th>\n",
       "      <th>idmutation</th>\n",
       "      <th>iddispoloc</th>\n",
       "      <th>nolot</th>\n",
       "      <th>scarrez</th>\n",
       "      <th>coddep</th>\n",
       "    </tr>\n",
       "  </thead>\n",
       "  <tbody>\n",
       "    <tr>\n",
       "      <th>0</th>\n",
       "      <td>6217422</td>\n",
       "      <td>14267918</td>\n",
       "      <td>7845201</td>\n",
       "      <td>9248710.0</td>\n",
       "      <td>39</td>\n",
       "      <td>11.20</td>\n",
       "      <td>75</td>\n",
       "    </tr>\n",
       "    <tr>\n",
       "      <th>1</th>\n",
       "      <td>6217423</td>\n",
       "      <td>14281746</td>\n",
       "      <td>7854877</td>\n",
       "      <td>9265907.0</td>\n",
       "      <td>31</td>\n",
       "      <td>NaN</td>\n",
       "      <td>75</td>\n",
       "    </tr>\n",
       "    <tr>\n",
       "      <th>2</th>\n",
       "      <td>6217424</td>\n",
       "      <td>14255450</td>\n",
       "      <td>7823308</td>\n",
       "      <td>9207448.0</td>\n",
       "      <td>34</td>\n",
       "      <td>NaN</td>\n",
       "      <td>75</td>\n",
       "    </tr>\n",
       "    <tr>\n",
       "      <th>3</th>\n",
       "      <td>6217425</td>\n",
       "      <td>14270348</td>\n",
       "      <td>7831619</td>\n",
       "      <td>9223890.0</td>\n",
       "      <td>37</td>\n",
       "      <td>39.73</td>\n",
       "      <td>75</td>\n",
       "    </tr>\n",
       "    <tr>\n",
       "      <th>4</th>\n",
       "      <td>6217426</td>\n",
       "      <td>14268367</td>\n",
       "      <td>7831768</td>\n",
       "      <td>9224144.0</td>\n",
       "      <td>213</td>\n",
       "      <td>7.60</td>\n",
       "      <td>75</td>\n",
       "    </tr>\n",
       "  </tbody>\n",
       "</table>\n",
       "</div>"
      ],
      "text/plain": [
       "   iddispolot  iddispopar  idmutation  iddispoloc nolot  scarrez  coddep\n",
       "0     6217422    14267918     7845201   9248710.0    39    11.20      75\n",
       "1     6217423    14281746     7854877   9265907.0    31      NaN      75\n",
       "2     6217424    14255450     7823308   9207448.0    34      NaN      75\n",
       "3     6217425    14270348     7831619   9223890.0    37    39.73      75\n",
       "4     6217426    14268367     7831768   9224144.0   213     7.60      75"
      ]
     },
     "execution_count": 15,
     "metadata": {},
     "output_type": "execute_result"
    }
   ],
   "source": [
    "lot_cerema.head()"
   ]
  },
  {
   "cell_type": "code",
   "execution_count": 16,
   "id": "9b8df58e",
   "metadata": {},
   "outputs": [],
   "source": [
    "# Suppression des variables qui ne vont pas être utiles\n",
    "lot_cerema=lot_cerema.drop([\"iddispopar\", \"iddispoloc\", \"coddep\"], axis=1)"
   ]
  },
  {
   "cell_type": "code",
   "execution_count": 17,
   "id": "0b061f20",
   "metadata": {},
   "outputs": [],
   "source": [
    "# Fusion des précédentes tables avec cette table lot, sur l'ID mutation\n",
    "cerema=lot_cerema.merge(right=cerema0, on=\"idmutation\")"
   ]
  },
  {
   "cell_type": "code",
   "execution_count": 18,
   "id": "9231b559",
   "metadata": {},
   "outputs": [
    {
     "name": "stdout",
     "output_type": "stream",
     "text": [
      "<class 'pandas.core.frame.DataFrame'>\n",
      "Int64Index: 769792 entries, 0 to 769791\n",
      "Data columns (total 79 columns):\n",
      " #   Column      Non-Null Count   Dtype  \n",
      "---  ------      --------------   -----  \n",
      " 0   iddispolot  769792 non-null  int64  \n",
      " 1   idmutation  769792 non-null  int64  \n",
      " 2   nolot       769792 non-null  object \n",
      " 3   scarrez     290998 non-null  float64\n",
      " 4   idmutinvar  769792 non-null  object \n",
      " 5   idopendata  769792 non-null  object \n",
      " 6   idnatmut    769792 non-null  int64  \n",
      " 7   codservch   0 non-null       float64\n",
      " 8   refdoc      0 non-null       float64\n",
      " 9   datemut     769792 non-null  object \n",
      " 10  anneemut    769792 non-null  int64  \n",
      " 11  moismut     769792 non-null  int64  \n",
      " 12  coddep      769792 non-null  int64  \n",
      " 13  libnatmut   769792 non-null  object \n",
      " 14  nbartcgi    769792 non-null  int64  \n",
      " 15  l_artcgi    0 non-null       float64\n",
      " 16  vefa        769792 non-null  object \n",
      " 17  valeurfonc  763260 non-null  float64\n",
      " 18  nbdispo     769792 non-null  int64  \n",
      " 19  nblot       769792 non-null  int64  \n",
      " 20  nbcomm      769792 non-null  int64  \n",
      " 21  l_codinsee  769792 non-null  object \n",
      " 22  nbsection   769792 non-null  int64  \n",
      " 23  l_section   769792 non-null  object \n",
      " 24  nbpar       769792 non-null  int64  \n",
      " 25  l_idpar     769792 non-null  object \n",
      " 26  nbparmut    769792 non-null  int64  \n",
      " 27  l_idparmut  8471 non-null    object \n",
      " 28  nbsuf       769792 non-null  int64  \n",
      " 29  sterr       769792 non-null  int64  \n",
      " 30  l_dcnt      769792 non-null  object \n",
      " 31  nbvolmut    769792 non-null  int64  \n",
      " 32  nblocmut    769792 non-null  int64  \n",
      " 33  l_idlocmut  761111 non-null  object \n",
      " 34  nblocmai    769792 non-null  int64  \n",
      " 35  nblocapt    769792 non-null  int64  \n",
      " 36  nblocdep    769792 non-null  int64  \n",
      " 37  nblocact    769792 non-null  int64  \n",
      " 38  nbapt1pp    769792 non-null  int64  \n",
      " 39  nbapt2pp    769792 non-null  int64  \n",
      " 40  nbapt3pp    769792 non-null  int64  \n",
      " 41  nbapt4pp    769792 non-null  int64  \n",
      " 42  nbapt5pp    769792 non-null  int64  \n",
      " 43  nbmai1pp    769792 non-null  int64  \n",
      " 44  nbmai2pp    769792 non-null  int64  \n",
      " 45  nbmai3pp    769792 non-null  int64  \n",
      " 46  nbmai4pp    769792 non-null  int64  \n",
      " 47  nbmai5pp    769792 non-null  int64  \n",
      " 48  sbati       769792 non-null  int64  \n",
      " 49  sbatmai     769792 non-null  int64  \n",
      " 50  sbatapt     769792 non-null  int64  \n",
      " 51  sbatact     769792 non-null  int64  \n",
      " 52  sapt1pp     769792 non-null  int64  \n",
      " 53  sapt2pp     769792 non-null  int64  \n",
      " 54  sapt3pp     769792 non-null  int64  \n",
      " 55  sapt4pp     769792 non-null  int64  \n",
      " 56  sapt5pp     769792 non-null  int64  \n",
      " 57  smai1pp     769792 non-null  int64  \n",
      " 58  smai2pp     769792 non-null  int64  \n",
      " 59  smai3pp     769792 non-null  int64  \n",
      " 60  smai4pp     769792 non-null  int64  \n",
      " 61  smai5pp     769792 non-null  int64  \n",
      " 62  geomlocmut  760821 non-null  object \n",
      " 63  geomparmut  8471 non-null    object \n",
      " 64  geompar     769402 non-null  object \n",
      " 65  codtypbien  769792 non-null  int64  \n",
      " 66  libtypbien  769792 non-null  object \n",
      " 67  idadresse   769792 non-null  int64  \n",
      " 68  novoie      765338 non-null  float64\n",
      " 69  btq         38556 non-null   object \n",
      " 70  typvoie     764838 non-null  object \n",
      " 71  codvoie     765485 non-null  object \n",
      " 72  voie        765334 non-null  object \n",
      " 73  codepostal  765325 non-null  float64\n",
      " 74  commune     769641 non-null  object \n",
      " 75  idadrinvar  769792 non-null  object \n",
      " 76  coddep_x    769792 non-null  int64  \n",
      " 77  iddispopar  769792 non-null  int64  \n",
      " 78  coddep_y    769792 non-null  int64  \n",
      "dtypes: float64(7), int64(50), object(22)\n",
      "memory usage: 469.8+ MB\n"
     ]
    }
   ],
   "source": [
    "cerema.info()"
   ]
  },
  {
   "cell_type": "code",
   "execution_count": 19,
   "id": "c17d0093",
   "metadata": {},
   "outputs": [],
   "source": [
    "#Création de la colonne \"Etaban\" dans  la DataFrame cerema (ce sera la clé de fusion avec le dataframe CSTB)\n",
    "# Tuto : utilisation du document = BAN_DVF_BDND (1)"
   ]
  },
  {
   "cell_type": "code",
   "execution_count": 20,
   "id": "5fe05b10",
   "metadata": {},
   "outputs": [],
   "source": [
    "cerema[\"novoie\"]=cerema[\"novoie\"].astype(str)\n",
    "cerema[\"novoie\"]=cerema[\"novoie\"].apply(lambda x : x[:-2])"
   ]
  },
  {
   "cell_type": "code",
   "execution_count": 21,
   "id": "4d22c66c",
   "metadata": {},
   "outputs": [],
   "source": [
    "cerema[\"novoie\"]=cerema[\"novoie\"].str.zfill(5)"
   ]
  },
  {
   "cell_type": "code",
   "execution_count": 22,
   "id": "27fc3157",
   "metadata": {},
   "outputs": [],
   "source": [
    "cerema[\"l_codinsee\"]=cerema[\"l_codinsee\"].apply(lambda x : x.strip(\"{}\"))"
   ]
  },
  {
   "cell_type": "code",
   "execution_count": 23,
   "id": "d645c0bc",
   "metadata": {},
   "outputs": [],
   "source": [
    "cerema[\"l_codinsee\"]=cerema[\"l_codinsee\"].astype(\"str\")"
   ]
  },
  {
   "cell_type": "code",
   "execution_count": 24,
   "id": "d5a324cd",
   "metadata": {},
   "outputs": [],
   "source": [
    "cerema[\"l_codinsee\"]=cerema[\"l_codinsee\"].apply(lambda x : x.strip(\"'\"))"
   ]
  },
  {
   "cell_type": "code",
   "execution_count": 25,
   "id": "49f5359d",
   "metadata": {},
   "outputs": [],
   "source": [
    "cerema[\"codvoie\"]=cerema[\"codvoie\"].astype(str)"
   ]
  },
  {
   "cell_type": "code",
   "execution_count": 26,
   "id": "3c00a40e",
   "metadata": {},
   "outputs": [],
   "source": [
    "cerema[\"etaban\"]=cerema[\"l_codinsee\"] + \"_\" + cerema[\"codvoie\"] + \"_\" + cerema[\"novoie\"]"
   ]
  },
  {
   "cell_type": "code",
   "execution_count": 27,
   "id": "b718a159",
   "metadata": {},
   "outputs": [
    {
     "data": {
      "text/plain": [
       "0    75120_9802_00009\n",
       "1    75116_8029_00101\n",
       "2    75116_8029_00101\n",
       "3    75116_8029_00101\n",
       "4    75116_8029_00101\n",
       "Name: etaban, dtype: object"
      ]
     },
     "execution_count": 27,
     "metadata": {},
     "output_type": "execute_result"
    }
   ],
   "source": [
    "cerema[\"etaban\"].head()"
   ]
  },
  {
   "cell_type": "code",
   "execution_count": 28,
   "id": "effd9b87",
   "metadata": {},
   "outputs": [
    {
     "data": {
      "text/plain": [
       "44964"
      ]
     },
     "execution_count": 28,
     "metadata": {},
     "output_type": "execute_result"
    }
   ],
   "source": [
    "cerema[\"etaban\"].nunique()"
   ]
  },
  {
   "cell_type": "code",
   "execution_count": null,
   "id": "f9adfc10",
   "metadata": {},
   "outputs": [],
   "source": []
  },
  {
   "cell_type": "code",
   "execution_count": 29,
   "id": "1af21688",
   "metadata": {},
   "outputs": [
    {
     "name": "stderr",
     "output_type": "stream",
     "text": [
      "C:\\Users\\Anne\\anaconda3\\lib\\site-packages\\IPython\\core\\interactiveshell.py:3444: DtypeWarning: Columns (45,100,102,141,142,143) have mixed types.Specify dtype option on import or set low_memory=False.\n",
      "  exec(code_obj, self.user_global_ns, self.user_ns)\n"
     ]
    }
   ],
   "source": [
    "# Chargement du dataset CSTB : https://www.data.gouv.fr/fr/datasets/base-de-donnee-nationale-des-batiments-version-0-6/\n",
    "cstb=pd.read_csv(\"batiment.csv\", sep=(\";\"))"
   ]
  },
  {
   "cell_type": "code",
   "execution_count": 30,
   "id": "aa467871",
   "metadata": {},
   "outputs": [
    {
     "name": "stdout",
     "output_type": "stream",
     "text": [
      "<class 'pandas.core.frame.DataFrame'>\n",
      "RangeIndex: 72351 entries, 0 to 72350\n",
      "Columns: 170 entries, geombui to osmgeo202103_l_id\n",
      "dtypes: float64(77), int64(6), object(87)\n",
      "memory usage: 93.8+ MB\n"
     ]
    }
   ],
   "source": [
    "cstb.info()"
   ]
  },
  {
   "cell_type": "code",
   "execution_count": 31,
   "id": "835321e2",
   "metadata": {},
   "outputs": [
    {
     "data": {
      "text/plain": [
       "29274"
      ]
     },
     "execution_count": 31,
     "metadata": {},
     "output_type": "execute_result"
    }
   ],
   "source": [
    "# Ouverture parenthèse dans le code : Pour contrôle d'où vient le nbre élevé de Nan dans  NB5\n",
    "cstb[\"anarnc202012_nb_log\"].isna().sum()\n",
    "# suite en fin de NB"
   ]
  },
  {
   "cell_type": "code",
   "execution_count": 32,
   "id": "2a363461",
   "metadata": {},
   "outputs": [],
   "source": [
    "# Travail sur la colonne \"etaban202111_l_id\" de CSTB => Ce sera la clé de fusion avec le dataframe Cerema créé précédemment"
   ]
  },
  {
   "cell_type": "code",
   "execution_count": 33,
   "id": "a7d23292",
   "metadata": {},
   "outputs": [
    {
     "data": {
      "text/plain": [
       "68224"
      ]
     },
     "execution_count": 33,
     "metadata": {},
     "output_type": "execute_result"
    }
   ],
   "source": [
    "cstb[\"etaban202111_l_id\"].nunique()"
   ]
  },
  {
   "cell_type": "code",
   "execution_count": 34,
   "id": "74e83fee",
   "metadata": {},
   "outputs": [
    {
     "data": {
      "text/plain": [
       "0    (6:75101_8249_00107,75101_8249_00093,75101_380...\n",
       "1     (3:75101_8249_00091,75101_0284_00008,75101_5825)\n",
       "2                                 (1:75101_8249_00089)\n",
       "3                                 (1:75101_8249_00087)\n",
       "4                                 (1:75101_7279_00005)\n",
       "Name: etaban202111_l_id, dtype: object"
      ]
     },
     "execution_count": 34,
     "metadata": {},
     "output_type": "execute_result"
    }
   ],
   "source": [
    "cstb[\"etaban202111_l_id\"].head()"
   ]
  },
  {
   "cell_type": "code",
   "execution_count": 35,
   "id": "d7f9eb6a",
   "metadata": {},
   "outputs": [],
   "source": [
    "cstb[\"etaban202111_l_id\"]=cstb[\"etaban202111_l_id\"].astype(\"str\")"
   ]
  },
  {
   "cell_type": "code",
   "execution_count": 36,
   "id": "350c905f",
   "metadata": {},
   "outputs": [],
   "source": [
    "cstb[\"etaban202111_l_id\"]=cstb[\"etaban202111_l_id\"].apply(lambda x : x.strip(\"()\"))"
   ]
  },
  {
   "cell_type": "code",
   "execution_count": 37,
   "id": "039c081e",
   "metadata": {},
   "outputs": [
    {
     "data": {
      "text/plain": [
       "0        6:75101_8249_00107,75101_8249_00093,75101_3806...\n",
       "1           3:75101_8249_00091,75101_0284_00008,75101_5825\n",
       "2                                       1:75101_8249_00089\n",
       "3                                       1:75101_8249_00087\n",
       "4                                       1:75101_7279_00005\n",
       "                               ...                        \n",
       "72346                                   1:75120_2010_00049\n",
       "72347                                   1:75120_2010_00049\n",
       "72348                                   1:75120_9049_00015\n",
       "72349                                   1:75120_5669_00013\n",
       "72350                                   1:75120_5669_00011\n",
       "Name: etaban202111_l_id, Length: 72351, dtype: object"
      ]
     },
     "execution_count": 37,
     "metadata": {},
     "output_type": "execute_result"
    }
   ],
   "source": [
    "cstb[\"etaban202111_l_id\"]"
   ]
  },
  {
   "cell_type": "code",
   "execution_count": 38,
   "id": "6f04255d",
   "metadata": {},
   "outputs": [
    {
     "data": {
      "text/plain": [
       "0        75101_8249_00107,75101_8249_00093,75101_3806_0...\n",
       "1             75101_8249_00091,75101_0284_00008,75101_5825\n",
       "2                                         75101_8249_00089\n",
       "3                                         75101_8249_00087\n",
       "4                                         75101_7279_00005\n",
       "                               ...                        \n",
       "72346                                     75120_2010_00049\n",
       "72347                                     75120_2010_00049\n",
       "72348                                     75120_9049_00015\n",
       "72349                                     75120_5669_00013\n",
       "72350                                     75120_5669_00011\n",
       "Name: etaban202111_l_id, Length: 72351, dtype: object"
      ]
     },
     "execution_count": 38,
     "metadata": {},
     "output_type": "execute_result"
    }
   ],
   "source": [
    "cstb[\"etaban202111_l_id\"]=cstb[\"etaban202111_l_id\"].apply(lambda x : x.strip(\":\")[2:])\n",
    "cstb[\"etaban202111_l_id\"]"
   ]
  },
  {
   "cell_type": "code",
   "execution_count": 39,
   "id": "832c2842",
   "metadata": {},
   "outputs": [],
   "source": [
    "cstb[\"etaban202111_l_id\"]=cstb[\"etaban202111_l_id\"].str.split(\",\")\n"
   ]
  },
  {
   "cell_type": "code",
   "execution_count": 40,
   "id": "ee06617f",
   "metadata": {},
   "outputs": [],
   "source": [
    "cstb=cstb.explode(\"etaban202111_l_id\")"
   ]
  },
  {
   "cell_type": "code",
   "execution_count": 41,
   "id": "aae931a0",
   "metadata": {},
   "outputs": [
    {
     "data": {
      "text/plain": [
       "0        75101_8249_00107\n",
       "0        75101_8249_00093\n",
       "0        75101_3806_00006\n",
       "0              75101_3806\n",
       "0              75101_5824\n",
       "               ...       \n",
       "72346    75120_2010_00049\n",
       "72347    75120_2010_00049\n",
       "72348    75120_9049_00015\n",
       "72349    75120_5669_00013\n",
       "72350    75120_5669_00011\n",
       "Name: etaban202111_l_id, Length: 89418, dtype: object"
      ]
     },
     "execution_count": 41,
     "metadata": {},
     "output_type": "execute_result"
    }
   ],
   "source": [
    "cstb[\"etaban202111_l_id\"]"
   ]
  },
  {
   "cell_type": "code",
   "execution_count": null,
   "id": "9a0f0fde",
   "metadata": {},
   "outputs": [],
   "source": []
  },
  {
   "cell_type": "code",
   "execution_count": 42,
   "id": "ff67c429",
   "metadata": {},
   "outputs": [],
   "source": [
    "cstb.rename(columns={\"etaban202111_l_id\":\"etaban\"}, inplace=True)"
   ]
  },
  {
   "cell_type": "code",
   "execution_count": 43,
   "id": "9810b73e",
   "metadata": {},
   "outputs": [
    {
     "data": {
      "text/plain": [
       "72340     75120_9888_00054_b\n",
       "72340    75120_9888_00052_bs\n",
       "72341       75120_2135_00019\n",
       "72341       75120_7160_00003\n",
       "72342       75120_8503_00052\n",
       "72342       75120_2135_00021\n",
       "72342       75120_8789_00014\n",
       "72342       75120_8789_00012\n",
       "72342       75120_8789_00004\n",
       "72342       75120_7160_00004\n",
       "72342       75120_8789_00006\n",
       "72343       75120_8503_00050\n",
       "72344       75120_1506_00034\n",
       "72345       75120_5395_00013\n",
       "72345       75120_5395_00011\n",
       "72346       75120_2010_00049\n",
       "72347       75120_2010_00049\n",
       "72348       75120_9049_00015\n",
       "72349       75120_5669_00013\n",
       "72350       75120_5669_00011\n",
       "Name: etaban, dtype: object"
      ]
     },
     "execution_count": 43,
     "metadata": {},
     "output_type": "execute_result"
    }
   ],
   "source": [
    "cstb[\"etaban\"].tail(20)\n",
    "# On note que certains Etaban ont un suffixe atypique (_b, _bs ). \n",
    "# Ces lignes seront supprimées au moment du merge avec Cerema => très peu de pertes constatée"
   ]
  },
  {
   "cell_type": "code",
   "execution_count": 44,
   "id": "38ab3670",
   "metadata": {},
   "outputs": [],
   "source": [
    "# Sélection des appartements dans Cerema\n",
    "\n",
    "# http://doc-datafoncier.cerema.fr/dv3f/doc/variable/mutation/libtypbien\n",
    "# 75 % des mutations sont des catégories \"un appartement\"\n",
    "# 95 % des mutations d'appartement sont de la catégorie \"un appartement\"\n",
    "# d'où le choix de ne garder que la catégorie \"un appartement \n",
    "\n",
    "cerema_appt=cerema[cerema[\"libtypbien\"]==\"UN APPARTEMENT\"]"
   ]
  },
  {
   "cell_type": "code",
   "execution_count": null,
   "id": "c7d5d089",
   "metadata": {},
   "outputs": [],
   "source": []
  },
  {
   "cell_type": "code",
   "execution_count": 45,
   "id": "00300a51",
   "metadata": {},
   "outputs": [],
   "source": [
    "# Choix de ne garder que ventes et vefa dans : http://doc-datafoncier.cerema.fr/dv3f/doc/variable/mutation/idnatmut\n",
    "# On exclut : Expropriation,Vente terrain à bâtir,Adjuvication,Echange\n",
    "\n",
    "cerema_appt_ventes_vefa=cerema_appt[(cerema_appt[\"idnatmut\"]==1)|(cerema_appt[\"idnatmut\"]==2)]\n"
   ]
  },
  {
   "cell_type": "code",
   "execution_count": null,
   "id": "cbaef9e8",
   "metadata": {},
   "outputs": [],
   "source": []
  },
  {
   "cell_type": "code",
   "execution_count": 46,
   "id": "09dafc5e",
   "metadata": {},
   "outputs": [
    {
     "data": {
      "text/plain": [
       "array([0, 1], dtype=int64)"
      ]
     },
     "execution_count": 46,
     "metadata": {},
     "output_type": "execute_result"
    }
   ],
   "source": [
    "# Sélection des T2, T3  dans cerema_appt_ventes_vefa\n",
    "cerema_appt_ventes_vefa[\"nbapt2pp\"].unique()"
   ]
  },
  {
   "cell_type": "code",
   "execution_count": 47,
   "id": "e7c4b3c1",
   "metadata": {},
   "outputs": [],
   "source": [
    "cerema_select=cerema_appt_ventes_vefa[(cerema_appt_ventes_vefa[\"nbapt2pp\"]==True)|(cerema_appt_ventes_vefa[\"nbapt3pp\"]==True)]\n"
   ]
  },
  {
   "cell_type": "code",
   "execution_count": 48,
   "id": "c99473f6",
   "metadata": {},
   "outputs": [],
   "source": [
    "# Fusion des DataFrame Cerema et CSTB\n",
    "merged=cstb.merge(cerema_select, on=\"etaban\")"
   ]
  },
  {
   "cell_type": "code",
   "execution_count": 49,
   "id": "0cefeb93",
   "metadata": {},
   "outputs": [
    {
     "name": "stdout",
     "output_type": "stream",
     "text": [
      "<class 'pandas.core.frame.DataFrame'>\n",
      "Int64Index: 317757 entries, 0 to 317756\n",
      "Columns: 249 entries, geombui to coddep_y\n",
      "dtypes: float64(83), int64(56), object(110)\n",
      "memory usage: 606.1+ MB\n"
     ]
    }
   ],
   "source": [
    "merged.info()"
   ]
  },
  {
   "cell_type": "code",
   "execution_count": 50,
   "id": "3e57afdd",
   "metadata": {},
   "outputs": [
    {
     "data": {
      "text/plain": [
       "28027"
      ]
     },
     "execution_count": 50,
     "metadata": {},
     "output_type": "execute_result"
    }
   ],
   "source": [
    "# Fermeture parenthèse pour NB 5:\n",
    "merged[\"anarnc202012_nb_log\"].isna().sum()\n",
    "# => ok"
   ]
  },
  {
   "cell_type": "code",
   "execution_count": 51,
   "id": "2ec69782",
   "metadata": {},
   "outputs": [],
   "source": [
    "merged.to_csv(r\"C:\\Users\\Anne\\Projet Bâtiment\\210622\\merged.csv\", index=False)"
   ]
  }
 ],
 "metadata": {
  "kernelspec": {
   "display_name": "Python 3 (ipykernel)",
   "language": "python",
   "name": "python3"
  },
  "language_info": {
   "codemirror_mode": {
    "name": "ipython",
    "version": 3
   },
   "file_extension": ".py",
   "mimetype": "text/x-python",
   "name": "python",
   "nbconvert_exporter": "python",
   "pygments_lexer": "ipython3",
   "version": "3.9.7"
  }
 },
 "nbformat": 4,
 "nbformat_minor": 5
}
