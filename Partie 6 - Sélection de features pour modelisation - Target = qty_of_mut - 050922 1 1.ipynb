{
 "cells": [
  {
   "cell_type": "code",
   "execution_count": 1,
   "id": "d7fa110a",
   "metadata": {},
   "outputs": [],
   "source": [
    "# A ce stade, nous avons 41 variables. \n",
    "# Objectif de ce notebook : sélectionner les variables qui seront utilisées pour la modélisation.\n",
    "# Nous allons utiliser ici 3 méthodes : Lasso, SelectKbest, VarianceThreshold"
   ]
  },
  {
   "cell_type": "code",
   "execution_count": 2,
   "id": "3e9b7a10",
   "metadata": {},
   "outputs": [],
   "source": [
    "import pandas as pd\n",
    "import numpy as np\n",
    "import matplotlib.pyplot as plt\n",
    "%matplotlib inline "
   ]
  },
  {
   "cell_type": "code",
   "execution_count": 3,
   "id": "3c8ad0d0",
   "metadata": {},
   "outputs": [],
   "source": [
    "df=pd.read_csv(\"df.csv\")"
   ]
  },
  {
   "cell_type": "code",
   "execution_count": 4,
   "id": "34d24633",
   "metadata": {},
   "outputs": [
    {
     "data": {
      "text/html": [
       "<div>\n",
       "<style scoped>\n",
       "    .dataframe tbody tr th:only-of-type {\n",
       "        vertical-align: middle;\n",
       "    }\n",
       "\n",
       "    .dataframe tbody tr th {\n",
       "        vertical-align: top;\n",
       "    }\n",
       "\n",
       "    .dataframe thead th {\n",
       "        text-align: right;\n",
       "    }\n",
       "</style>\n",
       "<table border=\"1\" class=\"dataframe\">\n",
       "  <thead>\n",
       "    <tr style=\"text-align: right;\">\n",
       "      <th></th>\n",
       "      <th>Revente &gt;1</th>\n",
       "      <th>libnatmut</th>\n",
       "      <th>valeurfonc</th>\n",
       "      <th>nblot</th>\n",
       "      <th>l_codinsee</th>\n",
       "      <th>nblocdep</th>\n",
       "      <th>Type appart</th>\n",
       "      <th>scarrez</th>\n",
       "      <th>anarnc202012_nb_log</th>\n",
       "      <th>anarnc202012_nb_lot_garpark</th>\n",
       "      <th>...</th>\n",
       "      <th>baie_orientation_autre</th>\n",
       "      <th>Commerces_bruyants</th>\n",
       "      <th>qty_of_mut</th>\n",
       "      <th>datemut</th>\n",
       "      <th>anneemut</th>\n",
       "      <th>moismut</th>\n",
       "      <th>etaban_lot</th>\n",
       "      <th>cat_valeur</th>\n",
       "      <th>surface_appart</th>\n",
       "      <th>cat_scarrez</th>\n",
       "    </tr>\n",
       "  </thead>\n",
       "  <tbody>\n",
       "    <tr>\n",
       "      <th>0</th>\n",
       "      <td>0</td>\n",
       "      <td>Vente</td>\n",
       "      <td>370000.0</td>\n",
       "      <td>1</td>\n",
       "      <td>75101</td>\n",
       "      <td>1</td>\n",
       "      <td>2P</td>\n",
       "      <td>26.06</td>\n",
       "      <td>158.0</td>\n",
       "      <td>0.0</td>\n",
       "      <td>...</td>\n",
       "      <td>0</td>\n",
       "      <td>1</td>\n",
       "      <td>1</td>\n",
       "      <td>2021-06-04</td>\n",
       "      <td>2021</td>\n",
       "      <td>6</td>\n",
       "      <td>75101_4901_00019_93</td>\n",
       "      <td>Entre 320 &amp; 436k€ €</td>\n",
       "      <td>32</td>\n",
       "      <td>&lt;35 m²</td>\n",
       "    </tr>\n",
       "    <tr>\n",
       "      <th>1</th>\n",
       "      <td>0</td>\n",
       "      <td>Vente</td>\n",
       "      <td>451000.0</td>\n",
       "      <td>1</td>\n",
       "      <td>75117</td>\n",
       "      <td>0</td>\n",
       "      <td>2P</td>\n",
       "      <td>35.53</td>\n",
       "      <td>32.0</td>\n",
       "      <td>0.0</td>\n",
       "      <td>...</td>\n",
       "      <td>0</td>\n",
       "      <td>0</td>\n",
       "      <td>1</td>\n",
       "      <td>2021-03-18</td>\n",
       "      <td>2021</td>\n",
       "      <td>3</td>\n",
       "      <td>75117_5503_00103_24</td>\n",
       "      <td>Entre 436 &amp; 600k€</td>\n",
       "      <td>30</td>\n",
       "      <td>Entre 35 &amp; 47 m²</td>\n",
       "    </tr>\n",
       "    <tr>\n",
       "      <th>2</th>\n",
       "      <td>0</td>\n",
       "      <td>Vente</td>\n",
       "      <td>433000.0</td>\n",
       "      <td>3</td>\n",
       "      <td>75115</td>\n",
       "      <td>1</td>\n",
       "      <td>3P</td>\n",
       "      <td>35.40</td>\n",
       "      <td>50.0</td>\n",
       "      <td>0.0</td>\n",
       "      <td>...</td>\n",
       "      <td>0</td>\n",
       "      <td>0</td>\n",
       "      <td>1</td>\n",
       "      <td>2021-11-12</td>\n",
       "      <td>2021</td>\n",
       "      <td>11</td>\n",
       "      <td>75115_2521_00008_19</td>\n",
       "      <td>Entre 320 &amp; 436k€ €</td>\n",
       "      <td>34</td>\n",
       "      <td>Entre 35 &amp; 47 m²</td>\n",
       "    </tr>\n",
       "    <tr>\n",
       "      <th>3</th>\n",
       "      <td>1</td>\n",
       "      <td>Vente</td>\n",
       "      <td>561076.0</td>\n",
       "      <td>1</td>\n",
       "      <td>75118</td>\n",
       "      <td>0</td>\n",
       "      <td>2P</td>\n",
       "      <td>46.02</td>\n",
       "      <td>29.0</td>\n",
       "      <td>0.0</td>\n",
       "      <td>...</td>\n",
       "      <td>0</td>\n",
       "      <td>1</td>\n",
       "      <td>2</td>\n",
       "      <td>2021-01-08</td>\n",
       "      <td>2021</td>\n",
       "      <td>1</td>\n",
       "      <td>75118_2113_00110_19</td>\n",
       "      <td>Entre 436 &amp; 600k€</td>\n",
       "      <td>50</td>\n",
       "      <td>Entre 35 &amp; 47 m²</td>\n",
       "    </tr>\n",
       "    <tr>\n",
       "      <th>4</th>\n",
       "      <td>1</td>\n",
       "      <td>Vente</td>\n",
       "      <td>375980.0</td>\n",
       "      <td>1</td>\n",
       "      <td>75118</td>\n",
       "      <td>0</td>\n",
       "      <td>2P</td>\n",
       "      <td>45.76</td>\n",
       "      <td>29.0</td>\n",
       "      <td>0.0</td>\n",
       "      <td>...</td>\n",
       "      <td>0</td>\n",
       "      <td>1</td>\n",
       "      <td>2</td>\n",
       "      <td>2016-09-09</td>\n",
       "      <td>2016</td>\n",
       "      <td>9</td>\n",
       "      <td>75118_2113_00110_19</td>\n",
       "      <td>Entre 320 &amp; 436k€ €</td>\n",
       "      <td>50</td>\n",
       "      <td>Entre 35 &amp; 47 m²</td>\n",
       "    </tr>\n",
       "  </tbody>\n",
       "</table>\n",
       "<p>5 rows × 41 columns</p>\n",
       "</div>"
      ],
      "text/plain": [
       "   Revente >1 libnatmut  valeurfonc nblot  l_codinsee  nblocdep Type appart  \\\n",
       "0           0     Vente    370000.0     1       75101         1          2P   \n",
       "1           0     Vente    451000.0     1       75117         0          2P   \n",
       "2           0     Vente    433000.0     3       75115         1          3P   \n",
       "3           1     Vente    561076.0     1       75118         0          2P   \n",
       "4           1     Vente    375980.0     1       75118         0          2P   \n",
       "\n",
       "   scarrez  anarnc202012_nb_log  anarnc202012_nb_lot_garpark  ...  \\\n",
       "0    26.06                158.0                          0.0  ...   \n",
       "1    35.53                 32.0                          0.0  ...   \n",
       "2    35.40                 50.0                          0.0  ...   \n",
       "3    46.02                 29.0                          0.0  ...   \n",
       "4    45.76                 29.0                          0.0  ...   \n",
       "\n",
       "   baie_orientation_autre  Commerces_bruyants qty_of_mut     datemut anneemut  \\\n",
       "0                       0                   1          1  2021-06-04     2021   \n",
       "1                       0                   0          1  2021-03-18     2021   \n",
       "2                       0                   0          1  2021-11-12     2021   \n",
       "3                       0                   1          2  2021-01-08     2021   \n",
       "4                       0                   1          2  2016-09-09     2016   \n",
       "\n",
       "  moismut           etaban_lot           cat_valeur surface_appart  \\\n",
       "0       6  75101_4901_00019_93  Entre 320 & 436k€ €             32   \n",
       "1       3  75117_5503_00103_24    Entre 436 & 600k€             30   \n",
       "2      11  75115_2521_00008_19  Entre 320 & 436k€ €             34   \n",
       "3       1  75118_2113_00110_19    Entre 436 & 600k€             50   \n",
       "4       9  75118_2113_00110_19  Entre 320 & 436k€ €             50   \n",
       "\n",
       "        cat_scarrez  \n",
       "0            <35 m²  \n",
       "1  Entre 35 & 47 m²  \n",
       "2  Entre 35 & 47 m²  \n",
       "3  Entre 35 & 47 m²  \n",
       "4  Entre 35 & 47 m²  \n",
       "\n",
       "[5 rows x 41 columns]"
      ]
     },
     "execution_count": 4,
     "metadata": {},
     "output_type": "execute_result"
    }
   ],
   "source": [
    "df.head()"
   ]
  },
  {
   "cell_type": "code",
   "execution_count": 5,
   "id": "b90c7f52",
   "metadata": {},
   "outputs": [
    {
     "name": "stdout",
     "output_type": "stream",
     "text": [
      "<class 'pandas.core.frame.DataFrame'>\n",
      "RangeIndex: 102577 entries, 0 to 102576\n",
      "Data columns (total 41 columns):\n",
      " #   Column                                       Non-Null Count   Dtype  \n",
      "---  ------                                       --------------   -----  \n",
      " 0   Revente >1                                   102577 non-null  int64  \n",
      " 1   libnatmut                                    102577 non-null  object \n",
      " 2   valeurfonc                                   102577 non-null  float64\n",
      " 3   nblot                                        102577 non-null  object \n",
      " 4   l_codinsee                                   102577 non-null  int64  \n",
      " 5   nblocdep                                     102577 non-null  int64  \n",
      " 6   Type appart                                  102577 non-null  object \n",
      " 7   scarrez                                      102577 non-null  float64\n",
      " 8   anarnc202012_nb_log                          102577 non-null  float64\n",
      " 9   anarnc202012_nb_lot_garpark                  102577 non-null  float64\n",
      " 10  anarnc202012_nb_lot_tertiaire                102577 non-null  float64\n",
      " 11  anarnc202012_nb_lot_tot                      102577 non-null  float64\n",
      " 12  adedpe202006_logtype_baie_type_vitrage       102577 non-null  object \n",
      " 13  adedpe202006_logtype_ch_gen_lib_princ        102577 non-null  object \n",
      " 14  adedpe202006_logtype_classe_conso_ener       102577 non-null  object \n",
      " 15  adedpe202006_logtype_classe_estim_ges        102577 non-null  object \n",
      " 16  adedpe202006_logtype_traversant              102577 non-null  object \n",
      " 17  adedpe202006_logtype_ecs_type_ener           102577 non-null  object \n",
      " 18  adedpe202006_logtype_ph_pos_isol             102577 non-null  object \n",
      " 19  adedpe202006_logtype_presence_climatisation  102577 non-null  float64\n",
      " 20  adedpe202006_logtype_type_batiment           102577 non-null  object \n",
      " 21  ancqpv201410_is_qpv                          102577 non-null  float64\n",
      " 22  cerffo2020_annee_construction                102577 non-null  object \n",
      " 23  cerffo2020_usage_niveau_1_txt                102577 non-null  object \n",
      " 24  cerffo2020_nb_log                            102577 non-null  int64  \n",
      " 25  igntop202103_bat_hauteur                     102577 non-null  float64\n",
      " 26  mcumer202007_is_mer                          102577 non-null  float64\n",
      " 27  baie_orientation_sud                         102577 non-null  int64  \n",
      " 28  baie_orientation_nord                        102577 non-null  int64  \n",
      " 29  baie_orientation_ouest                       102577 non-null  int64  \n",
      " 30  baie_orientation_est                         102577 non-null  int64  \n",
      " 31  baie_orientation_autre                       102577 non-null  int64  \n",
      " 32  Commerces_bruyants                           102577 non-null  int64  \n",
      " 33  qty_of_mut                                   102577 non-null  int64  \n",
      " 34  datemut                                      102577 non-null  object \n",
      " 35  anneemut                                     102577 non-null  int64  \n",
      " 36  moismut                                      102577 non-null  int64  \n",
      " 37  etaban_lot                                   102577 non-null  object \n",
      " 38  cat_valeur                                   102577 non-null  object \n",
      " 39  surface_appart                               102577 non-null  int64  \n",
      " 40  cat_scarrez                                  102577 non-null  object \n",
      "dtypes: float64(10), int64(14), object(17)\n",
      "memory usage: 32.1+ MB\n"
     ]
    }
   ],
   "source": [
    "df.info()"
   ]
  },
  {
   "cell_type": "code",
   "execution_count": 6,
   "id": "26422a75",
   "metadata": {},
   "outputs": [],
   "source": [
    "# Suppression des variables qui vont gêner la modélisation :\n",
    "\n",
    "to_drop=([\"datemut\",\n",
    "         \"moismut\",\n",
    "         \"etaban_lot\",\n",
    "         \"cat_valeur\",\n",
    "         \"cat_scarrez\"])\n",
    "df=df.drop(to_drop, axis=1)\n"
   ]
  },
  {
   "cell_type": "code",
   "execution_count": 7,
   "id": "7f8abefe",
   "metadata": {},
   "outputs": [
    {
     "name": "stdout",
     "output_type": "stream",
     "text": [
      "<class 'pandas.core.frame.DataFrame'>\n",
      "RangeIndex: 102577 entries, 0 to 102576\n",
      "Data columns (total 36 columns):\n",
      " #   Column                                       Non-Null Count   Dtype  \n",
      "---  ------                                       --------------   -----  \n",
      " 0   Revente >1                                   102577 non-null  int64  \n",
      " 1   libnatmut                                    102577 non-null  object \n",
      " 2   valeurfonc                                   102577 non-null  float64\n",
      " 3   nblot                                        102577 non-null  object \n",
      " 4   l_codinsee                                   102577 non-null  int64  \n",
      " 5   nblocdep                                     102577 non-null  int64  \n",
      " 6   Type appart                                  102577 non-null  object \n",
      " 7   scarrez                                      102577 non-null  float64\n",
      " 8   anarnc202012_nb_log                          102577 non-null  float64\n",
      " 9   anarnc202012_nb_lot_garpark                  102577 non-null  float64\n",
      " 10  anarnc202012_nb_lot_tertiaire                102577 non-null  float64\n",
      " 11  anarnc202012_nb_lot_tot                      102577 non-null  float64\n",
      " 12  adedpe202006_logtype_baie_type_vitrage       102577 non-null  object \n",
      " 13  adedpe202006_logtype_ch_gen_lib_princ        102577 non-null  object \n",
      " 14  adedpe202006_logtype_classe_conso_ener       102577 non-null  object \n",
      " 15  adedpe202006_logtype_classe_estim_ges        102577 non-null  object \n",
      " 16  adedpe202006_logtype_traversant              102577 non-null  object \n",
      " 17  adedpe202006_logtype_ecs_type_ener           102577 non-null  object \n",
      " 18  adedpe202006_logtype_ph_pos_isol             102577 non-null  object \n",
      " 19  adedpe202006_logtype_presence_climatisation  102577 non-null  float64\n",
      " 20  adedpe202006_logtype_type_batiment           102577 non-null  object \n",
      " 21  ancqpv201410_is_qpv                          102577 non-null  float64\n",
      " 22  cerffo2020_annee_construction                102577 non-null  object \n",
      " 23  cerffo2020_usage_niveau_1_txt                102577 non-null  object \n",
      " 24  cerffo2020_nb_log                            102577 non-null  int64  \n",
      " 25  igntop202103_bat_hauteur                     102577 non-null  float64\n",
      " 26  mcumer202007_is_mer                          102577 non-null  float64\n",
      " 27  baie_orientation_sud                         102577 non-null  int64  \n",
      " 28  baie_orientation_nord                        102577 non-null  int64  \n",
      " 29  baie_orientation_ouest                       102577 non-null  int64  \n",
      " 30  baie_orientation_est                         102577 non-null  int64  \n",
      " 31  baie_orientation_autre                       102577 non-null  int64  \n",
      " 32  Commerces_bruyants                           102577 non-null  int64  \n",
      " 33  qty_of_mut                                   102577 non-null  int64  \n",
      " 34  anneemut                                     102577 non-null  int64  \n",
      " 35  surface_appart                               102577 non-null  int64  \n",
      "dtypes: float64(10), int64(13), object(13)\n",
      "memory usage: 28.2+ MB\n"
     ]
    }
   ],
   "source": [
    "df.info()"
   ]
  },
  {
   "cell_type": "code",
   "execution_count": 8,
   "id": "1123e0fc",
   "metadata": {},
   "outputs": [
    {
     "data": {
      "text/plain": [
       "Revente >1                                     0\n",
       "libnatmut                                      0\n",
       "valeurfonc                                     0\n",
       "nblot                                          0\n",
       "l_codinsee                                     0\n",
       "nblocdep                                       0\n",
       "Type appart                                    0\n",
       "scarrez                                        0\n",
       "anarnc202012_nb_log                            0\n",
       "anarnc202012_nb_lot_garpark                    0\n",
       "anarnc202012_nb_lot_tertiaire                  0\n",
       "anarnc202012_nb_lot_tot                        0\n",
       "adedpe202006_logtype_baie_type_vitrage         0\n",
       "adedpe202006_logtype_ch_gen_lib_princ          0\n",
       "adedpe202006_logtype_classe_conso_ener         0\n",
       "adedpe202006_logtype_classe_estim_ges          0\n",
       "adedpe202006_logtype_traversant                0\n",
       "adedpe202006_logtype_ecs_type_ener             0\n",
       "adedpe202006_logtype_ph_pos_isol               0\n",
       "adedpe202006_logtype_presence_climatisation    0\n",
       "adedpe202006_logtype_type_batiment             0\n",
       "ancqpv201410_is_qpv                            0\n",
       "cerffo2020_annee_construction                  0\n",
       "cerffo2020_usage_niveau_1_txt                  0\n",
       "cerffo2020_nb_log                              0\n",
       "igntop202103_bat_hauteur                       0\n",
       "mcumer202007_is_mer                            0\n",
       "baie_orientation_sud                           0\n",
       "baie_orientation_nord                          0\n",
       "baie_orientation_ouest                         0\n",
       "baie_orientation_est                           0\n",
       "baie_orientation_autre                         0\n",
       "Commerces_bruyants                             0\n",
       "qty_of_mut                                     0\n",
       "anneemut                                       0\n",
       "surface_appart                                 0\n",
       "dtype: int64"
      ]
     },
     "execution_count": 8,
     "metadata": {},
     "output_type": "execute_result"
    }
   ],
   "source": [
    "df.isna().sum()"
   ]
  },
  {
   "cell_type": "code",
   "execution_count": 9,
   "id": "605e07f8",
   "metadata": {},
   "outputs": [],
   "source": [
    "from sklearn.model_selection import train_test_split"
   ]
  },
  {
   "cell_type": "code",
   "execution_count": 10,
   "id": "a6d6c8aa",
   "metadata": {},
   "outputs": [],
   "source": [
    "# On va garder \"Qty of mut\" comme variable cible. Suppression de \"Revente>1\"\n",
    "df=df.drop(\"Revente >1\", axis=1)"
   ]
  },
  {
   "cell_type": "code",
   "execution_count": 11,
   "id": "2e368c7b",
   "metadata": {},
   "outputs": [
    {
     "data": {
      "text/plain": [
       "((102577, 34), (102577,))"
      ]
     },
     "execution_count": 11,
     "metadata": {},
     "output_type": "execute_result"
    }
   ],
   "source": [
    "#Features / Target\n",
    "\n",
    "X=df.drop(\"qty_of_mut\", axis=1)\n",
    "y=df[\"qty_of_mut\"]\n",
    "\n",
    "X.shape, y.shape"
   ]
  },
  {
   "cell_type": "code",
   "execution_count": 12,
   "id": "4b0136b1",
   "metadata": {},
   "outputs": [
    {
     "data": {
      "text/plain": [
       "['valeurfonc',\n",
       " 'l_codinsee',\n",
       " 'nblocdep',\n",
       " 'scarrez',\n",
       " 'anarnc202012_nb_log',\n",
       " 'anarnc202012_nb_lot_garpark',\n",
       " 'anarnc202012_nb_lot_tertiaire',\n",
       " 'anarnc202012_nb_lot_tot',\n",
       " 'adedpe202006_logtype_presence_climatisation',\n",
       " 'ancqpv201410_is_qpv',\n",
       " 'cerffo2020_nb_log',\n",
       " 'igntop202103_bat_hauteur',\n",
       " 'mcumer202007_is_mer',\n",
       " 'baie_orientation_sud',\n",
       " 'baie_orientation_nord',\n",
       " 'baie_orientation_ouest',\n",
       " 'baie_orientation_est',\n",
       " 'baie_orientation_autre',\n",
       " 'Commerces_bruyants',\n",
       " 'anneemut',\n",
       " 'surface_appart']"
      ]
     },
     "execution_count": 12,
     "metadata": {},
     "output_type": "execute_result"
    }
   ],
   "source": [
    "numeric_columns=X.select_dtypes(include=np.number).columns.tolist()\n",
    "numeric_columns"
   ]
  },
  {
   "cell_type": "code",
   "execution_count": 13,
   "id": "5f7b4da6",
   "metadata": {},
   "outputs": [
    {
     "data": {
      "text/plain": [
       "['libnatmut',\n",
       " 'nblot',\n",
       " 'Type appart',\n",
       " 'adedpe202006_logtype_baie_type_vitrage',\n",
       " 'adedpe202006_logtype_ch_gen_lib_princ',\n",
       " 'adedpe202006_logtype_classe_conso_ener',\n",
       " 'adedpe202006_logtype_classe_estim_ges',\n",
       " 'adedpe202006_logtype_traversant',\n",
       " 'adedpe202006_logtype_ecs_type_ener',\n",
       " 'adedpe202006_logtype_ph_pos_isol',\n",
       " 'adedpe202006_logtype_type_batiment',\n",
       " 'cerffo2020_annee_construction',\n",
       " 'cerffo2020_usage_niveau_1_txt']"
      ]
     },
     "execution_count": 13,
     "metadata": {},
     "output_type": "execute_result"
    }
   ],
   "source": [
    "object_columns=X.select_dtypes(include='object').columns.tolist()\n",
    "object_columns"
   ]
  },
  {
   "cell_type": "code",
   "execution_count": 14,
   "id": "045f0fe1",
   "metadata": {},
   "outputs": [
    {
     "data": {
      "text/plain": [
       "((76932, 34), (25645, 34))"
      ]
     },
     "execution_count": 14,
     "metadata": {},
     "output_type": "execute_result"
    }
   ],
   "source": [
    "X_train, X_test, y_train, y_test=train_test_split(X,y, test_size=0.25, random_state=10)\n",
    "X_train.shape, X_test.shape"
   ]
  },
  {
   "cell_type": "code",
   "execution_count": 15,
   "id": "20fc9967",
   "metadata": {},
   "outputs": [],
   "source": [
    "#DICHOTOMISATION"
   ]
  },
  {
   "cell_type": "code",
   "execution_count": 16,
   "id": "00bdf080",
   "metadata": {},
   "outputs": [],
   "source": [
    "X_train=pd.get_dummies(X_train)"
   ]
  },
  {
   "cell_type": "code",
   "execution_count": 17,
   "id": "7223a2d4",
   "metadata": {},
   "outputs": [],
   "source": [
    "X_test=pd.get_dummies(X_test)"
   ]
  },
  {
   "cell_type": "code",
   "execution_count": 18,
   "id": "45987674",
   "metadata": {},
   "outputs": [
    {
     "data": {
      "text/plain": [
       "(76932, 111)"
      ]
     },
     "execution_count": 18,
     "metadata": {},
     "output_type": "execute_result"
    }
   ],
   "source": [
    "X_train.shape"
   ]
  },
  {
   "cell_type": "code",
   "execution_count": 19,
   "id": "a7892ca1",
   "metadata": {},
   "outputs": [
    {
     "data": {
      "text/plain": [
       "(25645, 111)"
      ]
     },
     "execution_count": 19,
     "metadata": {},
     "output_type": "execute_result"
    }
   ],
   "source": [
    "X_test.shape"
   ]
  },
  {
   "cell_type": "code",
   "execution_count": 20,
   "id": "b83444d3",
   "metadata": {},
   "outputs": [],
   "source": [
    "# NORMALISATION\n",
    "\n",
    "from sklearn.preprocessing import StandardScaler\n",
    "scaler = StandardScaler()\n",
    "X_train[numeric_columns] = scaler.fit_transform(X_train[numeric_columns])\n",
    "X_test[numeric_columns] = scaler.transform(X_test[numeric_columns])"
   ]
  },
  {
   "cell_type": "code",
   "execution_count": 21,
   "id": "36a35d36",
   "metadata": {},
   "outputs": [],
   "source": [
    "# SELECTION DE VARIABLE PAR LASSO \n",
    "# Lasso consiste en l'ajout d'une contrainte sur les coefficients lors de la modélisation pour maîtriser \n",
    "# l'amplitude de leurs valeurs.\n",
    "# Cette contrainte se concrétise par l'ajout d'une fonction de pénalité (alpha) à la somme des carrées des résidus \n",
    "# que l'on cherche à minimiser.\n",
    "# L'intérêt principal de la régression Lasso  est qu'elle peut faire office de dispositif de sélection de variables.\n",
    "\n",
    "from sklearn.linear_model import Lasso"
   ]
  },
  {
   "cell_type": "code",
   "execution_count": 22,
   "id": "a251dd23",
   "metadata": {},
   "outputs": [
    {
     "data": {
      "text/plain": [
       "Lasso(alpha=1)"
      ]
     },
     "execution_count": 22,
     "metadata": {},
     "output_type": "execute_result"
    }
   ],
   "source": [
    "lasso_r = Lasso(alpha=1)\n",
    "lasso_r.fit(X_train, y_train)"
   ]
  },
  {
   "cell_type": "code",
   "execution_count": 23,
   "id": "8644f2c7",
   "metadata": {},
   "outputs": [
    {
     "data": {
      "text/plain": [
       "array([ 0.,  0., -0.,  0., -0., -0., -0., -0., -0.,  0., -0., -0., -0.,\n",
       "        0.,  0., -0., -0., -0.,  0.,  0.,  0.,  0., -0.,  0.,  0., -0.,\n",
       "       -0., -0., -0., -0., -0., -0., -0., -0.,  0.,  0.,  0., -0., -0.,\n",
       "        0., -0., -0., -0., -0.,  0., -0., -0.,  0.,  0.,  0., -0.,  0.,\n",
       "        0.,  0., -0., -0., -0., -0.,  0., -0., -0., -0., -0.,  0.,  0.,\n",
       "       -0., -0.,  0., -0.,  0., -0., -0.,  0., -0., -0.,  0., -0., -0.,\n",
       "       -0., -0.,  0.,  0., -0.,  0., -0.,  0., -0., -0., -0., -0., -0.,\n",
       "       -0., -0., -0.,  0.,  0.,  0., -0., -0., -0., -0., -0., -0.,  0.,\n",
       "       -0.,  0., -0., -0., -0., -0.,  0.])"
      ]
     },
     "execution_count": 23,
     "metadata": {},
     "output_type": "execute_result"
    }
   ],
   "source": [
    "lasso_r.coef_"
   ]
  },
  {
   "cell_type": "code",
   "execution_count": 24,
   "id": "53932c9d",
   "metadata": {},
   "outputs": [],
   "source": [
    "# tous les coefficients sont nuls donc on ne retient pas cette valeur de alpha"
   ]
  },
  {
   "cell_type": "code",
   "execution_count": 25,
   "id": "319af63f",
   "metadata": {},
   "outputs": [
    {
     "data": {
      "text/plain": [
       "Lasso(alpha=0.1)"
      ]
     },
     "execution_count": 25,
     "metadata": {},
     "output_type": "execute_result"
    }
   ],
   "source": [
    "lasso_r=Lasso(alpha=0.1)\n",
    "lasso_r.fit(X_train, y_train)"
   ]
  },
  {
   "cell_type": "code",
   "execution_count": 26,
   "id": "a3f77a02",
   "metadata": {},
   "outputs": [
    {
     "data": {
      "text/plain": [
       "array([ 0.,  0., -0.,  0., -0., -0., -0., -0., -0.,  0., -0., -0., -0.,\n",
       "        0.,  0., -0., -0., -0.,  0.,  0.,  0.,  0., -0.,  0.,  0., -0.,\n",
       "       -0., -0., -0., -0., -0., -0., -0., -0.,  0.,  0.,  0., -0., -0.,\n",
       "        0., -0., -0., -0., -0.,  0., -0., -0.,  0.,  0.,  0., -0.,  0.,\n",
       "        0.,  0., -0., -0., -0., -0.,  0., -0., -0., -0., -0.,  0.,  0.,\n",
       "       -0., -0.,  0., -0.,  0., -0., -0.,  0., -0., -0.,  0., -0., -0.,\n",
       "       -0., -0.,  0.,  0., -0.,  0., -0.,  0., -0., -0., -0., -0., -0.,\n",
       "       -0., -0., -0.,  0.,  0.,  0., -0., -0., -0., -0., -0., -0.,  0.,\n",
       "       -0.,  0., -0., -0., -0., -0.,  0.])"
      ]
     },
     "execution_count": 26,
     "metadata": {},
     "output_type": "execute_result"
    }
   ],
   "source": [
    "lasso_r.coef_"
   ]
  },
  {
   "cell_type": "code",
   "execution_count": 27,
   "id": "6cc03035",
   "metadata": {},
   "outputs": [],
   "source": [
    "# Pareil pour alpha=0.1"
   ]
  },
  {
   "cell_type": "code",
   "execution_count": 28,
   "id": "ac00a4f7",
   "metadata": {},
   "outputs": [
    {
     "data": {
      "text/plain": [
       "Lasso(alpha=0.005)"
      ]
     },
     "execution_count": 28,
     "metadata": {},
     "output_type": "execute_result"
    }
   ],
   "source": [
    "lasso_r=Lasso(alpha=0.005)\n",
    "lasso_r.fit(X_train, y_train)\n"
   ]
  },
  {
   "cell_type": "code",
   "execution_count": 29,
   "id": "408806ca",
   "metadata": {},
   "outputs": [
    {
     "data": {
      "text/plain": [
       "array([ 0.00860747,  0.01713508, -0.0019513 ,  0.        , -0.        ,\n",
       "       -0.00464676, -0.        , -0.        , -0.        ,  0.00191757,\n",
       "       -0.00783426, -0.00153403, -0.        ,  0.        ,  0.00191461,\n",
       "       -0.        , -0.        , -0.        ,  0.        ,  0.        ,\n",
       "       -0.        ,  0.        , -0.        ,  0.        ,  0.        ,\n",
       "       -0.00842775, -0.        , -0.        , -0.        , -0.        ,\n",
       "       -0.        , -0.        , -0.        , -0.        ,  0.        ,\n",
       "        0.        ,  0.        , -0.        , -0.        ,  0.        ,\n",
       "       -0.        , -0.        , -0.        , -0.        ,  0.        ,\n",
       "       -0.        , -0.        , -0.        , -0.        ,  0.        ,\n",
       "       -0.        ,  0.        ,  0.        ,  0.        , -0.        ,\n",
       "       -0.        , -0.        , -0.        ,  0.        , -0.        ,\n",
       "       -0.        , -0.        , -0.        ,  0.        ,  0.        ,\n",
       "       -0.        , -0.        ,  0.        , -0.        ,  0.        ,\n",
       "       -0.        , -0.        ,  0.        , -0.        , -0.        ,\n",
       "        0.        , -0.        , -0.        , -0.        , -0.        ,\n",
       "        0.        , -0.        , -0.        ,  0.        , -0.        ,\n",
       "        0.        , -0.        , -0.        , -0.        , -0.        ,\n",
       "       -0.        , -0.        , -0.        , -0.        ,  0.        ,\n",
       "        0.        ,  0.        , -0.        , -0.        , -0.        ,\n",
       "       -0.        , -0.        , -0.        ,  0.        , -0.        ,\n",
       "        0.        , -0.        , -0.        , -0.        , -0.        ,\n",
       "        0.        ])"
      ]
     },
     "execution_count": 29,
     "metadata": {},
     "output_type": "execute_result"
    }
   ],
   "source": [
    "lasso_r.coef_"
   ]
  },
  {
   "cell_type": "code",
   "execution_count": 30,
   "id": "9e9f91a9",
   "metadata": {},
   "outputs": [],
   "source": [
    "lasso_pred_train=lasso_r.predict(X_train)"
   ]
  },
  {
   "cell_type": "code",
   "execution_count": 31,
   "id": "057dca9e",
   "metadata": {},
   "outputs": [],
   "source": [
    "lasso_pred_test=lasso_r.predict(X_test)"
   ]
  },
  {
   "cell_type": "code",
   "execution_count": 32,
   "id": "90fbfb61",
   "metadata": {},
   "outputs": [],
   "source": [
    "from sklearn.metrics import mean_squared_error"
   ]
  },
  {
   "cell_type": "code",
   "execution_count": 33,
   "id": "b29fcfc8",
   "metadata": {},
   "outputs": [
    {
     "name": "stdout",
     "output_type": "stream",
     "text": [
      "0.1850839087795062\n",
      "0.18692549339867226\n"
     ]
    }
   ],
   "source": [
    "print(mean_squared_error(lasso_pred_train, y_train))\n",
    "print(mean_squared_error(lasso_pred_test, y_test))"
   ]
  },
  {
   "cell_type": "code",
   "execution_count": 34,
   "id": "ca98da09",
   "metadata": {},
   "outputs": [],
   "source": [
    "# Il n'y a pas d'écart d'erreur entre l'échantillon d'entraînement et l'échantillon de test donc il n'y a pas d'overfitting"
   ]
  },
  {
   "cell_type": "code",
   "execution_count": 35,
   "id": "62938bfa",
   "metadata": {},
   "outputs": [],
   "source": [
    "from sklearn.linear_model import lasso_path"
   ]
  },
  {
   "cell_type": "code",
   "execution_count": 36,
   "id": "c5654e46",
   "metadata": {},
   "outputs": [],
   "source": [
    "mes_alphas=(0.001, 0.01, 0.02, 0.025, 0.05, 0.1, 0.25, 0.5, 0.8, 1.0, 1.3)"
   ]
  },
  {
   "cell_type": "code",
   "execution_count": 37,
   "id": "5a198829",
   "metadata": {},
   "outputs": [],
   "source": [
    "alpha_path, coefs_lasso, _ =lasso_path(X_train, y_train, alphas=mes_alphas)"
   ]
  },
  {
   "cell_type": "code",
   "execution_count": 38,
   "id": "c02a8637",
   "metadata": {},
   "outputs": [
    {
     "data": {
      "text/plain": [
       "(111, 11)"
      ]
     },
     "execution_count": 38,
     "metadata": {},
     "output_type": "execute_result"
    }
   ],
   "source": [
    "coefs_lasso.shape"
   ]
  },
  {
   "cell_type": "code",
   "execution_count": 39,
   "id": "0619ff27",
   "metadata": {},
   "outputs": [
    {
     "data": {
      "image/png": "[encoded data removed]",
      "text/plain": [
       "<Figure size 720x504 with 1 Axes>"
      ]
     },
     "metadata": {
      "needs_background": "light"
     },
     "output_type": "display_data"
    }
   ],
   "source": [
    "plt.figure(figsize=(10, 7))\n",
    "\n",
    "for i in range(coefs_lasso.shape[0]):\n",
    "    plt.plot(alpha_path, coefs_lasso[i,:], '--')\n",
    "\n",
    "plt.xlabel('Alpha')\n",
    "plt.ylabel('Coefficients')\n",
    "plt.title('Lasso path');"
   ]
  },
  {
   "cell_type": "code",
   "execution_count": 40,
   "id": "ff665795",
   "metadata": {},
   "outputs": [],
   "source": [
    "#sur le graphique nous pouvons voir que seulement avec alpha<0.1 il y a plusieurs coefficients, sinon ils sont presque\n",
    "#tous estimés à 0. On va voir cela en details avec modèle LassoCV"
   ]
  },
  {
   "cell_type": "code",
   "execution_count": 41,
   "id": "e039dded",
   "metadata": {},
   "outputs": [],
   "source": [
    "from sklearn.linear_model import LassoCV\n",
    "model_lasso = LassoCV(cv=10).fit(X_train, y_train)"
   ]
  },
  {
   "cell_type": "code",
   "execution_count": 42,
   "id": "356961b5",
   "metadata": {},
   "outputs": [
    {
     "name": "stdout",
     "output_type": "stream",
     "text": [
      "alphas testés : [1.90111439e-02 1.77298565e-02 1.65349235e-02 1.54205250e-02\n",
      " 1.43812332e-02 1.34119862e-02 1.25080632e-02 1.16650616e-02\n",
      " 1.08788755e-02 1.01456757e-02 9.46189113e-03 8.82419134e-03\n",
      " 8.22947037e-03 7.67483161e-03 7.15757365e-03 6.67517714e-03\n",
      " 6.22529254e-03 5.80572866e-03 5.41444198e-03 5.04952671e-03\n",
      " 4.70920551e-03 4.39182082e-03 4.09582680e-03 3.81978178e-03\n",
      " 3.56234127e-03 3.32225139e-03 3.09834277e-03 2.88952483e-03\n",
      " 2.69478053e-03 2.51316134e-03 2.34378268e-03 2.18581957e-03\n",
      " 2.03850265e-03 1.90111439e-03 1.77298565e-03 1.65349235e-03\n",
      " 1.54205250e-03 1.43812332e-03 1.34119862e-03 1.25080632e-03\n",
      " 1.16650616e-03 1.08788755e-03 1.01456757e-03 9.46189113e-04\n",
      " 8.82419134e-04 8.22947037e-04 7.67483161e-04 7.15757365e-04\n",
      " 6.67517714e-04 6.22529254e-04 5.80572866e-04 5.41444198e-04\n",
      " 5.04952671e-04 4.70920551e-04 4.39182082e-04 4.09582680e-04\n",
      " 3.81978178e-04 3.56234127e-04 3.32225139e-04 3.09834277e-04\n",
      " 2.88952483e-04 2.69478053e-04 2.51316134e-04 2.34378268e-04\n",
      " 2.18581957e-04 2.03850265e-04 1.90111439e-04 1.77298565e-04\n",
      " 1.65349235e-04 1.54205250e-04 1.43812332e-04 1.34119862e-04\n",
      " 1.25080632e-04 1.16650616e-04 1.08788755e-04 1.01456757e-04\n",
      " 9.46189113e-05 8.82419134e-05 8.22947037e-05 7.67483161e-05\n",
      " 7.15757365e-05 6.67517714e-05 6.22529254e-05 5.80572866e-05\n",
      " 5.41444198e-05 5.04952671e-05 4.70920551e-05 4.39182082e-05\n",
      " 4.09582680e-05 3.81978178e-05 3.56234127e-05 3.32225139e-05\n",
      " 3.09834277e-05 2.88952483e-05 2.69478053e-05 2.51316134e-05\n",
      " 2.34378268e-05 2.18581957e-05 2.03850265e-05 1.90111439e-05]\n"
     ]
    }
   ],
   "source": [
    "#Alphas testés\n",
    "print(\"alphas testés :\", model_lasso.alphas_)"
   ]
  },
  {
   "cell_type": "code",
   "execution_count": 43,
   "id": "f5af2af8",
   "metadata": {},
   "outputs": [
    {
     "name": "stdout",
     "output_type": "stream",
     "text": [
      "alpha retenu : 6.675177140427376e-05\n"
     ]
    }
   ],
   "source": [
    "#Alpha retenu\n",
    "print(\"alpha retenu :\",model_lasso.alpha_)"
   ]
  },
  {
   "cell_type": "code",
   "execution_count": 44,
   "id": "69811b30",
   "metadata": {},
   "outputs": [],
   "source": [
    "#identification par graphique de l'alpha retenu \n",
    "alphas = model_lasso.alphas_"
   ]
  },
  {
   "cell_type": "code",
   "execution_count": 45,
   "id": "a09d3be5",
   "metadata": {},
   "outputs": [
    {
     "data": {
      "image/png": "[encoded data removed]",
      "text/plain": [
       "<Figure size 720x576 with 1 Axes>"
      ]
     },
     "metadata": {
      "needs_background": "light"
     },
     "output_type": "display_data"
    }
   ],
   "source": [
    "plt.figure(figsize=(10, 8))\n",
    "\n",
    "plt.plot(alphas, model_lasso.mse_path_, ':')\n",
    "plt.plot(alphas, model_lasso.mse_path_.mean(axis=1), 'k', label='Moyenne', linewidth=2)\n",
    "\n",
    "plt.axvline(model_lasso.alpha_, linestyle='--', color='k', label='alpha : estimation CV')\n",
    "\n",
    "plt.xlabel('Alpha')\n",
    "plt.ylabel('Mean square error')\n",
    "plt.title('Mean square error pour chaque échantillon')\n",
    "plt.legend();"
   ]
  },
  {
   "cell_type": "code",
   "execution_count": 46,
   "id": "83f8f16f",
   "metadata": {},
   "outputs": [
    {
     "name": "stdout",
     "output_type": "stream",
     "text": [
      "0.011615072549326921\n"
     ]
    }
   ],
   "source": [
    "pred_test = model_lasso.predict(X_test)\n",
    "print(model_lasso.score(X_test, y_test))\n"
   ]
  },
  {
   "cell_type": "code",
   "execution_count": 47,
   "id": "1a9587ff",
   "metadata": {},
   "outputs": [],
   "source": [
    "#Nous voyons que le score(R2) de notre modèle est trés bas, donc le modèle n'est pas performant"
   ]
  },
  {
   "cell_type": "code",
   "execution_count": 48,
   "id": "d9439476",
   "metadata": {},
   "outputs": [
    {
     "data": {
      "text/plain": [
       "Lasso(alpha=6.675177140427376e-05)"
      ]
     },
     "execution_count": 48,
     "metadata": {},
     "output_type": "execute_result"
    }
   ],
   "source": [
    "lasso_reg=Lasso(alpha=model_lasso.alpha_)\n",
    "lasso_reg.fit(X_train, y_train)"
   ]
  },
  {
   "cell_type": "code",
   "execution_count": 49,
   "id": "cb6c72e6",
   "metadata": {},
   "outputs": [
    {
     "data": {
      "text/plain": [
       "array([ 3.24355909e-02,  2.65698495e-02,  3.70507554e-03,  3.51110701e-03,\n",
       "        7.42626059e-03, -2.89945671e-04,  2.23797173e-03, -7.98590007e-03,\n",
       "       -1.97953639e-03,  7.00582025e-03, -1.03003241e-02, -3.30037766e-03,\n",
       "       -1.66418079e-03,  1.18288745e-04, -1.03187860e-03,  7.09689798e-04,\n",
       "       -2.03194544e-03, -1.19428098e-03,  3.24885455e-03, -2.19269194e-03,\n",
       "       -2.11036403e-02,  6.02955391e-02, -2.54481147e-15,  7.22941388e-02,\n",
       "        6.02035351e-02,  3.00067146e-03, -0.00000000e+00, -6.19921454e-02,\n",
       "       -0.00000000e+00, -0.00000000e+00, -0.00000000e+00,  0.00000000e+00,\n",
       "       -0.00000000e+00, -2.16695716e-02,  0.00000000e+00,  0.00000000e+00,\n",
       "       -0.00000000e+00,  0.00000000e+00, -0.00000000e+00,  2.20577129e-02,\n",
       "       -0.00000000e+00, -0.00000000e+00, -0.00000000e+00,  0.00000000e+00,\n",
       "        2.64284798e-03, -0.00000000e+00, -0.00000000e+00,  3.59606231e-02,\n",
       "        0.00000000e+00,  1.45594649e-02, -1.74803344e-03,  0.00000000e+00,\n",
       "        1.07317269e-02,  2.90389635e-02, -0.00000000e+00, -0.00000000e+00,\n",
       "       -2.53205494e-02, -1.96232675e-02,  3.49784244e-03, -0.00000000e+00,\n",
       "       -4.92545805e-03,  0.00000000e+00, -9.89258182e-03,  1.04729721e-02,\n",
       "        1.72149606e-03, -1.28589513e-02, -1.40590753e-02, -0.00000000e+00,\n",
       "       -1.62105439e-02,  9.76616743e-03,  0.00000000e+00,  7.21465271e-03,\n",
       "        1.56173698e-02, -1.98364354e-03, -1.29247334e-02,  1.41841004e-02,\n",
       "        0.00000000e+00, -1.92825792e-02, -1.79166016e-02, -5.61281885e-04,\n",
       "        2.67434045e-02,  0.00000000e+00, -0.00000000e+00,  1.34216412e-02,\n",
       "        0.00000000e+00,  1.00103909e-02, -6.57979082e-02, -4.72363825e-03,\n",
       "        6.72928055e-03, -4.10693748e-02, -0.00000000e+00,  0.00000000e+00,\n",
       "        5.83264514e-03, -4.17637912e-02,  1.04336428e-02,  0.00000000e+00,\n",
       "        0.00000000e+00,  0.00000000e+00, -0.00000000e+00, -1.20940816e-02,\n",
       "        1.12905291e-02, -0.00000000e+00, -1.57032044e-03,  2.59248848e-02,\n",
       "       -0.00000000e+00,  1.51713702e-02, -9.29582204e-03, -0.00000000e+00,\n",
       "        0.00000000e+00, -8.47020908e-03,  2.37732995e-02])"
      ]
     },
     "execution_count": 49,
     "metadata": {},
     "output_type": "execute_result"
    }
   ],
   "source": [
    "lasso_reg.coef_"
   ]
  },
  {
   "cell_type": "code",
   "execution_count": 50,
   "id": "b7499a91",
   "metadata": {},
   "outputs": [
    {
     "name": "stdout",
     "output_type": "stream",
     "text": [
      "0.18376002118315687\n",
      "0.18580470906800453\n"
     ]
    }
   ],
   "source": [
    "lasso_pred_train=lasso_reg.predict(X_train)\n",
    "lasso_pred_test=lasso_reg.predict(X_test)\n",
    "print(mean_squared_error(lasso_pred_train, y_train))\n",
    "print(mean_squared_error(lasso_pred_test, y_test))"
   ]
  },
  {
   "cell_type": "code",
   "execution_count": 51,
   "id": "eec269f0",
   "metadata": {},
   "outputs": [],
   "source": [
    "H=pd.DataFrame(lasso_reg.coef_, index=X_train.columns)"
   ]
  },
  {
   "cell_type": "code",
   "execution_count": 52,
   "id": "2b22a52c",
   "metadata": {},
   "outputs": [],
   "source": [
    "H=H.sort_values(by=0, ascending=False)"
   ]
  },
  {
   "cell_type": "code",
   "execution_count": 53,
   "id": "b93d18e4",
   "metadata": {},
   "outputs": [
    {
     "data": {
      "text/html": [
       "<div>\n",
       "<style scoped>\n",
       "    .dataframe tbody tr th:only-of-type {\n",
       "        vertical-align: middle;\n",
       "    }\n",
       "\n",
       "    .dataframe tbody tr th {\n",
       "        vertical-align: top;\n",
       "    }\n",
       "\n",
       "    .dataframe thead th {\n",
       "        text-align: right;\n",
       "    }\n",
       "</style>\n",
       "<table border=\"1\" class=\"dataframe\">\n",
       "  <thead>\n",
       "    <tr style=\"text-align: right;\">\n",
       "      <th></th>\n",
       "      <th>0</th>\n",
       "    </tr>\n",
       "  </thead>\n",
       "  <tbody>\n",
       "    <tr>\n",
       "      <th>nblot_1</th>\n",
       "      <td>0.072294</td>\n",
       "    </tr>\n",
       "    <tr>\n",
       "      <th>libnatmut_Vente</th>\n",
       "      <td>0.060296</td>\n",
       "    </tr>\n",
       "    <tr>\n",
       "      <th>nblot_2</th>\n",
       "      <td>0.060204</td>\n",
       "    </tr>\n",
       "    <tr>\n",
       "      <th>adedpe202006_logtype_ch_gen_lib_princ_chaudiere fioul standard</th>\n",
       "      <td>0.035961</td>\n",
       "    </tr>\n",
       "    <tr>\n",
       "      <th>valeurfonc</th>\n",
       "      <td>0.032436</td>\n",
       "    </tr>\n",
       "    <tr>\n",
       "      <th>adedpe202006_logtype_ch_gen_lib_princ_pac air/air</th>\n",
       "      <td>0.029039</td>\n",
       "    </tr>\n",
       "    <tr>\n",
       "      <th>adedpe202006_logtype_traversant_traversant nord sud</th>\n",
       "      <td>0.026743</td>\n",
       "    </tr>\n",
       "    <tr>\n",
       "      <th>l_codinsee</th>\n",
       "      <td>0.026570</td>\n",
       "    </tr>\n",
       "    <tr>\n",
       "      <th>cerffo2020_annee_construction_2000-2005</th>\n",
       "      <td>0.025925</td>\n",
       "    </tr>\n",
       "    <tr>\n",
       "      <th>cerffo2020_usage_niveau_1_txt_Tertiaire &amp; Autres</th>\n",
       "      <td>0.023773</td>\n",
       "    </tr>\n",
       "    <tr>\n",
       "      <th>adedpe202006_logtype_baie_type_vitrage_triple vitrage</th>\n",
       "      <td>0.022058</td>\n",
       "    </tr>\n",
       "    <tr>\n",
       "      <th>adedpe202006_logtype_classe_estim_ges_G</th>\n",
       "      <td>0.015617</td>\n",
       "    </tr>\n",
       "    <tr>\n",
       "      <th>cerffo2020_annee_construction_&lt;1948</th>\n",
       "      <td>0.015171</td>\n",
       "    </tr>\n",
       "    <tr>\n",
       "      <th>adedpe202006_logtype_ch_gen_lib_princ_chaudiere gaz condensation</th>\n",
       "      <td>0.014559</td>\n",
       "    </tr>\n",
       "    <tr>\n",
       "      <th>adedpe202006_logtype_traversant_non traversant</th>\n",
       "      <td>0.014184</td>\n",
       "    </tr>\n",
       "    <tr>\n",
       "      <th>adedpe202006_logtype_traversant_traversant tout venant (faible)</th>\n",
       "      <td>0.013422</td>\n",
       "    </tr>\n",
       "    <tr>\n",
       "      <th>cerffo2020_annee_construction_1949-1970</th>\n",
       "      <td>0.011291</td>\n",
       "    </tr>\n",
       "    <tr>\n",
       "      <th>adedpe202006_logtype_ch_gen_lib_princ_generateurs a effet joule</th>\n",
       "      <td>0.010732</td>\n",
       "    </tr>\n",
       "    <tr>\n",
       "      <th>adedpe202006_logtype_classe_conso_ener_F</th>\n",
       "      <td>0.010473</td>\n",
       "    </tr>\n",
       "    <tr>\n",
       "      <th>adedpe202006_logtype_ph_pos_isol_non isole</th>\n",
       "      <td>0.010434</td>\n",
       "    </tr>\n",
       "    <tr>\n",
       "      <th>adedpe202006_logtype_ecs_type_ener_electricite</th>\n",
       "      <td>0.010010</td>\n",
       "    </tr>\n",
       "    <tr>\n",
       "      <th>adedpe202006_logtype_classe_estim_ges_D</th>\n",
       "      <td>0.009766</td>\n",
       "    </tr>\n",
       "    <tr>\n",
       "      <th>anarnc202012_nb_log</th>\n",
       "      <td>0.007426</td>\n",
       "    </tr>\n",
       "    <tr>\n",
       "      <th>adedpe202006_logtype_classe_estim_ges_F</th>\n",
       "      <td>0.007215</td>\n",
       "    </tr>\n",
       "    <tr>\n",
       "      <th>ancqpv201410_is_qpv</th>\n",
       "      <td>0.007006</td>\n",
       "    </tr>\n",
       "    <tr>\n",
       "      <th>adedpe202006_logtype_ecs_type_ener_reseau de chaleur</th>\n",
       "      <td>0.006729</td>\n",
       "    </tr>\n",
       "    <tr>\n",
       "      <th>adedpe202006_logtype_ph_pos_isol_Unknown</th>\n",
       "      <td>0.005833</td>\n",
       "    </tr>\n",
       "    <tr>\n",
       "      <th>nblocdep</th>\n",
       "      <td>0.003705</td>\n",
       "    </tr>\n",
       "    <tr>\n",
       "      <th>scarrez</th>\n",
       "      <td>0.003511</td>\n",
       "    </tr>\n",
       "    <tr>\n",
       "      <th>adedpe202006_logtype_classe_conso_ener_A</th>\n",
       "      <td>0.003498</td>\n",
       "    </tr>\n",
       "    <tr>\n",
       "      <th>Commerces_bruyants</th>\n",
       "      <td>0.003249</td>\n",
       "    </tr>\n",
       "    <tr>\n",
       "      <th>nblot_3</th>\n",
       "      <td>0.003001</td>\n",
       "    </tr>\n",
       "    <tr>\n",
       "      <th>adedpe202006_logtype_ch_gen_lib_princ_chaudiere energie indetermine standard</th>\n",
       "      <td>0.002643</td>\n",
       "    </tr>\n",
       "    <tr>\n",
       "      <th>anarnc202012_nb_lot_tertiaire</th>\n",
       "      <td>0.002238</td>\n",
       "    </tr>\n",
       "    <tr>\n",
       "      <th>adedpe202006_logtype_classe_conso_ener_G</th>\n",
       "      <td>0.001721</td>\n",
       "    </tr>\n",
       "    <tr>\n",
       "      <th>baie_orientation_ouest</th>\n",
       "      <td>0.000710</td>\n",
       "    </tr>\n",
       "    <tr>\n",
       "      <th>baie_orientation_sud</th>\n",
       "      <td>0.000118</td>\n",
       "    </tr>\n",
       "    <tr>\n",
       "      <th>adedpe202006_logtype_classe_conso_ener_B</th>\n",
       "      <td>-0.000000</td>\n",
       "    </tr>\n",
       "    <tr>\n",
       "      <th>adedpe202006_logtype_classe_conso_ener_D</th>\n",
       "      <td>0.000000</td>\n",
       "    </tr>\n",
       "    <tr>\n",
       "      <th>cerffo2020_annee_construction_1970-1988</th>\n",
       "      <td>-0.000000</td>\n",
       "    </tr>\n",
       "  </tbody>\n",
       "</table>\n",
       "</div>"
      ],
      "text/plain": [
       "                                                           0\n",
       "nblot_1                                             0.072294\n",
       "libnatmut_Vente                                     0.060296\n",
       "nblot_2                                             0.060204\n",
       "adedpe202006_logtype_ch_gen_lib_princ_chaudiere...  0.035961\n",
       "valeurfonc                                          0.032436\n",
       "adedpe202006_logtype_ch_gen_lib_princ_pac air/air   0.029039\n",
       "adedpe202006_logtype_traversant_traversant nord...  0.026743\n",
       "l_codinsee                                          0.026570\n",
       "cerffo2020_annee_construction_2000-2005             0.025925\n",
       "cerffo2020_usage_niveau_1_txt_Tertiaire & Autres    0.023773\n",
       "adedpe202006_logtype_baie_type_vitrage_triple v...  0.022058\n",
       "adedpe202006_logtype_classe_estim_ges_G             0.015617\n",
       "cerffo2020_annee_construction_<1948                 0.015171\n",
       "adedpe202006_logtype_ch_gen_lib_princ_chaudiere...  0.014559\n",
       "adedpe202006_logtype_traversant_non traversant      0.014184\n",
       "adedpe202006_logtype_traversant_traversant tout...  0.013422\n",
       "cerffo2020_annee_construction_1949-1970             0.011291\n",
       "adedpe202006_logtype_ch_gen_lib_princ_generateu...  0.010732\n",
       "adedpe202006_logtype_classe_conso_ener_F            0.010473\n",
       "adedpe202006_logtype_ph_pos_isol_non isole          0.010434\n",
       "adedpe202006_logtype_ecs_type_ener_electricite      0.010010\n",
       "adedpe202006_logtype_classe_estim_ges_D             0.009766\n",
       "anarnc202012_nb_log                                 0.007426\n",
       "adedpe202006_logtype_classe_estim_ges_F             0.007215\n",
       "ancqpv201410_is_qpv                                 0.007006\n",
       "adedpe202006_logtype_ecs_type_ener_reseau de ch...  0.006729\n",
       "adedpe202006_logtype_ph_pos_isol_Unknown            0.005833\n",
       "nblocdep                                            0.003705\n",
       "scarrez                                             0.003511\n",
       "adedpe202006_logtype_classe_conso_ener_A            0.003498\n",
       "Commerces_bruyants                                  0.003249\n",
       "nblot_3                                             0.003001\n",
       "adedpe202006_logtype_ch_gen_lib_princ_chaudiere...  0.002643\n",
       "anarnc202012_nb_lot_tertiaire                       0.002238\n",
       "adedpe202006_logtype_classe_conso_ener_G            0.001721\n",
       "baie_orientation_ouest                              0.000710\n",
       "baie_orientation_sud                                0.000118\n",
       "adedpe202006_logtype_classe_conso_ener_B           -0.000000\n",
       "adedpe202006_logtype_classe_conso_ener_D            0.000000\n",
       "cerffo2020_annee_construction_1970-1988            -0.000000"
      ]
     },
     "execution_count": 53,
     "metadata": {},
     "output_type": "execute_result"
    }
   ],
   "source": [
    "H.head(40)"
   ]
  },
  {
   "cell_type": "code",
   "execution_count": null,
   "id": "ccbcdce0",
   "metadata": {},
   "outputs": [],
   "source": []
  },
  {
   "cell_type": "code",
   "execution_count": 54,
   "id": "6b3bd935",
   "metadata": {},
   "outputs": [],
   "source": [
    "# Autre méthode de sélection de ariables : VarianceThreshold (Transformer) = Cours 125\n",
    "# Variance Threshold élimine les variables dont la variance est inférieure au seuil qu'on définit\n",
    "# le but est d'éliminer les variables qui varient très peu voire pas du tout. Si la variable est une constante, elle n'est pas utile"
   ]
  },
  {
   "cell_type": "code",
   "execution_count": 55,
   "id": "69c38489",
   "metadata": {},
   "outputs": [
    {
     "data": {
      "text/plain": [
       "valeurfonc                                              1.000013\n",
       "l_codinsee                                              1.000013\n",
       "nblocdep                                                1.000013\n",
       "scarrez                                                 1.000013\n",
       "anarnc202012_nb_log                                     1.000013\n",
       "                                                          ...   \n",
       "cerffo2020_annee_construction_>2012                     0.006867\n",
       "cerffo2020_usage_niveau_1_txt_Autres                    0.000195\n",
       "cerffo2020_usage_niveau_1_txt_Résidentiel collectif     0.023185\n",
       "cerffo2020_usage_niveau_1_txt_Résidentiel individuel    0.002554\n",
       "cerffo2020_usage_niveau_1_txt_Tertiaire & Autres        0.020552\n",
       "Length: 111, dtype: float64"
      ]
     },
     "execution_count": 55,
     "metadata": {},
     "output_type": "execute_result"
    }
   ],
   "source": [
    "# Variance de nos variables\n",
    "X_train.var(axis=0)"
   ]
  },
  {
   "cell_type": "code",
   "execution_count": 56,
   "id": "9c95c571",
   "metadata": {},
   "outputs": [],
   "source": [
    "from sklearn.feature_selection import VarianceThreshold\n",
    "selector = VarianceThreshold(threshold=0.05)"
   ]
  },
  {
   "cell_type": "code",
   "execution_count": 57,
   "id": "46bfe80e",
   "metadata": {},
   "outputs": [
    {
     "data": {
      "text/plain": [
       "VarianceThreshold(threshold=0.05)"
      ]
     },
     "execution_count": 57,
     "metadata": {},
     "output_type": "execute_result"
    }
   ],
   "source": [
    "selector.fit(X_train)"
   ]
  },
  {
   "cell_type": "code",
   "execution_count": 58,
   "id": "705d067c",
   "metadata": {},
   "outputs": [
    {
     "data": {
      "text/plain": [
       "array([ True,  True,  True,  True,  True,  True,  True,  True,  True,\n",
       "        True,  True,  True,  True,  True,  True,  True,  True,  True,\n",
       "        True,  True,  True, False, False,  True,  True,  True, False,\n",
       "       False, False, False, False, False, False,  True,  True, False,\n",
       "        True,  True, False, False, False, False, False, False, False,\n",
       "       False, False, False, False, False,  True, False,  True, False,\n",
       "       False, False, False,  True, False, False,  True,  True,  True,\n",
       "        True,  True,  True, False,  True,  True,  True,  True,  True,\n",
       "       False,  True,  True,  True, False, False, False, False, False,\n",
       "       False, False, False, False,  True, False,  True, False, False,\n",
       "       False,  True,  True, False,  True,  True, False, False, False,\n",
       "       False,  True, False, False, False, False,  True, False, False,\n",
       "       False, False, False])"
      ]
     },
     "execution_count": 58,
     "metadata": {},
     "output_type": "execute_result"
    }
   ],
   "source": [
    "selector.get_support()"
   ]
  },
  {
   "cell_type": "code",
   "execution_count": 59,
   "id": "69a103b4",
   "metadata": {},
   "outputs": [
    {
     "data": {
      "text/plain": [
       "array(['valeurfonc', 'l_codinsee', 'nblocdep', 'scarrez',\n",
       "       'anarnc202012_nb_log', 'anarnc202012_nb_lot_garpark',\n",
       "       'anarnc202012_nb_lot_tertiaire', 'anarnc202012_nb_lot_tot',\n",
       "       'adedpe202006_logtype_presence_climatisation',\n",
       "       'ancqpv201410_is_qpv', 'cerffo2020_nb_log',\n",
       "       'igntop202103_bat_hauteur', 'mcumer202007_is_mer',\n",
       "       'baie_orientation_sud', 'baie_orientation_nord',\n",
       "       'baie_orientation_ouest', 'baie_orientation_est',\n",
       "       'baie_orientation_autre', 'Commerces_bruyants', 'anneemut',\n",
       "       'surface_appart', 'nblot_1', 'nblot_2', 'nblot_3',\n",
       "       'Type appart_2P', 'Type appart_3P',\n",
       "       'adedpe202006_logtype_baie_type_vitrage_double vitrage',\n",
       "       'adedpe202006_logtype_baie_type_vitrage_simple vitrage',\n",
       "       'adedpe202006_logtype_ch_gen_lib_princ_chaudiere gaz standard',\n",
       "       'adedpe202006_logtype_ch_gen_lib_princ_generateurs a effet joule',\n",
       "       'adedpe202006_logtype_ch_gen_lib_princ_reseau de chaleur',\n",
       "       'adedpe202006_logtype_classe_conso_ener_C',\n",
       "       'adedpe202006_logtype_classe_conso_ener_D',\n",
       "       'adedpe202006_logtype_classe_conso_ener_E',\n",
       "       'adedpe202006_logtype_classe_conso_ener_F',\n",
       "       'adedpe202006_logtype_classe_conso_ener_G',\n",
       "       'adedpe202006_logtype_classe_conso_ener_N',\n",
       "       'adedpe202006_logtype_classe_estim_ges_B',\n",
       "       'adedpe202006_logtype_classe_estim_ges_C',\n",
       "       'adedpe202006_logtype_classe_estim_ges_D',\n",
       "       'adedpe202006_logtype_classe_estim_ges_E',\n",
       "       'adedpe202006_logtype_classe_estim_ges_F',\n",
       "       'adedpe202006_logtype_classe_estim_ges_N',\n",
       "       'adedpe202006_logtype_traversant_Unknown',\n",
       "       'adedpe202006_logtype_traversant_non traversant',\n",
       "       'adedpe202006_logtype_ecs_type_ener_electricite',\n",
       "       'adedpe202006_logtype_ecs_type_ener_gaz',\n",
       "       'adedpe202006_logtype_ph_pos_isol_ITI',\n",
       "       'adedpe202006_logtype_ph_pos_isol_Unknown',\n",
       "       'adedpe202006_logtype_ph_pos_isol_non isole',\n",
       "       'adedpe202006_logtype_type_batiment_Appartement',\n",
       "       'cerffo2020_annee_construction_1949-1970',\n",
       "       'cerffo2020_annee_construction_<1948'], dtype=object)"
      ]
     },
     "execution_count": 59,
     "metadata": {},
     "output_type": "execute_result"
    }
   ],
   "source": [
    "np.array(X_train.columns)[selector.get_support()]"
   ]
  },
  {
   "cell_type": "code",
   "execution_count": 60,
   "id": "8779ea64",
   "metadata": {},
   "outputs": [],
   "source": [
    "H=np.array(X_train.columns)[selector.get_support()]"
   ]
  },
  {
   "cell_type": "code",
   "execution_count": 61,
   "id": "3a855a4d",
   "metadata": {},
   "outputs": [
    {
     "data": {
      "text/html": [
       "<div>\n",
       "<style scoped>\n",
       "    .dataframe tbody tr th:only-of-type {\n",
       "        vertical-align: middle;\n",
       "    }\n",
       "\n",
       "    .dataframe tbody tr th {\n",
       "        vertical-align: top;\n",
       "    }\n",
       "\n",
       "    .dataframe thead th {\n",
       "        text-align: right;\n",
       "    }\n",
       "</style>\n",
       "<table border=\"1\" class=\"dataframe\">\n",
       "  <thead>\n",
       "    <tr style=\"text-align: right;\">\n",
       "      <th></th>\n",
       "      <th>0</th>\n",
       "    </tr>\n",
       "  </thead>\n",
       "  <tbody>\n",
       "    <tr>\n",
       "      <th>0</th>\n",
       "      <td>valeurfonc</td>\n",
       "    </tr>\n",
       "    <tr>\n",
       "      <th>1</th>\n",
       "      <td>l_codinsee</td>\n",
       "    </tr>\n",
       "    <tr>\n",
       "      <th>2</th>\n",
       "      <td>nblocdep</td>\n",
       "    </tr>\n",
       "    <tr>\n",
       "      <th>3</th>\n",
       "      <td>scarrez</td>\n",
       "    </tr>\n",
       "    <tr>\n",
       "      <th>4</th>\n",
       "      <td>anarnc202012_nb_log</td>\n",
       "    </tr>\n",
       "    <tr>\n",
       "      <th>5</th>\n",
       "      <td>anarnc202012_nb_lot_garpark</td>\n",
       "    </tr>\n",
       "    <tr>\n",
       "      <th>6</th>\n",
       "      <td>anarnc202012_nb_lot_tertiaire</td>\n",
       "    </tr>\n",
       "    <tr>\n",
       "      <th>7</th>\n",
       "      <td>anarnc202012_nb_lot_tot</td>\n",
       "    </tr>\n",
       "    <tr>\n",
       "      <th>8</th>\n",
       "      <td>adedpe202006_logtype_presence_climatisation</td>\n",
       "    </tr>\n",
       "    <tr>\n",
       "      <th>9</th>\n",
       "      <td>ancqpv201410_is_qpv</td>\n",
       "    </tr>\n",
       "    <tr>\n",
       "      <th>10</th>\n",
       "      <td>cerffo2020_nb_log</td>\n",
       "    </tr>\n",
       "    <tr>\n",
       "      <th>11</th>\n",
       "      <td>igntop202103_bat_hauteur</td>\n",
       "    </tr>\n",
       "    <tr>\n",
       "      <th>12</th>\n",
       "      <td>mcumer202007_is_mer</td>\n",
       "    </tr>\n",
       "    <tr>\n",
       "      <th>13</th>\n",
       "      <td>baie_orientation_sud</td>\n",
       "    </tr>\n",
       "    <tr>\n",
       "      <th>14</th>\n",
       "      <td>baie_orientation_nord</td>\n",
       "    </tr>\n",
       "    <tr>\n",
       "      <th>15</th>\n",
       "      <td>baie_orientation_ouest</td>\n",
       "    </tr>\n",
       "    <tr>\n",
       "      <th>16</th>\n",
       "      <td>baie_orientation_est</td>\n",
       "    </tr>\n",
       "    <tr>\n",
       "      <th>17</th>\n",
       "      <td>baie_orientation_autre</td>\n",
       "    </tr>\n",
       "    <tr>\n",
       "      <th>18</th>\n",
       "      <td>Commerces_bruyants</td>\n",
       "    </tr>\n",
       "    <tr>\n",
       "      <th>19</th>\n",
       "      <td>anneemut</td>\n",
       "    </tr>\n",
       "    <tr>\n",
       "      <th>20</th>\n",
       "      <td>surface_appart</td>\n",
       "    </tr>\n",
       "    <tr>\n",
       "      <th>21</th>\n",
       "      <td>nblot_1</td>\n",
       "    </tr>\n",
       "    <tr>\n",
       "      <th>22</th>\n",
       "      <td>nblot_2</td>\n",
       "    </tr>\n",
       "    <tr>\n",
       "      <th>23</th>\n",
       "      <td>nblot_3</td>\n",
       "    </tr>\n",
       "    <tr>\n",
       "      <th>24</th>\n",
       "      <td>Type appart_2P</td>\n",
       "    </tr>\n",
       "    <tr>\n",
       "      <th>25</th>\n",
       "      <td>Type appart_3P</td>\n",
       "    </tr>\n",
       "    <tr>\n",
       "      <th>26</th>\n",
       "      <td>adedpe202006_logtype_baie_type_vitrage_double ...</td>\n",
       "    </tr>\n",
       "    <tr>\n",
       "      <th>27</th>\n",
       "      <td>adedpe202006_logtype_baie_type_vitrage_simple ...</td>\n",
       "    </tr>\n",
       "    <tr>\n",
       "      <th>28</th>\n",
       "      <td>adedpe202006_logtype_ch_gen_lib_princ_chaudier...</td>\n",
       "    </tr>\n",
       "    <tr>\n",
       "      <th>29</th>\n",
       "      <td>adedpe202006_logtype_ch_gen_lib_princ_generate...</td>\n",
       "    </tr>\n",
       "    <tr>\n",
       "      <th>30</th>\n",
       "      <td>adedpe202006_logtype_ch_gen_lib_princ_reseau d...</td>\n",
       "    </tr>\n",
       "    <tr>\n",
       "      <th>31</th>\n",
       "      <td>adedpe202006_logtype_classe_conso_ener_C</td>\n",
       "    </tr>\n",
       "    <tr>\n",
       "      <th>32</th>\n",
       "      <td>adedpe202006_logtype_classe_conso_ener_D</td>\n",
       "    </tr>\n",
       "    <tr>\n",
       "      <th>33</th>\n",
       "      <td>adedpe202006_logtype_classe_conso_ener_E</td>\n",
       "    </tr>\n",
       "    <tr>\n",
       "      <th>34</th>\n",
       "      <td>adedpe202006_logtype_classe_conso_ener_F</td>\n",
       "    </tr>\n",
       "    <tr>\n",
       "      <th>35</th>\n",
       "      <td>adedpe202006_logtype_classe_conso_ener_G</td>\n",
       "    </tr>\n",
       "    <tr>\n",
       "      <th>36</th>\n",
       "      <td>adedpe202006_logtype_classe_conso_ener_N</td>\n",
       "    </tr>\n",
       "    <tr>\n",
       "      <th>37</th>\n",
       "      <td>adedpe202006_logtype_classe_estim_ges_B</td>\n",
       "    </tr>\n",
       "    <tr>\n",
       "      <th>38</th>\n",
       "      <td>adedpe202006_logtype_classe_estim_ges_C</td>\n",
       "    </tr>\n",
       "    <tr>\n",
       "      <th>39</th>\n",
       "      <td>adedpe202006_logtype_classe_estim_ges_D</td>\n",
       "    </tr>\n",
       "  </tbody>\n",
       "</table>\n",
       "</div>"
      ],
      "text/plain": [
       "                                                    0\n",
       "0                                          valeurfonc\n",
       "1                                          l_codinsee\n",
       "2                                            nblocdep\n",
       "3                                             scarrez\n",
       "4                                 anarnc202012_nb_log\n",
       "5                         anarnc202012_nb_lot_garpark\n",
       "6                       anarnc202012_nb_lot_tertiaire\n",
       "7                             anarnc202012_nb_lot_tot\n",
       "8         adedpe202006_logtype_presence_climatisation\n",
       "9                                 ancqpv201410_is_qpv\n",
       "10                                  cerffo2020_nb_log\n",
       "11                           igntop202103_bat_hauteur\n",
       "12                                mcumer202007_is_mer\n",
       "13                               baie_orientation_sud\n",
       "14                              baie_orientation_nord\n",
       "15                             baie_orientation_ouest\n",
       "16                               baie_orientation_est\n",
       "17                             baie_orientation_autre\n",
       "18                                 Commerces_bruyants\n",
       "19                                           anneemut\n",
       "20                                     surface_appart\n",
       "21                                            nblot_1\n",
       "22                                            nblot_2\n",
       "23                                            nblot_3\n",
       "24                                     Type appart_2P\n",
       "25                                     Type appart_3P\n",
       "26  adedpe202006_logtype_baie_type_vitrage_double ...\n",
       "27  adedpe202006_logtype_baie_type_vitrage_simple ...\n",
       "28  adedpe202006_logtype_ch_gen_lib_princ_chaudier...\n",
       "29  adedpe202006_logtype_ch_gen_lib_princ_generate...\n",
       "30  adedpe202006_logtype_ch_gen_lib_princ_reseau d...\n",
       "31           adedpe202006_logtype_classe_conso_ener_C\n",
       "32           adedpe202006_logtype_classe_conso_ener_D\n",
       "33           adedpe202006_logtype_classe_conso_ener_E\n",
       "34           adedpe202006_logtype_classe_conso_ener_F\n",
       "35           adedpe202006_logtype_classe_conso_ener_G\n",
       "36           adedpe202006_logtype_classe_conso_ener_N\n",
       "37            adedpe202006_logtype_classe_estim_ges_B\n",
       "38            adedpe202006_logtype_classe_estim_ges_C\n",
       "39            adedpe202006_logtype_classe_estim_ges_D"
      ]
     },
     "execution_count": 61,
     "metadata": {},
     "output_type": "execute_result"
    }
   ],
   "source": [
    "pd.DataFrame(H).head(40)"
   ]
  },
  {
   "cell_type": "code",
   "execution_count": null,
   "id": "60fc6e90",
   "metadata": {},
   "outputs": [],
   "source": []
  },
  {
   "cell_type": "code",
   "execution_count": 62,
   "id": "20dba5c6",
   "metadata": {},
   "outputs": [],
   "source": [
    "# Dernière méthode de sélection de variables : SELECTKBEST - score_func=f_regression\n",
    "# La méthode de sélection employée ici est la sélection univariée sur la base de information mutuelle pour la régression. \n",
    "# Cette méthode élimine les variables pour lesquelles les valeurs de l’information mutuelle avec la variable de sortie \n",
    "# sont les plus faibles (c’est à dire, qui « expliquent » le moins bien la variable de sortie). \n"
   ]
  },
  {
   "cell_type": "code",
   "execution_count": 63,
   "id": "a592c564",
   "metadata": {},
   "outputs": [],
   "source": [
    "from sklearn.feature_selection import SelectKBest, f_regression, mutual_info_regression\n",
    "\n",
    "selector=SelectKBest (score_func=f_regression, k=50)"
   ]
  },
  {
   "cell_type": "code",
   "execution_count": 64,
   "id": "235b0178",
   "metadata": {},
   "outputs": [
    {
     "data": {
      "text/plain": [
       "SelectKBest(k=50, score_func=<function f_regression at 0x000001921C317A60>)"
      ]
     },
     "execution_count": 64,
     "metadata": {},
     "output_type": "execute_result"
    }
   ],
   "source": [
    "selector.fit(X_train, y_train)"
   ]
  },
  {
   "cell_type": "code",
   "execution_count": 65,
   "id": "9fa30047",
   "metadata": {},
   "outputs": [
    {
     "data": {
      "text/plain": [
       "array([ True,  True,  True,  True,  True,  True,  True,  True,  True,\n",
       "        True,  True,  True,  True, False,  True, False, False, False,\n",
       "       False,  True, False,  True,  True,  True,  True,  True,  True,\n",
       "        True, False, False, False, False,  True,  True,  True, False,\n",
       "       False, False, False, False, False, False, False, False, False,\n",
       "       False, False, False, False, False, False, False,  True, False,\n",
       "       False, False, False,  True, False, False, False, False,  True,\n",
       "        True,  True, False, False,  True, False,  True,  True, False,\n",
       "       False, False,  True,  True, False,  True,  True, False, False,\n",
       "       False,  True, False, False,  True,  True, False,  True,  True,\n",
       "       False, False,  True,  True,  True, False, False, False, False,\n",
       "       False,  True,  True,  True, False, False,  True,  True, False,\n",
       "       False, False, False])"
      ]
     },
     "execution_count": 65,
     "metadata": {},
     "output_type": "execute_result"
    }
   ],
   "source": [
    "#identification des variables sélectionnées\n",
    "selector.get_support()\n"
   ]
  },
  {
   "cell_type": "code",
   "execution_count": 66,
   "id": "4027e914",
   "metadata": {},
   "outputs": [],
   "source": [
    "H=np.array(X_train.columns)[selector.get_support()]"
   ]
  },
  {
   "cell_type": "code",
   "execution_count": 67,
   "id": "2a63de03",
   "metadata": {},
   "outputs": [
    {
     "data": {
      "text/plain": [
       "array(['valeurfonc', 'l_codinsee', 'nblocdep', 'scarrez',\n",
       "       'anarnc202012_nb_log', 'anarnc202012_nb_lot_garpark',\n",
       "       'anarnc202012_nb_lot_tertiaire', 'anarnc202012_nb_lot_tot',\n",
       "       'adedpe202006_logtype_presence_climatisation',\n",
       "       'ancqpv201410_is_qpv', 'cerffo2020_nb_log',\n",
       "       'igntop202103_bat_hauteur', 'mcumer202007_is_mer',\n",
       "       'baie_orientation_nord', 'anneemut', 'libnatmut_Vente',\n",
       "       \"libnatmut_Vente en l'état futur d'achèvement\", 'nblot_1',\n",
       "       'nblot_2', 'nblot_3', 'nblot_4', 'nblot_5', 'nblot_>10',\n",
       "       'Type appart_2P', 'Type appart_3P',\n",
       "       'adedpe202006_logtype_ch_gen_lib_princ_generateurs a effet joule',\n",
       "       'adedpe202006_logtype_ch_gen_lib_princ_reseau de chaleur',\n",
       "       'adedpe202006_logtype_classe_conso_ener_E',\n",
       "       'adedpe202006_logtype_classe_conso_ener_F',\n",
       "       'adedpe202006_logtype_classe_conso_ener_G',\n",
       "       'adedpe202006_logtype_classe_estim_ges_B',\n",
       "       'adedpe202006_logtype_classe_estim_ges_D',\n",
       "       'adedpe202006_logtype_classe_estim_ges_E',\n",
       "       'adedpe202006_logtype_traversant_Unknown',\n",
       "       'adedpe202006_logtype_traversant_non traversant',\n",
       "       'adedpe202006_logtype_traversant_traversant 90° (faible)',\n",
       "       'adedpe202006_logtype_traversant_traversant est ouest',\n",
       "       'adedpe202006_logtype_traversant_traversant tout venant',\n",
       "       'adedpe202006_logtype_ecs_type_ener_electricite',\n",
       "       'adedpe202006_logtype_ecs_type_ener_fioul',\n",
       "       'adedpe202006_logtype_ecs_type_ener_reseau de chaleur',\n",
       "       'adedpe202006_logtype_ph_pos_isol_ITE',\n",
       "       'adedpe202006_logtype_ph_pos_isol_Unknown',\n",
       "       'adedpe202006_logtype_ph_pos_isol_isole',\n",
       "       'adedpe202006_logtype_ph_pos_isol_non isole',\n",
       "       'cerffo2020_annee_construction_1949-1970',\n",
       "       'cerffo2020_annee_construction_1970-1988',\n",
       "       'cerffo2020_annee_construction_1989-1999',\n",
       "       'cerffo2020_annee_construction_<1948',\n",
       "       'cerffo2020_annee_construction_>2012'], dtype=object)"
      ]
     },
     "execution_count": 67,
     "metadata": {},
     "output_type": "execute_result"
    }
   ],
   "source": [
    "H"
   ]
  },
  {
   "cell_type": "code",
   "execution_count": 68,
   "id": "373331ad",
   "metadata": {},
   "outputs": [
    {
     "data": {
      "text/plain": [
       "0                                            valeurfonc\n",
       "1                                            l_codinsee\n",
       "2                                              nblocdep\n",
       "3                                               scarrez\n",
       "4                                   anarnc202012_nb_log\n",
       "5                           anarnc202012_nb_lot_garpark\n",
       "6                         anarnc202012_nb_lot_tertiaire\n",
       "7                               anarnc202012_nb_lot_tot\n",
       "8           adedpe202006_logtype_presence_climatisation\n",
       "9                                   ancqpv201410_is_qpv\n",
       "10                                    cerffo2020_nb_log\n",
       "11                             igntop202103_bat_hauteur\n",
       "12                                  mcumer202007_is_mer\n",
       "13                                baie_orientation_nord\n",
       "14                                             anneemut\n",
       "15                                      libnatmut_Vente\n",
       "16         libnatmut_Vente en l'état futur d'achèvement\n",
       "17                                              nblot_1\n",
       "18                                              nblot_2\n",
       "19                                              nblot_3\n",
       "20                                              nblot_4\n",
       "21                                              nblot_5\n",
       "22                                            nblot_>10\n",
       "23                                       Type appart_2P\n",
       "24                                       Type appart_3P\n",
       "25    adedpe202006_logtype_ch_gen_lib_princ_generate...\n",
       "26    adedpe202006_logtype_ch_gen_lib_princ_reseau d...\n",
       "27             adedpe202006_logtype_classe_conso_ener_E\n",
       "28             adedpe202006_logtype_classe_conso_ener_F\n",
       "29             adedpe202006_logtype_classe_conso_ener_G\n",
       "30              adedpe202006_logtype_classe_estim_ges_B\n",
       "31              adedpe202006_logtype_classe_estim_ges_D\n",
       "32              adedpe202006_logtype_classe_estim_ges_E\n",
       "33              adedpe202006_logtype_traversant_Unknown\n",
       "34       adedpe202006_logtype_traversant_non traversant\n",
       "35    adedpe202006_logtype_traversant_traversant 90°...\n",
       "36    adedpe202006_logtype_traversant_traversant est...\n",
       "37    adedpe202006_logtype_traversant_traversant tou...\n",
       "38       adedpe202006_logtype_ecs_type_ener_electricite\n",
       "39             adedpe202006_logtype_ecs_type_ener_fioul\n",
       "Name: 0, dtype: object"
      ]
     },
     "execution_count": 68,
     "metadata": {},
     "output_type": "execute_result"
    }
   ],
   "source": [
    "pd.DataFrame(H)[0].head(40)"
   ]
  },
  {
   "cell_type": "code",
   "execution_count": 69,
   "id": "47a14ecb",
   "metadata": {},
   "outputs": [],
   "source": [
    "# Voir doc Excel Sélection_var pour synthèse"
   ]
  },
  {
   "cell_type": "code",
   "execution_count": null,
   "id": "db00efc9",
   "metadata": {},
   "outputs": [],
   "source": []
  },
  {
   "cell_type": "code",
   "execution_count": null,
   "id": "5a6df8d6",
   "metadata": {},
   "outputs": [],
   "source": []
  }
 ],
 "metadata": {
  "kernelspec": {
   "display_name": "Python 3 (ipykernel)",
   "language": "python",
   "name": "python3"
  },
  "language_info": {
   "codemirror_mode": {
    "name": "ipython",
    "version": 3
   },
   "file_extension": ".py",
   "mimetype": "text/x-python",
   "name": "python",
   "nbconvert_exporter": "python",
   "pygments_lexer": "ipython3",
   "version": "3.9.7"
  }
 },
 "nbformat": 4,
 "nbformat_minor": 5
}
